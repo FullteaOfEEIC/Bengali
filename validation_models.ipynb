{
 "cells": [
  {
   "cell_type": "code",
   "execution_count": 1,
   "metadata": {},
   "outputs": [],
   "source": [
    "import numpy as np  # noqa\n",
    "import pandas as pd\n",
    "import argparse\n",
    "import tensorflow as tf\n",
    "from tqdm.auto import tqdm\n",
    "\n",
    "from tensorflow.keras import layers as L\n",
    "from tensorflow.keras.models import load_model\n",
    "from tensorflow.keras.utils import Sequence\n",
    "from tensorflow.keras.backend import clear_session\n",
    "from tensorflow.keras.optimizers import Adam\n",
    "from tensorflow.keras.losses import categorical_crossentropy\n",
    "from tensorflow.keras.metrics import categorical_accuracy, top_k_categorical_accuracy\n",
    "\n",
    "import efficientnet.tfkeras as efn\n",
    "\n",
    "import cv2\n",
    "import os"
   ]
  },
  {
   "cell_type": "code",
   "execution_count": 2,
   "metadata": {},
   "outputs": [],
   "source": [
    "os.environ[\"CUDA_VISIBLE_DEVICES\"]=\"1\""
   ]
  },
  {
   "cell_type": "code",
   "execution_count": 3,
   "metadata": {},
   "outputs": [],
   "source": [
    "models=[\"B5-25.h5\",\"B5-45.h5\",\"B5-60.h5\",\"B6-41.h5\",\"B7-30.h5\",\"B7-9.h5\",\"B6-21.h5\",\"B7-29.h5\"]"
   ]
  },
  {
   "cell_type": "code",
   "execution_count": 4,
   "metadata": {},
   "outputs": [],
   "source": [
    "def one_hot(image, label):\n",
    "  label = tf.one_hot(label, 1292)\n",
    "  return image, label\n",
    "\n",
    "def read_tfrecords(example, input_size):\n",
    "  features = {\n",
    "      'img': tf.io.FixedLenFeature([], tf.string),\n",
    "      'image_id': tf.io.FixedLenFeature([], tf.int64),\n",
    "      'grapheme_root': tf.io.FixedLenFeature([], tf.int64),\n",
    "      'vowel_diacritic': tf.io.FixedLenFeature([], tf.int64),\n",
    "      'consonant_diacritic': tf.io.FixedLenFeature([], tf.int64),\n",
    "      'unique_tuple': tf.io.FixedLenFeature([], tf.int64),\n",
    "  }\n",
    "  example = tf.io.parse_single_example(example, features)\n",
    "  img = tf.image.decode_image(example['img'])\n",
    "  img = tf.reshape(img, input_size + (1, ))\n",
    "  img = tf.cast(img, tf.float32)\n",
    "  # grayscale -> RGB\n",
    "  img = tf.repeat(img, 3, -1)\n",
    "\n",
    "  # image_id = tf.cast(example['image_id'], tf.int32)\n",
    "  # grapheme_root = tf.cast(example['grapheme_root'], tf.int32)\n",
    "  # vowel_diacritic = tf.cast(example['vowel_diacritic'], tf.int32)\n",
    "  # consonant_diacritic = tf.cast(example['consonant_diacritic'], tf.int32)\n",
    "  unique_tuple = tf.cast(example['unique_tuple'], tf.int32)\n",
    "  return img, unique_tuple"
   ]
  },
  {
   "cell_type": "code",
   "execution_count": 5,
   "metadata": {},
   "outputs": [],
   "source": [
    "parser = argparse.ArgumentParser()\n",
    "parser.add_argument('--model_id', type=int, default=0)\n",
    "parser.add_argument('--seed', type=int, default=123)\n",
    "parser.add_argument('--lr', type=float, default=2e-4)\n",
    "parser.add_argument('--input_size', type=str, default='160,256')\n",
    "parser.add_argument('--batch_size', type=int, default=32)\n",
    "parser.add_argument('--epochs', type=int, default=60)\n",
    "parser.add_argument('--backbone', type=str, default='efficientnet-b5')\n",
    "parser.add_argument('--weights', type=str, default='imagenet')\n",
    "args, _ = parser.parse_known_args()\n",
    "\n",
    "args.input_size = tuple(int(x) for x in args.input_size.split(','))\n",
    "AUTO = tf.data.experimental.AUTOTUNE\n",
    "\n",
    "val_fns = tf.io.gfile.glob('./records/val*.tfrec')\n",
    "val_ds = tf.data.TFRecordDataset(val_fns, num_parallel_reads=AUTO)\n",
    "val_ds = val_ds.map(lambda e: read_tfrecords(e, args.input_size), num_parallel_calls=AUTO)\n",
    "val_ds = val_ds.batch(args.batch_size)\n",
    "val_ds = val_ds.map(one_hot, num_parallel_calls=AUTO)"
   ]
  },
  {
   "cell_type": "code",
   "execution_count": 6,
   "metadata": {},
   "outputs": [
    {
     "data": {
      "application/vnd.jupyter.widget-view+json": {
       "model_id": "80865c35b8514667bdd6ec5b2d133de6",
       "version_major": 2,
       "version_minor": 0
      },
      "text/plain": [
       "HBox(children=(FloatProgress(value=0.0, max=9.0), HTML(value='')))"
      ]
     },
     "metadata": {},
     "output_type": "display_data"
    },
    {
     "name": "stdout",
     "output_type": "stream",
     "text": [
      "B5-25.h5\n",
      "WARNING:tensorflow:No training configuration found in save file: the model was *not* compiled. Compile it manually.\n",
      "   1256/Unknown - 99s 79ms/step - loss: 0.0977 - categorical_accuracy: 0.9750 - top_k_categorical_accuracy: 0.9980\n",
      "B5-45.h5\n",
      "WARNING:tensorflow:No training configuration found in save file: the model was *not* compiled. Compile it manually.\n",
      "   1256/Unknown - 98s 78ms/step - loss: 0.0679 - categorical_accuracy: 0.9825 - top_k_categorical_accuracy: 0.9987\n",
      "B5-60.h5\n",
      "WARNING:tensorflow:No training configuration found in save file: the model was *not* compiled. Compile it manually.\n",
      "   1256/Unknown - 96s 76ms/step - loss: 0.0700 - categorical_accuracy: 0.9818 - top_k_categorical_accuracy: 0.9988\n",
      "B6-41.h5\n",
      "WARNING:tensorflow:Large dropout rate: 0.5125 (>0.5). In TensorFlow 2.x, dropout() uses dropout rate instead of keep_prob. Please ensure that this is intended.\n",
      "WARNING:tensorflow:Large dropout rate: 0.5375 (>0.5). In TensorFlow 2.x, dropout() uses dropout rate instead of keep_prob. Please ensure that this is intended.\n",
      "WARNING:tensorflow:Large dropout rate: 0.55 (>0.5). In TensorFlow 2.x, dropout() uses dropout rate instead of keep_prob. Please ensure that this is intended.\n",
      "WARNING:tensorflow:Large dropout rate: 0.5125 (>0.5). In TensorFlow 2.x, dropout() uses dropout rate instead of keep_prob. Please ensure that this is intended.\n",
      "WARNING:tensorflow:Large dropout rate: 0.5375 (>0.5). In TensorFlow 2.x, dropout() uses dropout rate instead of keep_prob. Please ensure that this is intended.\n",
      "WARNING:tensorflow:No training configuration found in save file: the model was *not* compiled. Compile it manually.\n",
      "   1256/Unknown - 124s 99ms/step - loss: 0.0862 - categorical_accuracy: 0.9792 - top_k_categorical_accuracy: 0.9985\n",
      "B7-30.h5\n",
      "WARNING:tensorflow:No training configuration found in save file: the model was *not* compiled. Compile it manually.\n",
      "   1256/Unknown - 164s 131ms/step - loss: 0.0683 - categorical_accuracy: 0.9828 - top_k_categorical_accuracy: 0.9987\n",
      "B7-9.h5\n",
      "WARNING:tensorflow:No training configuration found in save file: the model was *not* compiled. Compile it manually.\n",
      "   1256/Unknown - 166s 132ms/step - loss: 0.0938 - categorical_accuracy: 0.9755 - top_k_categorical_accuracy: 0.9978\n",
      "B6-21.h5\n",
      "WARNING:tensorflow:No training configuration found in save file: the model was *not* compiled. Compile it manually.\n",
      "   1256/Unknown - 124s 98ms/step - loss: 0.0953 - categorical_accuracy: 0.9763 - top_k_categorical_accuracy: 0.9978\n",
      "B7-29.h5\n",
      "WARNING:tensorflow:No training configuration found in save file: the model was *not* compiled. Compile it manually.\n",
      "   1256/Unknown - 97s 77ms/step - loss: 0.0727 - categorical_accuracy: 0.9811 - top_k_categorical_accuracy: 0.9987\n",
      "B7-9.h5\n",
      "WARNING:tensorflow:No training configuration found in save file: the model was *not* compiled. Compile it manually.\n",
      "   1256/Unknown - 164s 130ms/step - loss: 0.0938 - categorical_accuracy: 0.9755 - top_k_categorical_accuracy: 0.9978\n",
      "\n"
     ]
    }
   ],
   "source": [
    "for modelName in tqdm(models):\n",
    "    print(modelName)\n",
    "    model = load_model(modelName)\n",
    "    model.compile(optimizer=Adam(lr=args.lr), loss=categorical_crossentropy, metrics=[categorical_accuracy, top_k_categorical_accuracy])\n",
    "    model.evaluate(val_ds)\n",
    "    del model\n",
    "    clear_session()\n",
    "    print()"
   ]
  },
  {
   "cell_type": "code",
   "execution_count": null,
   "metadata": {},
   "outputs": [],
   "source": []
  }
 ],
 "metadata": {
  "kernelspec": {
   "display_name": "Python 3",
   "language": "python",
   "name": "python3"
  },
  "language_info": {
   "codemirror_mode": {
    "name": "ipython",
    "version": 3
   },
   "file_extension": ".py",
   "mimetype": "text/x-python",
   "name": "python",
   "nbconvert_exporter": "python",
   "pygments_lexer": "ipython3",
   "version": "3.6.5"
  }
 },
 "nbformat": 4,
 "nbformat_minor": 4
}
