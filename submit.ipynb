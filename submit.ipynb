{
 "cells": [
  {
   "cell_type": "code",
   "execution_count": 1,
   "metadata": {},
   "outputs": [],
   "source": [
    "import pickle\n",
    "import scipy.stats as stats\n",
    "import numpy as np\n",
    "import pyarrow as pa\n",
    "import pyarrow.parquet as pq\n",
    "import pandas as pd\n",
    "from multiprocessing import Pool\n",
    "from tqdm.notebook import tqdm\n",
    "import cv2\n",
    "import scipy.stats as stats"
   ]
  },
  {
   "cell_type": "code",
   "execution_count": null,
   "metadata": {},
   "outputs": [],
   "source": [
    "yEval=pd.read_csv(\"data/test.csv\")\n",
    "tables = [pq.read_table('data/test_image_data_{0}.parquet'.format(i)) for i in range(4)]\n",
    "tables = [table.to_pandas() for table in tables]\n",
    "dfEval = pd.concat(tables)\n",
    "dfEval = dfEval.set_index(\"image_id\")"
   ]
  },
  {
   "cell_type": "code",
   "execution_count": 3,
   "metadata": {},
   "outputs": [],
   "source": [
    "labels = [\"grapheme_root\",\"vowel_diacritic\",\"consonant_diacritic\"]"
   ]
  },
  {
   "cell_type": "code",
   "execution_count": null,
   "metadata": {},
   "outputs": [],
   "source": [
    "size=(60,60)\n",
    "\n",
    "def transformImg(img):\n",
    "    img=255-img\n",
    "    mu = cv2.moments(img, False)\n",
    "    x, y= mu[\"m10\"]/mu[\"m00\"] , mu[\"m01\"]/mu[\"m00\"]\n",
    "    M = np.float32([[1,0,(236/2)-x],[0,1,(137/2)-y]])\n",
    "    img = cv2.warpAffine(img,M,(img.shape[1],img.shape[0]))\n",
    "    img = cv2.resize(img, (size[0],size[1]))\n",
    "    return img\n",
    "\n",
    "imgs=dfEval.values.reshape(-1,137,236)\n",
    "with Pool() as p:\n",
    "    imap=p.imap(transformImg,imgs)\n",
    "    imgs=list(tqdm(imap,total=imgs.shape[0]))\n",
    "\n",
    "XEval = np.asarray(imgs).astype(np.float32)/255.0\n",
    "XEval = XEval.reshape(-1,size[0],size[1],1)"
   ]
  },
  {
   "cell_type": "code",
   "execution_count": null,
   "metadata": {},
   "outputs": [],
   "source": [
    "ans = pd.DataFrame(index=dfEval.index)"
   ]
  },
  {
   "cell_type": "code",
   "execution_count": null,
   "metadata": {},
   "outputs": [],
   "source": [
    "for label in labels:\n",
    "    y_preds = []\n",
    "    for key, value in tqdm(db[label]):\n",
    "        model = pickle.loads(value)\n",
    "        try:\n",
    "            y_pred = model.predict(XEval)\n",
    "            y_pred = np.argmax(y_pred, axis=1)\n",
    "            y_preds.append(y_pred)\n",
    "        except:\n",
    "            print(model)\n",
    "    y_preds = np.asarray(y_preds)\n",
    "    y_pred, _ = stats.mode(y_preds,axis=0)\n",
    "    y_pred = y_pred.reshape(-1,)\n",
    "    ans[label] = y_pred"
   ]
  },
  {
   "cell_type": "code",
   "execution_count": null,
   "metadata": {},
   "outputs": [],
   "source": [
    "with open(\"submission.csv\", \"w\") as fp:\n",
    "    fp.write(\"row_id, target\\n\")\n",
    "    for row_id,consonant,grapheme,vowel in zip(ans.index, ans[\"consonant_diacritic\"],ans[\"grapheme_root\"],ans[\"vowel_diacritic\"]):\n",
    "        fp.write(\"{0}_consonant_diacritic, {1}\\n\".format(row_id,consonant))\n",
    "        fp.write(\"{0}_grapheme_root, {1}\\n\".format(row_id,grapheme))\n",
    "        fp.write(\"{0}_vowel_diacritic, {1}\\n\".format(row_id,vowel))"
   ]
  }
 ],
 "metadata": {
  "kernelspec": {
   "display_name": "Python 3",
   "language": "python",
   "name": "python3"
  },
  "language_info": {
   "codemirror_mode": {
    "name": "ipython",
    "version": 3
   },
   "file_extension": ".py",
   "mimetype": "text/x-python",
   "name": "python",
   "nbconvert_exporter": "python",
   "pygments_lexer": "ipython3",
   "version": "3.6.5"
  }
 },
 "nbformat": 4,
 "nbformat_minor": 2
}
