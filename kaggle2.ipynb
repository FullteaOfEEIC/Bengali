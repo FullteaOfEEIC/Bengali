{
 "cells": [
  {
   "cell_type": "code",
   "execution_count": 1,
   "metadata": {},
   "outputs": [
    {
     "name": "stderr",
     "output_type": "stream",
     "text": [
      "Using TensorFlow backend.\n"
     ]
    }
   ],
   "source": [
    "import pandas as pd\n",
    "import numpy as np\n",
    "import cv2\n",
    "import os\n",
    "import re\n",
    "import sys\n",
    "from collections import Counter\n",
    "import seaborn as sns\n",
    "import pyarrow as pa\n",
    "import pyarrow.parquet as pq\n",
    "import matplotlib.pyplot as plt\n",
    "from tqdm.notebook import tqdm\n",
    "import multiprocessing\n",
    "from multiprocessing import Pool\n",
    "import itertools\n",
    "from copy import deepcopy\n",
    "\n",
    "import xgboost as xgb\n",
    "from sklearn.model_selection import train_test_split\n",
    "from sklearn.metrics import accuracy_score, confusion_matrix\n",
    "from sklearn.ensemble import RandomForestClassifier\n",
    "\n",
    "from keras.models import Sequential, Model\n",
    "from keras.layers import Dense, Dropout, Flatten, Conv2D, MaxPool2D, BatchNormalization, GlobalAveragePooling2D\n",
    "from keras.optimizers import Adam\n",
    "from keras.utils import to_categorical, Sequence\n",
    "from keras.callbacks import EarlyStopping, ModelCheckpoint\n",
    "from keras.applications.resnet_v2 import ResNet152V2, preprocess_input\n",
    "from keras.applications.xception import Xception\n",
    "from keras.applications.densenet import DenseNet121, DenseNet169#, preprocess_input\n",
    "from keras.applications.mobilenet_v2 import MobileNetV2\n",
    "from keras.utils import multi_gpu_model\n",
    "import tensorflow as tf\n",
    "\n",
    "from datetime import datetime\n",
    "import pickle\n",
    "import scipy.stats as stats\n",
    "import os\n",
    "import sklearn.metrics"
   ]
  },
  {
   "cell_type": "code",
   "execution_count": 2,
   "metadata": {},
   "outputs": [],
   "source": [
    "os.environ[\"CUDA_VISIBLE_DEVICES\"]=\"1\""
   ]
  },
  {
   "cell_type": "code",
   "execution_count": 3,
   "metadata": {},
   "outputs": [],
   "source": [
    "y = pd.read_csv(\"data/train.csv\")\n",
    "yEval = pd.read_csv(\"data/test.csv\")\n",
    "classMap = pd.read_csv(\"data/class_map.csv\")"
   ]
  },
  {
   "cell_type": "code",
   "execution_count": 4,
   "metadata": {},
   "outputs": [],
   "source": [
    "labels = [\"grapheme_root\",\"vowel_diacritic\",\"consonant_diacritic\"]"
   ]
  },
  {
   "cell_type": "code",
   "execution_count": 5,
   "metadata": {},
   "outputs": [],
   "source": [
    "y = y.set_index(\"image_id\")"
   ]
  },
  {
   "cell_type": "code",
   "execution_count": 6,
   "metadata": {},
   "outputs": [],
   "source": [
    "tables = [pq.read_table('data/train_image_data_{0}.parquet'.format(i)) for i in range(4)]\n",
    "tables = [table.to_pandas() for table in tables]\n",
    "df = pd.concat(tables)\n",
    "df = df.set_index(\"image_id\")\n",
    "del tables"
   ]
  },
  {
   "cell_type": "code",
   "execution_count": 7,
   "metadata": {},
   "outputs": [],
   "source": [
    "size=(137,137)\n",
    "\n",
    "def transformImg(img):\n",
    "    img=255-img\n",
    "    mu = cv2.moments(img, False)\n",
    "    x, y= mu[\"m10\"]/mu[\"m00\"] , mu[\"m01\"]/mu[\"m00\"]\n",
    "    M = np.float32([[1,0,(236/2)-x],[0,1,(137/2)-y]])\n",
    "    img = cv2.warpAffine(img,M,(img.shape[1],img.shape[0]))\n",
    "    img = cv2.cvtColor(img, cv2.COLOR_GRAY2RGB)\n",
    "    kernel = np.ones((5,5),np.float32)/25\n",
    "    img = cv2.filter2D(img,-1,kernel)\n",
    "    img = cv2.filter2D(img,-1,kernel)\n",
    "    img = cv2.resize(img, (size[0],size[1]))\n",
    "    #img = preprocess_input(img)\n",
    "    return img\n",
    "\n",
    "def randomErase(img, prob=True):\n",
    "    # random erasing\n",
    "    # https://github.com/yu4u/cutout-random-erasing\n",
    "    p = 0.5\n",
    "    s_l = 0.02\n",
    "    s_h = 0.4\n",
    "    r_1 = 0.3\n",
    "    r_2 = 1 / 0.3\n",
    "    v_l = 0\n",
    "    v_h = 255\n",
    "    input_size=size[0]\n",
    "    if prob==False or np.random.random()<p:\n",
    "\n",
    "        while True:\n",
    "            s = np.random.uniform(s_l, s_h) * input_size * input_size\n",
    "            r = np.random.uniform(r_1, r_2)\n",
    "            w = int(np.sqrt(s / r))\n",
    "            h = int(np.sqrt(s * r))\n",
    "            left = np.random.randint(0, input_size)\n",
    "            top = np.random.randint(0, input_size)\n",
    "            if left + w <= input_size and top + h <= input_size:\n",
    "                break\n",
    "        c = np.random.uniform(v_l, v_h, (h, w, 3))\n",
    "        img[top : top + h, left : left + w, :] = c\n",
    "    return img"
   ]
  },
  {
   "cell_type": "code",
   "execution_count": 8,
   "metadata": {},
   "outputs": [],
   "source": [
    "class DataLoader(Sequence):\n",
    "    def __init__(self,X,y,training,batch_size=64):\n",
    "        self.training = training\n",
    "        self.batch_size=batch_size\n",
    "        self.X=X\n",
    "        self.y=y\n",
    "\n",
    "    def __len__(self):\n",
    "        return int(np.ceil(self.X.shape[0] / self.batch_size))\n",
    "\n",
    "\n",
    "    def __getitem__(self, i):\n",
    "        _imgs=self.X[i * self.batch_size:(i + 1) * self.batch_size,:,:]\n",
    "        imgs=[]\n",
    "        for img in _imgs:\n",
    "            imgs.append(transformImg(img))\n",
    "        \n",
    "        imgs=np.asarray(imgs).astype(np.float32)\n",
    "        \n",
    "        \n",
    "        ret_y=[]\n",
    "        for label in labels:\n",
    "            ret_y.append(to_categorical(self.y[i * self.batch_size:(i + 1) * self.batch_size][label],num_classes=len(set(y[label]))))\n",
    "    \n",
    "    \n",
    "        #mix up\n",
    "        if self.training and np.random.random()<0.8:\n",
    "        #if self.training:\n",
    "            r= np.random.permutation(imgs.shape[0])\n",
    "            imgs2=deepcopy(imgs)[r]\n",
    "            grapheme=ret_y[0]\n",
    "            vowel=ret_y[1]\n",
    "            consonant=ret_y[2]\n",
    "            grapheme2=deepcopy(grapheme)[r]\n",
    "            vowel2=deepcopy(vowel)[r]\n",
    "            consonant2=deepcopy(consonant)[r]\n",
    "            alpha=np.random.rand(imgs.shape[0])\n",
    "            imgs=np.tile(alpha,(3,*size,1)).T*imgs+np.tile((1-alpha),(3,*size,1)).T*imgs2\n",
    "            grapheme=np.tile(alpha,(168,1)).T*grapheme+np.tile((1-alpha),(168,1)).T*grapheme2\n",
    "            vowel=np.tile(alpha,(11,1)).T*vowel+np.tile((1-alpha),(11,1)).T*vowel2\n",
    "            consonant=np.tile(alpha,(7,1)).T*consonant+np.tile((1-alpha),(7,1)).T*consonant2\n",
    "            grapheme=grapheme.astype(np.float32)\n",
    "            vowel=vowel.astype(np.float32)\n",
    "            consonant=consonant.astype(np.float32)\n",
    "            ret_y=[grapheme,vowel,consonant]\n",
    "            \n",
    "        if self.training:\n",
    "            imgs = [randomErase(img) for img in imgs]\n",
    "        imgs = np.asarray(imgs).astype(np.float32)/255.0\n",
    "            \n",
    "\n",
    "        return imgs, ret_y\n",
    "\n"
   ]
  },
  {
   "cell_type": "code",
   "execution_count": 9,
   "metadata": {},
   "outputs": [],
   "source": [
    "def getResBased(cat=168):\n",
    "    model =  ResNet152V2(weights=\"imagenet\", include_top=False)\n",
    "    x = model.output\n",
    "    x = GlobalAveragePooling2D()(x)\n",
    "    x = Dense(256, activation=\"relu\")(x)\n",
    "    classifier = Dense(cat, activation=\"softmax\")(x)\n",
    "    model = Model(inputs=model.input, outputs=classifier)\n",
    "    return model\n",
    "\n",
    "def getDenseBased(cat=168):\n",
    "    model =  DenseNet121(weights=\"imagenet\", include_top=False)\n",
    "    x = model.output\n",
    "    x = GlobalAveragePooling2D()(x)\n",
    "    x = Dense(256, activation=\"relu\")(x)\n",
    "    classifier = Dense(cat, activation=\"softmax\")(x)\n",
    "    model = Model(inputs=model.input, outputs=classifier)\n",
    "    return model\n",
    "\n",
    "def getMultiResBased():\n",
    "    model =  ResNet152V2(weights=\"imagenet\", include_top=False)\n",
    "    x = model.output\n",
    "    x = GlobalAveragePooling2D()(x)\n",
    "    x = Dense(256, activation=\"relu\")(x)\n",
    "    grapheme = Dense(168, activation=\"softmax\")(x)\n",
    "    vowel = Dense(11,activation=\"softmax\")(x)\n",
    "    consonant = Dense(7, activation=\"softmax\")(x)\n",
    "    model = Model(inputs=model.input, outputs=[grapheme,vowel,consonant])\n",
    "    return model\n",
    "\n",
    "def getMultiDenseBased():\n",
    "    model =  DenseNet169(weights=\"imagenet\", include_top=False)\n",
    "    x = model.output\n",
    "    x = GlobalAveragePooling2D()(x)\n",
    "    x = Dense(256, activation=\"relu\")(x)\n",
    "    grapheme = Dense(168, activation=\"softmax\")(x)\n",
    "    vowel = Dense(11,activation=\"softmax\")(x)\n",
    "    consonant = Dense(7, activation=\"softmax\")(x)\n",
    "    model = Model(inputs=model.input, outputs=[grapheme,vowel,consonant])\n",
    "    return model\n",
    "\n",
    "\n",
    "def getMultiXceptionBased():\n",
    "    model =  Xception(weights=\"imagenet\", include_top=False)\n",
    "    x = model.output\n",
    "    x = GlobalAveragePooling2D()(x)\n",
    "    x = Dense(256, activation=\"relu\")(x)\n",
    "    grapheme = Dense(168, activation=\"softmax\")(x)\n",
    "    vowel = Dense(11,activation=\"softmax\")(x)\n",
    "    consonant = Dense(7, activation=\"softmax\")(x)\n",
    "    model = Model(inputs=model.input, outputs=[grapheme,vowel,consonant])\n",
    "    return model\n",
    "\n",
    "\n",
    "def getMultiMobileBased():\n",
    "    model =  MobileNetV2(weights=\"imagenet\", include_top=False)\n",
    "    x = model.output\n",
    "    x = GlobalAveragePooling2D()(x)\n",
    "    x = Dense(256, activation=\"relu\")(x)\n",
    "    grapheme = Dense(168, activation=\"softmax\")(x)\n",
    "    vowel = Dense(11,activation=\"softmax\")(x)\n",
    "    consonant = Dense(7, activation=\"softmax\")(x)\n",
    "    model = Model(inputs=model.input, outputs=[grapheme,vowel,consonant])\n",
    "    return model"
   ]
  },
  {
   "cell_type": "code",
   "execution_count": 10,
   "metadata": {},
   "outputs": [],
   "source": [
    "X_train, X_test, y_train, y_test = train_test_split(df.values.reshape(-1,137,236),y,train_size=0.9,random_state=8000)"
   ]
  },
  {
   "cell_type": "code",
   "execution_count": 11,
   "metadata": {},
   "outputs": [],
   "source": [
    "early_stopping =  EarlyStopping(monitor='val_loss', min_delta=0.0, patience=20)\n",
    "checkpoint = ModelCheckpoint(filepath=\"weightsXceptiontwice2-epoch{epoch:04}.h5\")"
   ]
  },
  {
   "cell_type": "code",
   "execution_count": null,
   "metadata": {},
   "outputs": [
    {
     "name": "stdout",
     "output_type": "stream",
     "text": [
      "compiled\n",
      "Epoch 1/80\n",
      "2824/2825 [============================>.] - ETA: 0s - loss: 7.0525 - dense_2_loss: 2.6963 - dense_3_loss: 1.0310 - dense_4_loss: 0.6289 - dense_2_acc: 0.5135 - dense_3_acc: 0.7689 - dense_4_acc: 0.8443Epoch 1/80\n",
      "Epoch 1/80\n",
      "2825/2825 [==============================] - 967s 342ms/step - loss: 7.0524 - dense_2_loss: 2.6962 - dense_3_loss: 1.0310 - dense_4_loss: 0.6288 - dense_2_acc: 0.5135 - dense_3_acc: 0.7690 - dense_4_acc: 0.8444 - val_loss: 1.1385 - val_dense_2_loss: 0.4852 - val_dense_3_loss: 0.2169 - val_dense_4_loss: 0.1476 - val_dense_2_acc: 0.8748 - val_dense_3_acc: 0.9571 - val_dense_4_acc: 0.9630\n",
      "Epoch 2/80\n",
      "2825/2825 [==============================] - 939s 333ms/step - loss: 5.5362 - dense_2_loss: 2.0835 - dense_3_loss: 0.8428 - dense_4_loss: 0.5263 - dense_2_acc: 0.6894 - dense_3_acc: 0.8341 - dense_4_acc: 0.8848 - val_loss: 0.8454 - val_dense_2_loss: 0.4074 - val_dense_3_loss: 0.1679 - val_dense_4_loss: 0.1337 - val_dense_2_acc: 0.9085 - val_dense_3_acc: 0.9736 - val_dense_4_acc: 0.9748\n",
      "Epoch 3/80\n",
      " 386/2825 [===>..........................] - ETA: 13:09 - loss: 5.9685 - dense_2_loss: 2.2424 - dense_3_loss: 0.9118 - dense_4_loss: 0.5719 - dense_2_acc: 0.6811 - dense_3_acc: 0.8201 - dense_4_acc: 0.8767"
     ]
    },
    {
     "name": "stderr",
     "output_type": "stream",
     "text": [
      "IOPub data rate exceeded.\n",
      "The notebook server will temporarily stop sending output\n",
      "to the client in order to avoid crashing it.\n",
      "To change this limit, set the config variable\n",
      "`--NotebookApp.iopub_data_rate_limit`.\n",
      "\n",
      "Current values:\n",
      "NotebookApp.iopub_data_rate_limit=1000000.0 (bytes/sec)\n",
      "NotebookApp.rate_limit_window=3.0 (secs)\n",
      "\n"
     ]
    },
    {
     "name": "stdout",
     "output_type": "stream",
     "text": [
      "2825/2825 [==============================] - 940s 333ms/step - loss: 4.5188 - dense_2_loss: 1.6839 - dense_3_loss: 0.6976 - dense_4_loss: 0.4534 - dense_2_acc: 0.7424 - dense_3_acc: 0.8553 - dense_4_acc: 0.8982 - val_loss: 0.6145 - val_dense_2_loss: 0.2760 - val_dense_3_loss: 0.1223 - val_dense_4_loss: 0.0801 - val_dense_2_acc: 0.9407 - val_dense_3_acc: 0.9810 - val_dense_4_acc: 0.9836\n",
      "Epoch 7/80\n",
      " 552/2825 [====>.........................] - ETA: 12:14 - loss: 5.0133 - dense_2_loss: 1.8630 - dense_3_loss: 0.7801 - dense_4_loss: 0.5074 - dense_2_acc: 0.7158 - dense_3_acc: 0.8394 - dense_4_acc: 0.8862"
     ]
    },
    {
     "name": "stderr",
     "output_type": "stream",
     "text": [
      "IOPub data rate exceeded.\n",
      "The notebook server will temporarily stop sending output\n",
      "to the client in order to avoid crashing it.\n",
      "To change this limit, set the config variable\n",
      "`--NotebookApp.iopub_data_rate_limit`.\n",
      "\n",
      "Current values:\n",
      "NotebookApp.iopub_data_rate_limit=1000000.0 (bytes/sec)\n",
      "NotebookApp.rate_limit_window=3.0 (secs)\n",
      "\n"
     ]
    },
    {
     "name": "stdout",
     "output_type": "stream",
     "text": [
      "2825/2825 [==============================] - 941s 333ms/step - loss: 4.1222 - dense_2_loss: 1.5233 - dense_3_loss: 0.6468 - dense_4_loss: 0.4287 - dense_2_acc: 0.7575 - dense_3_acc: 0.8674 - dense_4_acc: 0.9051 - val_loss: 0.4605 - val_dense_2_loss: 0.2154 - val_dense_3_loss: 0.0942 - val_dense_4_loss: 0.0659 - val_dense_2_acc: 0.9437 - val_dense_3_acc: 0.9825 - val_dense_4_acc: 0.9830\n",
      "Epoch 10/80\n",
      "1545/2825 [===============>..............] - ETA: 6:52 - loss: 4.0903 - dense_2_loss: 1.5075 - dense_3_loss: 0.6473 - dense_4_loss: 0.4280 - dense_2_acc: 0.7610 - dense_3_acc: 0.8709 - dense_4_acc: 0.9065"
     ]
    },
    {
     "name": "stderr",
     "output_type": "stream",
     "text": [
      "IOPub data rate exceeded.\n",
      "The notebook server will temporarily stop sending output\n",
      "to the client in order to avoid crashing it.\n",
      "To change this limit, set the config variable\n",
      "`--NotebookApp.iopub_data_rate_limit`.\n",
      "\n",
      "Current values:\n",
      "NotebookApp.iopub_data_rate_limit=1000000.0 (bytes/sec)\n",
      "NotebookApp.rate_limit_window=3.0 (secs)\n",
      "\n"
     ]
    },
    {
     "name": "stdout",
     "output_type": "stream",
     "text": [
      "2825/2825 [==============================] - 940s 333ms/step - loss: 3.7506 - dense_2_loss: 1.3702 - dense_3_loss: 0.6053 - dense_4_loss: 0.4050 - dense_2_acc: 0.7732 - dense_3_acc: 0.8822 - dense_4_acc: 0.9141 - val_loss: 0.3712 - val_dense_2_loss: 0.1822 - val_dense_3_loss: 0.0643 - val_dense_4_loss: 0.0563 - val_dense_2_acc: 0.9535 - val_dense_3_acc: 0.9873 - val_dense_4_acc: 0.9872\n",
      "Epoch 14/80\n",
      "1614/2825 [================>.............] - ETA: 6:31 - loss: 3.7309 - dense_2_loss: 1.3617 - dense_3_loss: 0.6032 - dense_4_loss: 0.4042 - dense_2_acc: 0.7747 - dense_3_acc: 0.8846 - dense_4_acc: 0.9165"
     ]
    },
    {
     "name": "stderr",
     "output_type": "stream",
     "text": [
      "IOPub data rate exceeded.\n",
      "The notebook server will temporarily stop sending output\n",
      "to the client in order to avoid crashing it.\n",
      "To change this limit, set the config variable\n",
      "`--NotebookApp.iopub_data_rate_limit`.\n",
      "\n",
      "Current values:\n",
      "NotebookApp.iopub_data_rate_limit=1000000.0 (bytes/sec)\n",
      "NotebookApp.rate_limit_window=3.0 (secs)\n",
      "\n"
     ]
    },
    {
     "name": "stdout",
     "output_type": "stream",
     "text": [
      "2825/2825 [==============================] - 941s 333ms/step - loss: 3.5565 - dense_2_loss: 1.2926 - dense_3_loss: 0.5799 - dense_4_loss: 0.3914 - dense_2_acc: 0.7807 - dense_3_acc: 0.8886 - dense_4_acc: 0.9184 - val_loss: 0.3130 - val_dense_2_loss: 0.1869 - val_dense_3_loss: 0.0626 - val_dense_4_loss: 0.0583 - val_dense_2_acc: 0.9532 - val_dense_3_acc: 0.9875 - val_dense_4_acc: 0.9863\n",
      "Epoch 17/80\n",
      "2825/2825 [==============================] - 940s 333ms/step - loss: 3.4957 - dense_2_loss: 1.2669 - dense_3_loss: 0.5745 - dense_4_loss: 0.3873 - dense_2_acc: 0.7825 - dense_3_acc: 0.8901 - dense_4_acc: 0.9206 - val_loss: 0.2332 - val_dense_2_loss: 0.1743 - val_dense_3_loss: 0.0602 - val_dense_4_loss: 0.0516 - val_dense_2_acc: 0.9564 - val_dense_3_acc: 0.9877 - val_dense_4_acc: 0.9874\n",
      "Epoch 18/80\n",
      "2825/2825 [==============================] - 939s 332ms/step - loss: 3.4469 - dense_2_loss: 1.2462 - dense_3_loss: 0.5700 - dense_4_loss: 0.3845 - dense_2_acc: 0.7844 - dense_3_acc: 0.8924 - dense_4_acc: 0.9210 - val_loss: 0.2820 - val_dense_2_loss: 0.1666 - val_dense_3_loss: 0.0521 - val_dense_4_loss: 0.0472 - val_dense_2_acc: 0.9569 - val_dense_3_acc: 0.9881 - val_dense_4_acc: 0.9881\n",
      "Epoch 19/80\n",
      "2825/2825 [==============================] - 939s 332ms/step - loss: 3.4001 - dense_2_loss: 1.2277 - dense_3_loss: 0.5642 - dense_4_loss: 0.3805 - dense_2_acc: 0.7886 - dense_3_acc: 0.8959 - dense_4_acc: 0.9233 - val_loss: 0.1935 - val_dense_2_loss: 0.1726 - val_dense_3_loss: 0.0623 - val_dense_4_loss: 0.0529 - val_dense_2_acc: 0.9579 - val_dense_3_acc: 0.9872 - val_dense_4_acc: 0.9874\n",
      "Epoch 20/80\n",
      "2825/2825 [==============================] - 938s 332ms/step - loss: 3.3508 - dense_2_loss: 1.2067 - dense_3_loss: 0.5589 - dense_4_loss: 0.3784 - dense_2_acc: 0.7903 - dense_3_acc: 0.8963 - dense_4_acc: 0.9241 - val_loss: 0.1872 - val_dense_2_loss: 0.1704 - val_dense_3_loss: 0.0640 - val_dense_4_loss: 0.0579 - val_dense_2_acc: 0.9577 - val_dense_3_acc: 0.9879 - val_dense_4_acc: 0.9875\n",
      "Epoch 21/80\n",
      "2825/2825 [==============================] - 941s 333ms/step - loss: 3.3016 - dense_2_loss: 1.1862 - dense_3_loss: 0.5549 - dense_4_loss: 0.3743 - dense_2_acc: 0.7911 - dense_3_acc: 0.8965 - dense_4_acc: 0.9256 - val_loss: 0.3545 - val_dense_2_loss: 0.1687 - val_dense_3_loss: 0.0583 - val_dense_4_loss: 0.0495 - val_dense_2_acc: 0.9564 - val_dense_3_acc: 0.9888 - val_dense_4_acc: 0.9882\n",
      "Epoch 22/80\n",
      "2825/2825 [==============================] - 940s 333ms/step - loss: 3.2664 - dense_2_loss: 1.1714 - dense_3_loss: 0.5521 - dense_4_loss: 0.3714 - dense_2_acc: 0.7934 - dense_3_acc: 0.8973 - dense_4_acc: 0.9264 - val_loss: 0.1960 - val_dense_2_loss: 0.1594 - val_dense_3_loss: 0.0561 - val_dense_4_loss: 0.0495 - val_dense_2_acc: 0.9586 - val_dense_3_acc: 0.9881 - val_dense_4_acc: 0.9882\n",
      "Epoch 23/80\n",
      "2825/2825 [==============================] - 939s 332ms/step - loss: 3.2207 - dense_2_loss: 1.1526 - dense_3_loss: 0.5469 - dense_4_loss: 0.3685 - dense_2_acc: 0.7962 - dense_3_acc: 0.8985 - dense_4_acc: 0.9269 - val_loss: 0.2399 - val_dense_2_loss: 0.1656 - val_dense_3_loss: 0.0589 - val_dense_4_loss: 0.0515 - val_dense_2_acc: 0.9579 - val_dense_3_acc: 0.9882 - val_dense_4_acc: 0.9879\n",
      "Epoch 24/80\n",
      "2825/2825 [==============================] - 939s 333ms/step - loss: 3.2030 - dense_2_loss: 1.1455 - dense_3_loss: 0.5433 - dense_4_loss: 0.3687 - dense_2_acc: 0.7952 - dense_3_acc: 0.9007 - dense_4_acc: 0.9272 - val_loss: 0.2067 - val_dense_2_loss: 0.1692 - val_dense_3_loss: 0.0543 - val_dense_4_loss: 0.0483 - val_dense_2_acc: 0.9589 - val_dense_3_acc: 0.9888 - val_dense_4_acc: 0.9885\n",
      "Epoch 25/80\n",
      "2825/2825 [==============================] - 939s 332ms/step - loss: 3.1553 - dense_2_loss: 1.1262 - dense_3_loss: 0.5386 - dense_4_loss: 0.3643 - dense_2_acc: 0.7984 - dense_3_acc: 0.9017 - dense_4_acc: 0.9282 - val_loss: 0.3722 - val_dense_2_loss: 0.1572 - val_dense_3_loss: 0.0560 - val_dense_4_loss: 0.0505 - val_dense_2_acc: 0.9619 - val_dense_3_acc: 0.9885 - val_dense_4_acc: 0.9874\n",
      "Epoch 26/80\n",
      "2825/2825 [==============================] - 941s 333ms/step - loss: 3.1332 - dense_2_loss: 1.1161 - dense_3_loss: 0.5366 - dense_4_loss: 0.3643 - dense_2_acc: 0.8004 - dense_3_acc: 0.9015 - dense_4_acc: 0.9292 - val_loss: 0.2932 - val_dense_2_loss: 0.1567 - val_dense_3_loss: 0.0552 - val_dense_4_loss: 0.0500 - val_dense_2_acc: 0.9593 - val_dense_3_acc: 0.9880 - val_dense_4_acc: 0.9877\n",
      "Epoch 27/80\n",
      "2349/2825 [=======================>......] - ETA: 2:34 - loss: 3.1555 - dense_2_loss: 1.1221 - dense_3_loss: 0.5441 - dense_4_loss: 0.3672 - dense_2_acc: 0.7987 - dense_3_acc: 0.9023 - dense_4_acc: 0.9288"
     ]
    }
   ],
   "source": [
    "train_gen = DataLoader(X_train, y_train, training=True, batch_size=64)\n",
    "valid_gen = DataLoader(X_test, y_test, training=False, batch_size=64)\n",
    "model = getMultiXceptionBased()\n",
    "model.compile(optimizer=Adam(), metrics=[\"acc\"], loss=\"categorical_crossentropy\", loss_weights=[2.,1.,1.])\n",
    "print(\"compiled\")\n",
    "model.fit_generator(train_gen, validation_data=valid_gen, epochs=80, callbacks=[early_stopping, checkpoint], workers=multiprocessing.cpu_count(), use_multiprocessing=True)\n",
    "model.save(\"multixception2.h5\")"
   ]
  },
  {
   "cell_type": "code",
   "execution_count": null,
   "metadata": {},
   "outputs": [],
   "source": [
    "model.fit_generator(train_gen, validation_data=valid_gen, epochs=40, callbacks=[early_stopping, checkpoint], workers=multiprocessing.cpu_count(), use_multiprocessing=True)\n",
    "model.save(\"multixception2.h5\")"
   ]
  },
  {
   "cell_type": "code",
   "execution_count": null,
   "metadata": {},
   "outputs": [],
   "source": []
  }
 ],
 "metadata": {
  "kernelspec": {
   "display_name": "Python 3",
   "language": "python",
   "name": "python3"
  },
  "language_info": {
   "codemirror_mode": {
    "name": "ipython",
    "version": 3
   },
   "file_extension": ".py",
   "mimetype": "text/x-python",
   "name": "python",
   "nbconvert_exporter": "python",
   "pygments_lexer": "ipython3",
   "version": "3.6.5"
  }
 },
 "nbformat": 4,
 "nbformat_minor": 2
}
