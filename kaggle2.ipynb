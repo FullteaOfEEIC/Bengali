{
 "cells": [
  {
   "cell_type": "code",
   "execution_count": 1,
   "metadata": {},
   "outputs": [
    {
     "name": "stderr",
     "output_type": "stream",
     "text": [
      "Using TensorFlow backend.\n"
     ]
    }
   ],
   "source": [
    "import pandas as pd\n",
    "import numpy as np\n",
    "import cv2\n",
    "import os\n",
    "import re\n",
    "import sys\n",
    "from collections import Counter\n",
    "import seaborn as sns\n",
    "import pyarrow as pa\n",
    "import pyarrow.parquet as pq\n",
    "import matplotlib.pyplot as plt\n",
    "from tqdm.notebook import tqdm\n",
    "import multiprocessing\n",
    "from multiprocessing import Pool\n",
    "import itertools\n",
    "from copy import deepcopy\n",
    "\n",
    "import xgboost as xgb\n",
    "from sklearn.model_selection import train_test_split\n",
    "from sklearn.metrics import accuracy_score, confusion_matrix\n",
    "from sklearn.ensemble import RandomForestClassifier\n",
    "\n",
    "from keras.models import Sequential, Model\n",
    "from keras.layers import Dense, Dropout, Flatten, Conv2D, MaxPool2D, BatchNormalization, GlobalAveragePooling2D, PReLU\n",
    "from keras.optimizers import Adam\n",
    "from keras.utils import to_categorical, Sequence\n",
    "from keras.callbacks import EarlyStopping, ModelCheckpoint\n",
    "from keras.applications.resnet_v2 import ResNet152V2, preprocess_input\n",
    "from keras.applications.xception import Xception\n",
    "from keras.applications.densenet import DenseNet121, DenseNet169#, preprocess_input\n",
    "from keras.applications.mobilenet_v2 import MobileNetV2\n",
    "from keras.utils import multi_gpu_model\n",
    "import tensorflow as tf\n",
    "\n",
    "from datetime import datetime\n",
    "import pickle\n",
    "import scipy.stats as stats\n",
    "import os\n",
    "import sklearn.metrics"
   ]
  },
  {
   "cell_type": "code",
   "execution_count": 2,
   "metadata": {},
   "outputs": [],
   "source": [
    "os.environ[\"CUDA_VISIBLE_DEVICES\"]=\"1\""
   ]
  },
  {
   "cell_type": "code",
   "execution_count": 3,
   "metadata": {},
   "outputs": [],
   "source": [
    "y = pd.read_csv(\"data/train.csv\")\n",
    "yEval = pd.read_csv(\"data/test.csv\")\n",
    "classMap = pd.read_csv(\"data/class_map.csv\")"
   ]
  },
  {
   "cell_type": "code",
   "execution_count": 4,
   "metadata": {},
   "outputs": [],
   "source": [
    "labels = [\"grapheme_root\",\"vowel_diacritic\",\"consonant_diacritic\"]"
   ]
  },
  {
   "cell_type": "code",
   "execution_count": 5,
   "metadata": {},
   "outputs": [],
   "source": [
    "y = y.set_index(\"image_id\")"
   ]
  },
  {
   "cell_type": "code",
   "execution_count": 6,
   "metadata": {},
   "outputs": [],
   "source": [
    "tables = [pq.read_table('data/train_image_data_{0}.parquet'.format(i)) for i in range(4)]\n",
    "tables = [table.to_pandas() for table in tables]\n",
    "df = pd.concat(tables)\n",
    "df = df.set_index(\"image_id\")\n",
    "del tables"
   ]
  },
  {
   "cell_type": "code",
   "execution_count": 7,
   "metadata": {},
   "outputs": [],
   "source": [
    "size=(137,137)\n",
    "\n",
    "def transformImg(img):\n",
    "    img=255-img\n",
    "    mu = cv2.moments(img, False)\n",
    "    x, y= mu[\"m10\"]/mu[\"m00\"] , mu[\"m01\"]/mu[\"m00\"]\n",
    "    M = np.float32([[1,0,(236/2)-x],[0,1,(137/2)-y]])\n",
    "    img = cv2.warpAffine(img,M,(img.shape[1],img.shape[0]))\n",
    "    img = cv2.cvtColor(img, cv2.COLOR_GRAY2RGB)\n",
    "    kernel = np.ones((5,5),np.float32)/25\n",
    "    img = cv2.filter2D(img,-1,kernel)\n",
    "    img = cv2.filter2D(img,-1,kernel)\n",
    "    img = cv2.resize(img, (size[0],size[1]))\n",
    "    #img = preprocess_input(img)\n",
    "    return img\n",
    "\n",
    "def randomErase(img, prob=True):\n",
    "    # random erasing\n",
    "    # https://github.com/yu4u/cutout-random-erasing\n",
    "    p = 0.5\n",
    "    s_l = 0.02\n",
    "    s_h = 0.4\n",
    "    r_1 = 0.3\n",
    "    r_2 = 1 / 0.3\n",
    "    v_l = 0\n",
    "    v_h = 255\n",
    "    input_size=size[0]\n",
    "    if prob==False or np.random.random()<p:\n",
    "\n",
    "        while True:\n",
    "            s = np.random.uniform(s_l, s_h) * input_size * input_size\n",
    "            r = np.random.uniform(r_1, r_2)\n",
    "            w = int(np.sqrt(s / r))\n",
    "            h = int(np.sqrt(s * r))\n",
    "            left = np.random.randint(0, input_size)\n",
    "            top = np.random.randint(0, input_size)\n",
    "            if left + w <= input_size and top + h <= input_size:\n",
    "                break\n",
    "        c = np.random.uniform(v_l, v_h, (h, w, 3))\n",
    "        img[top : top + h, left : left + w, :] = c\n",
    "    return img"
   ]
  },
  {
   "cell_type": "code",
   "execution_count": 8,
   "metadata": {},
   "outputs": [],
   "source": [
    "class DataLoader(Sequence):\n",
    "    def __init__(self,X,y,training,batch_size=64):\n",
    "        self.training = training\n",
    "        self.batch_size=batch_size\n",
    "        self.X=X\n",
    "        self.y=y\n",
    "\n",
    "    def __len__(self):\n",
    "        return int(np.ceil(self.X.shape[0] / self.batch_size))\n",
    "\n",
    "\n",
    "    def __getitem__(self, i):\n",
    "        _imgs=self.X[i * self.batch_size:(i + 1) * self.batch_size,:,:]\n",
    "        imgs=[]\n",
    "        for img in _imgs:\n",
    "            imgs.append(transformImg(img))\n",
    "        \n",
    "        imgs=np.asarray(imgs).astype(np.float32)\n",
    "        \n",
    "        \n",
    "        ret_y=[]\n",
    "        for label in labels:\n",
    "            ret_y.append(to_categorical(self.y[i * self.batch_size:(i + 1) * self.batch_size][label],num_classes=len(set(y[label]))))\n",
    "    \n",
    "    \n",
    "        #mix up\n",
    "        if self.training and np.random.random()<0.8:\n",
    "        #if self.training:\n",
    "            r= np.random.permutation(imgs.shape[0])\n",
    "            imgs2=deepcopy(imgs)[r]\n",
    "            grapheme=ret_y[0]\n",
    "            vowel=ret_y[1]\n",
    "            consonant=ret_y[2]\n",
    "            grapheme2=deepcopy(grapheme)[r]\n",
    "            vowel2=deepcopy(vowel)[r]\n",
    "            consonant2=deepcopy(consonant)[r]\n",
    "            alpha=np.random.rand(imgs.shape[0])\n",
    "            imgs=np.tile(alpha,(3,*size,1)).T*imgs+np.tile((1-alpha),(3,*size,1)).T*imgs2\n",
    "            grapheme=np.tile(alpha,(168,1)).T*grapheme+np.tile((1-alpha),(168,1)).T*grapheme2\n",
    "            vowel=np.tile(alpha,(11,1)).T*vowel+np.tile((1-alpha),(11,1)).T*vowel2\n",
    "            consonant=np.tile(alpha,(7,1)).T*consonant+np.tile((1-alpha),(7,1)).T*consonant2\n",
    "            grapheme=grapheme.astype(np.float32)\n",
    "            vowel=vowel.astype(np.float32)\n",
    "            consonant=consonant.astype(np.float32)\n",
    "            ret_y=[grapheme,vowel,consonant]\n",
    "            \n",
    "        if self.training:\n",
    "            imgs = [randomErase(img) for img in imgs]\n",
    "        imgs = np.asarray(imgs).astype(np.float32)/255.0\n",
    "            \n",
    "\n",
    "        return imgs, ret_y\n",
    "\n"
   ]
  },
  {
   "cell_type": "code",
   "execution_count": 9,
   "metadata": {},
   "outputs": [],
   "source": [
    "def getMultiXceptionBased():\n",
    "    model =  Xception(weights=\"imagenet\", include_top=False)\n",
    "    x = model.output\n",
    "    x = GlobalAveragePooling2D()(x)\n",
    "    #x = Dense(1024, activation=\"relu\")(x)\n",
    "    x = Dropout(0.3)(x)\n",
    "    grapheme = Dense(168, activation=\"softmax\")(x)\n",
    "    vowel = Dense(11,activation=\"softmax\")(x)\n",
    "    consonant = Dense(7, activation=\"softmax\")(x)\n",
    "    model = Model(inputs=model.input, outputs=[grapheme,vowel,consonant])\n",
    "    return model"
   ]
  },
  {
   "cell_type": "code",
   "execution_count": 10,
   "metadata": {},
   "outputs": [],
   "source": [
    "X_train, X_test, y_train, y_test = train_test_split(df.values.reshape(-1,137,236),y,train_size=0.9,random_state=8000)\n",
    "del df"
   ]
  },
  {
   "cell_type": "code",
   "execution_count": 11,
   "metadata": {},
   "outputs": [],
   "source": [
    "early_stopping =  EarlyStopping(monitor='val_loss', min_delta=0.0, patience=20)\n",
    "checkpoint = ModelCheckpoint(filepath=\"Xception-epoch{epoch:04}.h5\")"
   ]
  },
  {
   "cell_type": "code",
   "execution_count": null,
   "metadata": {},
   "outputs": [
    {
     "name": "stdout",
     "output_type": "stream",
     "text": [
      "Downloading data from https://github.com/fchollet/deep-learning-models/releases/download/v0.4/xception_weights_tf_dim_ordering_tf_kernels_notop.h5\n",
      "83689472/83683744 [==============================] - 13s 0us/step\n",
      "compiled\n",
      "Epoch 1/60\n",
      "2825/2825 [==============================] - 975s 345ms/step - loss: 6.9324 - dense_1_loss: 2.6366 - dense_2_loss: 1.0280 - dense_3_loss: 0.6313 - dense_1_acc: 0.5354 - dense_2_acc: 0.7674 - dense_3_acc: 0.8427 - val_loss: 1.3632 - val_dense_1_loss: 0.4966 - val_dense_2_loss: 0.1519 - val_dense_3_loss: 0.1391 - val_dense_1_acc: 0.8645 - val_dense_2_acc: 0.9589 - val_dense_3_acc: 0.9602\n",
      "Epoch 2/60\n",
      "2825/2825 [==============================] - 939s 333ms/step - loss: 5.5673 - dense_1_loss: 2.0922 - dense_2_loss: 0.8508 - dense_3_loss: 0.5321 - dense_1_acc: 0.6800 - dense_2_acc: 0.8191 - dense_3_acc: 0.8757 - val_loss: 0.9989 - val_dense_1_loss: 0.3305 - val_dense_2_loss: 0.1193 - val_dense_3_loss: 0.1132 - val_dense_1_acc: 0.9178 - val_dense_2_acc: 0.9737 - val_dense_3_acc: 0.9725\n",
      "Epoch 3/60\n",
      "2825/2825 [==============================] - 939s 333ms/step - loss: 5.1672 - dense_1_loss: 1.9378 - dense_2_loss: 0.7903 - dense_3_loss: 0.5014 - dense_1_acc: 0.7013 - dense_2_acc: 0.8287 - dense_3_acc: 0.8834 - val_loss: 1.2890 - val_dense_1_loss: 0.3056 - val_dense_2_loss: 0.0889 - val_dense_3_loss: 0.0894 - val_dense_1_acc: 0.9198 - val_dense_2_acc: 0.9794 - val_dense_3_acc: 0.9764\n",
      "Epoch 4/60\n",
      "2825/2825 [==============================] - 940s 333ms/step - loss: 4.8954 - dense_1_loss: 1.8277 - dense_2_loss: 0.7535 - dense_3_loss: 0.4864 - dense_1_acc: 0.7144 - dense_2_acc: 0.8336 - dense_3_acc: 0.8856 - val_loss: 1.0657 - val_dense_1_loss: 0.2467 - val_dense_2_loss: 0.0859 - val_dense_3_loss: 0.0725 - val_dense_1_acc: 0.9341 - val_dense_2_acc: 0.9779 - val_dense_3_acc: 0.9810\n",
      "Epoch 5/60\n",
      " 966/2825 [=========>....................] - ETA: 9:57 - loss: 4.4517 - dense_1_loss: 1.6600 - dense_2_loss: 0.6866 - dense_3_loss: 0.4451 - dense_1_acc: 0.7349 - dense_2_acc: 0.8496 - dense_3_acc: 0.8971"
     ]
    },
    {
     "name": "stderr",
     "output_type": "stream",
     "text": [
      "IOPub data rate exceeded.\n",
      "The notebook server will temporarily stop sending output\n",
      "to the client in order to avoid crashing it.\n",
      "To change this limit, set the config variable\n",
      "`--NotebookApp.iopub_data_rate_limit`.\n",
      "\n",
      "Current values:\n",
      "NotebookApp.iopub_data_rate_limit=1000000.0 (bytes/sec)\n",
      "NotebookApp.rate_limit_window=3.0 (secs)\n",
      "\n"
     ]
    },
    {
     "name": "stdout",
     "output_type": "stream",
     "text": [
      "2825/2825 [==============================] - 940s 333ms/step - loss: 4.1996 - dense_1_loss: 1.5456 - dense_2_loss: 0.6665 - dense_3_loss: 0.4420 - dense_1_acc: 0.7442 - dense_2_acc: 0.8577 - dense_3_acc: 0.8996 - val_loss: 0.8110 - val_dense_1_loss: 0.1757 - val_dense_2_loss: 0.0604 - val_dense_3_loss: 0.0616 - val_dense_1_acc: 0.9525 - val_dense_2_acc: 0.9858 - val_dense_3_acc: 0.9833\n",
      "Epoch 9/60\n",
      "2825/2825 [==============================] - 939s 332ms/step - loss: 4.0982 - dense_1_loss: 1.5037 - dense_2_loss: 0.6551 - dense_3_loss: 0.4357 - dense_1_acc: 0.7481 - dense_2_acc: 0.8641 - dense_3_acc: 0.9017 - val_loss: 0.6226 - val_dense_1_loss: 0.1715 - val_dense_2_loss: 0.0561 - val_dense_3_loss: 0.0599 - val_dense_1_acc: 0.9552 - val_dense_2_acc: 0.9867 - val_dense_3_acc: 0.9848\n",
      "Epoch 10/60\n",
      "2825/2825 [==============================] - 939s 332ms/step - loss: 3.9831 - dense_1_loss: 1.4578 - dense_2_loss: 0.6397 - dense_3_loss: 0.4278 - dense_1_acc: 0.7538 - dense_2_acc: 0.8690 - dense_3_acc: 0.9056 - val_loss: 0.4377 - val_dense_1_loss: 0.1710 - val_dense_2_loss: 0.0568 - val_dense_3_loss: 0.0583 - val_dense_1_acc: 0.9552 - val_dense_2_acc: 0.9858 - val_dense_3_acc: 0.9855\n",
      "Epoch 11/60\n",
      "2825/2825 [==============================] - 940s 333ms/step - loss: 3.8884 - dense_1_loss: 1.4192 - dense_2_loss: 0.6283 - dense_3_loss: 0.4218 - dense_1_acc: 0.7579 - dense_2_acc: 0.8739 - dense_3_acc: 0.9082 - val_loss: 0.7876 - val_dense_1_loss: 0.1582 - val_dense_2_loss: 0.0550 - val_dense_3_loss: 0.0568 - val_dense_1_acc: 0.9572 - val_dense_2_acc: 0.9870 - val_dense_3_acc: 0.9843\n",
      "Epoch 12/60\n",
      "1452/2825 [==============>...............] - ETA: 7:21 - loss: 3.6557 - dense_1_loss: 1.3296 - dense_2_loss: 0.5957 - dense_3_loss: 0.4007 - dense_1_acc: 0.7701 - dense_2_acc: 0.8817 - dense_3_acc: 0.9137"
     ]
    },
    {
     "name": "stderr",
     "output_type": "stream",
     "text": [
      "IOPub data rate exceeded.\n",
      "The notebook server will temporarily stop sending output\n",
      "to the client in order to avoid crashing it.\n",
      "To change this limit, set the config variable\n",
      "`--NotebookApp.iopub_data_rate_limit`.\n",
      "\n",
      "Current values:\n",
      "NotebookApp.iopub_data_rate_limit=1000000.0 (bytes/sec)\n",
      "NotebookApp.rate_limit_window=3.0 (secs)\n",
      "\n"
     ]
    },
    {
     "name": "stdout",
     "output_type": "stream",
     "text": [
      "2825/2825 [==============================] - 1041s 368ms/step - loss: 3.5983 - dense_1_loss: 1.3013 - dense_2_loss: 0.5948 - dense_3_loss: 0.4009 - dense_1_acc: 0.7717 - dense_2_acc: 0.8868 - dense_3_acc: 0.9171 - val_loss: 0.6237 - val_dense_1_loss: 0.1472 - val_dense_2_loss: 0.0525 - val_dense_3_loss: 0.0527 - val_dense_1_acc: 0.9603 - val_dense_2_acc: 0.9874 - val_dense_3_acc: 0.9863\n",
      "Epoch 16/60\n",
      "1632/2825 [================>.............] - ETA: 7:06 - loss: 3.4753 - dense_1_loss: 1.2531 - dense_2_loss: 0.5795 - dense_3_loss: 0.3896 - dense_1_acc: 0.7799 - dense_2_acc: 0.8929 - dense_3_acc: 0.9209"
     ]
    },
    {
     "name": "stderr",
     "output_type": "stream",
     "text": [
      "IOPub data rate exceeded.\n",
      "The notebook server will temporarily stop sending output\n",
      "to the client in order to avoid crashing it.\n",
      "To change this limit, set the config variable\n",
      "`--NotebookApp.iopub_data_rate_limit`.\n",
      "\n",
      "Current values:\n",
      "NotebookApp.iopub_data_rate_limit=1000000.0 (bytes/sec)\n",
      "NotebookApp.rate_limit_window=3.0 (secs)\n",
      "\n"
     ]
    },
    {
     "name": "stdout",
     "output_type": "stream",
     "text": [
      "2825/2825 [==============================] - 1042s 369ms/step - loss: 3.4938 - dense_1_loss: 1.2564 - dense_2_loss: 0.5848 - dense_3_loss: 0.3962 - dense_1_acc: 0.7750 - dense_2_acc: 0.8920 - dense_3_acc: 0.9196 - val_loss: 0.6184 - val_dense_1_loss: 0.1504 - val_dense_2_loss: 0.0504 - val_dense_3_loss: 0.0535 - val_dense_1_acc: 0.9598 - val_dense_2_acc: 0.9883 - val_dense_3_acc: 0.9863\n",
      "Epoch 18/60\n",
      "2825/2825 [==============================] - 938s 332ms/step - loss: 3.4460 - dense_1_loss: 1.2382 - dense_2_loss: 0.5787 - dense_3_loss: 0.3909 - dense_1_acc: 0.7780 - dense_2_acc: 0.8954 - dense_3_acc: 0.9220 - val_loss: 0.5382 - val_dense_1_loss: 0.1512 - val_dense_2_loss: 0.0500 - val_dense_3_loss: 0.0517 - val_dense_1_acc: 0.9611 - val_dense_2_acc: 0.9893 - val_dense_3_acc: 0.9870\n",
      "Epoch 19/60\n",
      "2825/2825 [==============================] - 939s 332ms/step - loss: 3.3902 - dense_1_loss: 1.2141 - dense_2_loss: 0.5747 - dense_3_loss: 0.3874 - dense_1_acc: 0.7808 - dense_2_acc: 0.8971 - dense_3_acc: 0.9234 - val_loss: 0.6139 - val_dense_1_loss: 0.1460 - val_dense_2_loss: 0.0509 - val_dense_3_loss: 0.0554 - val_dense_1_acc: 0.9607 - val_dense_2_acc: 0.9881 - val_dense_3_acc: 0.9851\n",
      "Epoch 20/60\n",
      "2825/2825 [==============================] - 939s 332ms/step - loss: 3.3501 - dense_1_loss: 1.1979 - dense_2_loss: 0.5695 - dense_3_loss: 0.3848 - dense_1_acc: 0.7848 - dense_2_acc: 0.8995 - dense_3_acc: 0.9260 - val_loss: 0.5404 - val_dense_1_loss: 0.1448 - val_dense_2_loss: 0.0468 - val_dense_3_loss: 0.0484 - val_dense_1_acc: 0.9616 - val_dense_2_acc: 0.9891 - val_dense_3_acc: 0.9880\n",
      "Epoch 21/60\n",
      " 540/2825 [====>.........................] - ETA: 12:15 - loss: 2.9873 - dense_1_loss: 1.0678 - dense_2_loss: 0.5069 - dense_3_loss: 0.3448 - dense_1_acc: 0.8048 - dense_2_acc: 0.9151 - dense_3_acc: 0.9357"
     ]
    },
    {
     "name": "stderr",
     "output_type": "stream",
     "text": [
      "IOPub data rate exceeded.\n",
      "The notebook server will temporarily stop sending output\n",
      "to the client in order to avoid crashing it.\n",
      "To change this limit, set the config variable\n",
      "`--NotebookApp.iopub_data_rate_limit`.\n",
      "\n",
      "Current values:\n",
      "NotebookApp.iopub_data_rate_limit=1000000.0 (bytes/sec)\n",
      "NotebookApp.rate_limit_window=3.0 (secs)\n",
      "\n"
     ]
    },
    {
     "name": "stdout",
     "output_type": "stream",
     "text": [
      "2825/2825 [==============================] - 940s 333ms/step - loss: 3.2184 - dense_1_loss: 1.1432 - dense_2_loss: 0.5553 - dense_3_loss: 0.3767 - dense_1_acc: 0.7934 - dense_2_acc: 0.9049 - dense_3_acc: 0.9289 - val_loss: 0.7270 - val_dense_1_loss: 0.1294 - val_dense_2_loss: 0.0466 - val_dense_3_loss: 0.0486 - val_dense_1_acc: 0.9638 - val_dense_2_acc: 0.9895 - val_dense_3_acc: 0.9885\n",
      "Epoch 25/60\n",
      " 727/2825 [======>.......................] - ETA: 11:14 - loss: 3.0787 - dense_1_loss: 1.0923 - dense_2_loss: 0.5341 - dense_3_loss: 0.3600 - dense_1_acc: 0.8011 - dense_2_acc: 0.9112 - dense_3_acc: 0.9334"
     ]
    },
    {
     "name": "stderr",
     "output_type": "stream",
     "text": [
      "IOPub data rate exceeded.\n",
      "The notebook server will temporarily stop sending output\n",
      "to the client in order to avoid crashing it.\n",
      "To change this limit, set the config variable\n",
      "`--NotebookApp.iopub_data_rate_limit`.\n",
      "\n",
      "Current values:\n",
      "NotebookApp.iopub_data_rate_limit=1000000.0 (bytes/sec)\n",
      "NotebookApp.rate_limit_window=3.0 (secs)\n",
      "\n"
     ]
    },
    {
     "name": "stdout",
     "output_type": "stream",
     "text": [
      "2825/2825 [==============================] - 939s 333ms/step - loss: 3.1285 - dense_1_loss: 1.1071 - dense_2_loss: 0.5454 - dense_3_loss: 0.3688 - dense_1_acc: 0.7989 - dense_2_acc: 0.9105 - dense_3_acc: 0.9327 - val_loss: 0.5964 - val_dense_1_loss: 0.1454 - val_dense_2_loss: 0.0440 - val_dense_3_loss: 0.0506 - val_dense_1_acc: 0.9610 - val_dense_2_acc: 0.9900 - val_dense_3_acc: 0.9878\n",
      "Epoch 28/60\n",
      "2825/2825 [==============================] - 938s 332ms/step - loss: 3.1048 - dense_1_loss: 1.0969 - dense_2_loss: 0.5436 - dense_3_loss: 0.3675 - dense_1_acc: 0.8007 - dense_2_acc: 0.9111 - dense_3_acc: 0.9330 - val_loss: 0.5709 - val_dense_1_loss: 0.1377 - val_dense_2_loss: 0.0431 - val_dense_3_loss: 0.0492 - val_dense_1_acc: 0.9642 - val_dense_2_acc: 0.9899 - val_dense_3_acc: 0.9881\n",
      "Epoch 29/60\n",
      "2337/2825 [=======================>......] - ETA: 2:37 - loss: 3.0060 - dense_1_loss: 1.0613 - dense_2_loss: 0.5262 - dense_3_loss: 0.3573 - dense_1_acc: 0.8067 - dense_2_acc: 0.9144 - dense_3_acc: 0.9360"
     ]
    }
   ],
   "source": [
    "train_gen = DataLoader(X_train, y_train, training=True, batch_size=64)\n",
    "valid_gen = DataLoader(X_test, y_test, training=False, batch_size=64)\n",
    "model = getMultiXceptionBased()\n",
    "model.compile(optimizer=Adam(), metrics=[\"acc\"], loss=\"categorical_crossentropy\", loss_weights=[2.,1.,1.])\n",
    "print(\"compiled\")\n",
    "model.fit_generator(train_gen, validation_data=valid_gen, epochs=60, callbacks=[early_stopping, checkpoint], workers=multiprocessing.cpu_count(), use_multiprocessing=True)\n",
    "model.save(\"multixception_without3.h5\")"
   ]
  },
  {
   "cell_type": "code",
   "execution_count": null,
   "metadata": {},
   "outputs": [],
   "source": []
  }
 ],
 "metadata": {
  "kernelspec": {
   "display_name": "Python 3",
   "language": "python",
   "name": "python3"
  },
  "language_info": {
   "codemirror_mode": {
    "name": "ipython",
    "version": 3
   },
   "file_extension": ".py",
   "mimetype": "text/x-python",
   "name": "python",
   "nbconvert_exporter": "python",
   "pygments_lexer": "ipython3",
   "version": "3.6.5"
  }
 },
 "nbformat": 4,
 "nbformat_minor": 2
}
