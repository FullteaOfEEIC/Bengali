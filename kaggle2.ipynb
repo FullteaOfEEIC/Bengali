{
 "cells": [
  {
   "cell_type": "code",
   "execution_count": 1,
   "metadata": {},
   "outputs": [
    {
     "name": "stderr",
     "output_type": "stream",
     "text": [
      "Using TensorFlow backend.\n"
     ]
    }
   ],
   "source": [
    "import pandas as pd\n",
    "import numpy as np\n",
    "import cv2\n",
    "import os\n",
    "import re\n",
    "import sys\n",
    "from collections import Counter\n",
    "import seaborn as sns\n",
    "import pyarrow as pa\n",
    "import pyarrow.parquet as pq\n",
    "import matplotlib.pyplot as plt\n",
    "from tqdm.notebook import tqdm\n",
    "import multiprocessing\n",
    "from multiprocessing import Pool\n",
    "import itertools\n",
    "from copy import deepcopy\n",
    "import random\n",
    "\n",
    "import xgboost as xgb\n",
    "from sklearn.model_selection import train_test_split\n",
    "from sklearn.metrics import accuracy_score, confusion_matrix\n",
    "from sklearn.decomposition import PCA\n",
    "\n",
    "from keras.models import Sequential, Model\n",
    "from keras.layers import Dense, Dropout, Flatten, Conv2D, MaxPool2D, BatchNormalization, GlobalAveragePooling2D, PReLU, GlobalMaxPooling2D\n",
    "from keras.optimizers import Adam\n",
    "from keras.utils import to_categorical, Sequence\n",
    "from keras.callbacks import EarlyStopping, ModelCheckpoint\n",
    "from keras.applications.resnet_v2 import ResNet152V2, preprocess_input\n",
    "from keras.applications.xception import Xception\n",
    "from keras.applications.densenet import DenseNet121, DenseNet169#, preprocess_input\n",
    "from keras.applications.mobilenet_v2 import MobileNetV2\n",
    "from keras.utils import multi_gpu_model\n",
    "import tensorflow as tf\n",
    "\n",
    "from datetime import datetime\n",
    "import pickle\n",
    "import scipy.stats as stats\n",
    "import os\n",
    "import sklearn.metrics"
   ]
  },
  {
   "cell_type": "code",
   "execution_count": 2,
   "metadata": {},
   "outputs": [],
   "source": [
    "os.environ[\"CUDA_VISIBLE_DEVICES\"]=\"1\""
   ]
  },
  {
   "cell_type": "code",
   "execution_count": 3,
   "metadata": {},
   "outputs": [],
   "source": [
    "y = pd.read_csv(\"data/train.csv\")\n",
    "yEval = pd.read_csv(\"data/test.csv\")\n",
    "classMap = pd.read_csv(\"data/class_map.csv\")"
   ]
  },
  {
   "cell_type": "code",
   "execution_count": 4,
   "metadata": {},
   "outputs": [],
   "source": [
    "labels = [\"grapheme_root\",\"vowel_diacritic\",\"consonant_diacritic\"]"
   ]
  },
  {
   "cell_type": "code",
   "execution_count": 5,
   "metadata": {},
   "outputs": [],
   "source": [
    "y = y.set_index(\"image_id\")"
   ]
  },
  {
   "cell_type": "code",
   "execution_count": 6,
   "metadata": {},
   "outputs": [],
   "source": [
    "tables = [pq.read_table('data/train_image_data_{0}.parquet'.format(i)) for i in range(4)]\n",
    "tables = [table.to_pandas() for table in tables]\n",
    "df = pd.concat(tables)\n",
    "df = df.set_index(\"image_id\")\n",
    "del tables"
   ]
  },
  {
   "cell_type": "code",
   "execution_count": 7,
   "metadata": {},
   "outputs": [],
   "source": [
    "size=(137,137)\n",
    "\n",
    "def calcRotate(img):\n",
    "    detector = cv2.ORB_create()\n",
    "    keypoints=detector.detect(img)\n",
    "    descriptors=detector.compute(img,keypoints)\n",
    "    angles=[]\n",
    "    weights=[]\n",
    "    for i in descriptors[0]:\n",
    "        if i.angle!=-1:\n",
    "            angles.append(i.angle)\n",
    "            weights.append(i.response)\n",
    "    if len(angles)==0:\n",
    "        return 0\n",
    "    else:\n",
    "        return np.average(angles,weights=weights)\n",
    "\n",
    "def transformImg(img):\n",
    "    ret2, img = cv2.threshold(img, 0, 255, cv2.THRESH_OTSU)\n",
    "    img = 255-img\n",
    "    mu = cv2.moments(img, False)\n",
    "    x, y= mu[\"m10\"]/mu[\"m00\"] , mu[\"m01\"]/mu[\"m00\"]\n",
    "    M = np.float32([[1,0,(236/2)-x],[0,1,(137/2)-y]])\n",
    "    img = cv2.warpAffine(img,M,(img.shape[1],img.shape[0]))\n",
    "    img = cv2.cvtColor(img, cv2.COLOR_GRAY2RGB)\n",
    "    kernel = np.ones((5,5),np.float32)/25\n",
    "    #img = cv2.filter2D(img,-1,kernel)\n",
    "    #img = cv2.filter2D(img,-1,kernel)\n",
    "    img = cv2.resize(img, (size[0],size[1]))\n",
    "    angle = calcRotate(img)\n",
    "    img = rotateImg(img,angle=-1*angle,prob=False)\n",
    "    #img = preprocess_input(img)\n",
    "    return img\n",
    "\n",
    "def rotateImg(img, angle=None,prob=True):\n",
    "    if prob==False or np.random.random()<0.5:\n",
    "        if angle==None:\n",
    "            angle=np.random.random()*60-30\n",
    "        trans = cv2.getRotationMatrix2D((img.shape[0]/2, img.shape[1]/2), angle , 1.0)\n",
    "        img = cv2.warpAffine(img, trans, (img.shape[1],img.shape[0]))\n",
    "        return img\n",
    "    else:\n",
    "        return img\n",
    "\n",
    "def shiftImg(img, prob=True):\n",
    "    if prob==False or np.random.random()<0.5:\n",
    "        x=np.random.random()*30-15\n",
    "        y=np.random.random()*30-15\n",
    "        trans = np.float32([[1,0,x],[0,1,y]])\n",
    "        img = cv2.warpAffine(img, trans, (img.shape[1],img.shape[0]))\n",
    "        return img\n",
    "    else:\n",
    "        return img\n",
    "\n",
    "def randomErase(img, prob=True):\n",
    "    # random erasing\n",
    "    # https://github.com/yu4u/cutout-random-erasing\n",
    "    p = 0.5\n",
    "    s_l = 0.02\n",
    "    s_h = 0.4\n",
    "    r_1 = 0.3\n",
    "    r_2 = 1 / 0.3\n",
    "    v_l = 0\n",
    "    v_h = 255\n",
    "    input_size=size[0]\n",
    "    if prob==False or np.random.random()<p:\n",
    "\n",
    "        while True:\n",
    "            s = np.random.uniform(s_l, s_h) * input_size * input_size\n",
    "            r = np.random.uniform(r_1, r_2)\n",
    "            w = int(np.sqrt(s / r))\n",
    "            h = int(np.sqrt(s * r))\n",
    "            left = np.random.randint(0, input_size)\n",
    "            top = np.random.randint(0, input_size)\n",
    "            if left + w <= input_size and top + h <= input_size:\n",
    "                break\n",
    "        c = np.random.uniform(v_l, v_h, (h, w, 3))\n",
    "        img[top : top + h, left : left + w, :] = c\n",
    "    return img"
   ]
  },
  {
   "cell_type": "code",
   "execution_count": 8,
   "metadata": {},
   "outputs": [],
   "source": [
    "class DataLoader(Sequence):\n",
    "    def __init__(self,X,y,training,batch_size=64):\n",
    "        self.training = training\n",
    "        self.batch_size=batch_size\n",
    "        self.X=X\n",
    "        self.y=y\n",
    "\n",
    "    def __len__(self):\n",
    "        return int(np.ceil(self.X.shape[0] / self.batch_size))\n",
    "\n",
    "\n",
    "    def __getitem__(self, idx):\n",
    "        _imgs=self.X[idx * self.batch_size:(idx + 1) * self.batch_size,:,:]\n",
    "        \n",
    "        p=False\n",
    "            \n",
    "        \n",
    "        imgs=[]\n",
    "        for img in _imgs:\n",
    "            if p:\n",
    "                imgs.append(np.fft.fft2(transformImg(img)))\n",
    "            else:\n",
    "                imgs.append(transformImg(img))\n",
    "         \n",
    "        if self.training:\n",
    "            imgs = [rotateImg(img) for img in imgs]\n",
    "            imgs = [shiftImg(img) for img in imgs]\n",
    "        \n",
    "        imgs=np.asarray(imgs)\n",
    "        \n",
    "        \n",
    "        ret_y=[]\n",
    "        for label in labels:\n",
    "            ret_y.append(to_categorical(self.y[idx * self.batch_size:(idx + 1) * self.batch_size][label],num_classes=len(set(y[label]))))\n",
    "    \n",
    "    \n",
    "        #mix up\n",
    "        if self.training and np.random.random()<0.8:\n",
    "            r= np.random.permutation(imgs.shape[0])\n",
    "            imgs2=deepcopy(imgs)[r]\n",
    "            grapheme=ret_y[0]\n",
    "            vowel=ret_y[1]\n",
    "            consonant=ret_y[2]\n",
    "            grapheme2=deepcopy(grapheme)[r]\n",
    "            vowel2=deepcopy(vowel)[r]\n",
    "            consonant2=deepcopy(consonant)[r]\n",
    "            alpha=np.random.randn(imgs.shape[0])*0.3+0.5\n",
    "            alpha[alpha>1]=1\n",
    "            alpha[alpha<0]=0\n",
    "            imgs=np.tile(alpha,(3,*size,1)).T*imgs+np.tile((1-alpha),(3,*size,1)).T*imgs2\n",
    "            grapheme=np.tile(alpha,(168,1)).T*grapheme+np.tile((1-alpha),(168,1)).T*grapheme2\n",
    "            vowel=np.tile(alpha,(11,1)).T*vowel+np.tile((1-alpha),(11,1)).T*vowel2\n",
    "            consonant=np.tile(alpha,(7,1)).T*consonant+np.tile((1-alpha),(7,1)).T*consonant2\n",
    "            grapheme=grapheme.astype(np.float32)\n",
    "            vowel=vowel.astype(np.float32)\n",
    "            consonant=consonant.astype(np.float32)\n",
    "            ret_y=[grapheme,vowel,consonant]\n",
    "        \n",
    "            \n",
    "        if self.training:\n",
    "            imgs = [randomErase(img) for img in imgs]\n",
    "            \n",
    "        if p:\n",
    "            imgs=[np.real(np.fft.ifft2(img)) for img in imgs]\n",
    "            \n",
    "        imgs = np.asarray(imgs).astype(np.float32)/255.0\n",
    "            \n",
    "\n",
    "        return imgs, ret_y\n",
    "\n"
   ]
  },
  {
   "cell_type": "code",
   "execution_count": 9,
   "metadata": {},
   "outputs": [],
   "source": [
    "def getMultiXceptionBased():\n",
    "    model =  Xception(weights=\"imagenet\", include_top=False)\n",
    "    x = model.output  \n",
    "    x = GlobalMaxPooling2D()(x)\n",
    "    x = Dropout(0.5)(x)\n",
    "    grapheme = Dense(168, activation=\"softmax\")(x)\n",
    "    vowel = Dense(11,activation=\"softmax\")(x)\n",
    "    consonant = Dense(7, activation=\"softmax\")(x)\n",
    "    model = Model(inputs=model.input, outputs=[grapheme,vowel,consonant])\n",
    "    return model"
   ]
  },
  {
   "cell_type": "code",
   "execution_count": 10,
   "metadata": {},
   "outputs": [],
   "source": [
    "X_train, X_test, y_train, y_test = train_test_split(df.values.reshape(-1,137,236),y,train_size=0.9,random_state=8000)\n",
    "del df"
   ]
  },
  {
   "cell_type": "code",
   "execution_count": 11,
   "metadata": {},
   "outputs": [],
   "source": [
    "early_stopping =  EarlyStopping(monitor='val_loss', min_delta=0.0, patience=20)\n",
    "checkpoint = ModelCheckpoint(filepath=\"tmp-Xception-epoch{epoch:04}.h5\")"
   ]
  },
  {
   "cell_type": "code",
   "execution_count": null,
   "metadata": {
    "scrolled": true
   },
   "outputs": [
    {
     "name": "stdout",
     "output_type": "stream",
     "text": [
      "compiled\n",
      "Epoch 1/60\n",
      "2824/2825 [============================>.] - ETA: 0s - loss: 7.7730 - dense_1_loss: 2.9406 - dense_2_loss: 1.1671 - dense_3_loss: 0.7247 - dense_1_acc: 0.4293 - dense_2_acc: 0.7012 - dense_3_acc: 0.8000Epoch 1/60\n",
      "Epoch 1/60\n",
      "2825/2825 [==============================] - 977s 346ms/step - loss: 7.7713 - dense_1_loss: 2.9400 - dense_2_loss: 1.1669 - dense_3_loss: 0.7246 - dense_1_acc: 0.4294 - dense_2_acc: 0.7013 - dense_3_acc: 0.8001 - val_loss: 1.6493 - val_dense_1_loss: 0.7845 - val_dense_2_loss: 0.2401 - val_dense_3_loss: 0.2043 - val_dense_1_acc: 0.7957 - val_dense_2_acc: 0.9305 - val_dense_3_acc: 0.9378\n",
      "Epoch 2/60\n",
      "2825/2825 [==============================] - 941s 333ms/step - loss: 5.8886 - dense_1_loss: 2.1916 - dense_2_loss: 0.9271 - dense_3_loss: 0.5783 - dense_1_acc: 0.6449 - dense_2_acc: 0.8135 - dense_3_acc: 0.8651 - val_loss: 1.2615 - val_dense_1_loss: 0.5855 - val_dense_2_loss: 0.1704 - val_dense_3_loss: 0.1416 - val_dense_1_acc: 0.8381 - val_dense_2_acc: 0.9497 - val_dense_3_acc: 0.9551\n",
      "Epoch 3/60\n",
      "2825/2825 [==============================] - 943s 334ms/step - loss: 5.5050 - dense_1_loss: 2.0443 - dense_2_loss: 0.8716 - dense_3_loss: 0.5449 - dense_1_acc: 0.6832 - dense_2_acc: 0.8274 - dense_3_acc: 0.8751 - val_loss: 1.2938 - val_dense_1_loss: 0.4654 - val_dense_2_loss: 0.1704 - val_dense_3_loss: 0.1276 - val_dense_1_acc: 0.8789 - val_dense_2_acc: 0.9612 - val_dense_3_acc: 0.9665\n",
      "Epoch 4/60\n",
      "2825/2825 [==============================] - 941s 333ms/step - loss: 5.2580 - dense_1_loss: 1.9524 - dense_2_loss: 0.8295 - dense_3_loss: 0.5238 - dense_1_acc: 0.7038 - dense_2_acc: 0.8358 - dense_3_acc: 0.8824 - val_loss: 1.2766 - val_dense_1_loss: 0.4021 - val_dense_2_loss: 0.1365 - val_dense_3_loss: 0.1162 - val_dense_1_acc: 0.8910 - val_dense_2_acc: 0.9650 - val_dense_3_acc: 0.9672\n",
      "Epoch 5/60\n",
      "2825/2825 [==============================] - 941s 333ms/step - loss: 5.0611 - dense_1_loss: 1.8783 - dense_2_loss: 0.7999 - dense_3_loss: 0.5046 - dense_1_acc: 0.7205 - dense_2_acc: 0.8416 - dense_3_acc: 0.8866 - val_loss: 1.3047 - val_dense_1_loss: 0.3701 - val_dense_2_loss: 0.1140 - val_dense_3_loss: 0.1040 - val_dense_1_acc: 0.9022 - val_dense_2_acc: 0.9712 - val_dense_3_acc: 0.9709\n",
      "Epoch 6/60\n",
      "2825/2825 [==============================] - 940s 333ms/step - loss: 4.9247 - dense_1_loss: 1.8276 - dense_2_loss: 0.7752 - dense_3_loss: 0.4943 - dense_1_acc: 0.7275 - dense_2_acc: 0.8459 - dense_3_acc: 0.8892 - val_loss: 0.8956 - val_dense_1_loss: 0.3512 - val_dense_2_loss: 0.1306 - val_dense_3_loss: 0.1494 - val_dense_1_acc: 0.9115 - val_dense_2_acc: 0.9710 - val_dense_3_acc: 0.9639\n",
      "Epoch 7/60\n",
      "2198/2825 [======================>.......] - ETA: 3:22 - loss: 4.8952 - dense_1_loss: 1.8170 - dense_2_loss: 0.7688 - dense_3_loss: 0.4923 - dense_1_acc: 0.7303 - dense_2_acc: 0.8467 - dense_3_acc: 0.8898"
     ]
    }
   ],
   "source": [
    "train_gen = DataLoader(X_train, y_train, training=True, batch_size=64)\n",
    "valid_gen = DataLoader(X_test, y_test, training=False, batch_size=64)\n",
    "model = getMultiXceptionBased()\n",
    "model.compile(optimizer=Adam(), metrics=[\"acc\"], loss=\"categorical_crossentropy\", loss_weights=[2.,1.,1.])\n",
    "print(\"compiled\")\n",
    "model.fit_generator(train_gen, validation_data=valid_gen, epochs=60, callbacks=[early_stopping, checkpoint], workers=multiprocessing.cpu_count(), use_multiprocessing=True)\n",
    "model.save(\"multiXception.h5\")"
   ]
  }
 ],
 "metadata": {
  "kernelspec": {
   "display_name": "Python 3",
   "language": "python",
   "name": "python3"
  },
  "language_info": {
   "codemirror_mode": {
    "name": "ipython",
    "version": 3
   },
   "file_extension": ".py",
   "mimetype": "text/x-python",
   "name": "python",
   "nbconvert_exporter": "python",
   "pygments_lexer": "ipython3",
   "version": "3.6.5"
  }
 },
 "nbformat": 4,
 "nbformat_minor": 2
}
