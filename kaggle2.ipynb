{
 "cells": [
  {
   "cell_type": "code",
   "execution_count": 1,
   "metadata": {},
   "outputs": [
    {
     "name": "stderr",
     "output_type": "stream",
     "text": [
      "Using TensorFlow backend.\n"
     ]
    }
   ],
   "source": [
    "import pandas as pd\n",
    "import numpy as np\n",
    "import cv2\n",
    "import os\n",
    "import re\n",
    "import sys\n",
    "from collections import Counter\n",
    "import seaborn as sns\n",
    "import pyarrow as pa\n",
    "import pyarrow.parquet as pq\n",
    "import matplotlib.pyplot as plt\n",
    "from tqdm.notebook import tqdm\n",
    "import multiprocessing\n",
    "from multiprocessing import Pool\n",
    "import itertools\n",
    "from copy import deepcopy\n",
    "import random\n",
    "\n",
    "import xgboost as xgb\n",
    "from sklearn.model_selection import train_test_split\n",
    "from sklearn.metrics import accuracy_score, confusion_matrix\n",
    "from sklearn.decomposition import PCA\n",
    "\n",
    "from keras.models import Sequential, Model\n",
    "from keras.layers import Dense, Dropout, Flatten, Conv2D, MaxPool2D, BatchNormalization, GlobalAveragePooling2D, PReLU, GlobalMaxPooling2D\n",
    "from keras.optimizers import Adam\n",
    "from keras.utils import to_categorical, Sequence\n",
    "from keras.callbacks import EarlyStopping, ModelCheckpoint\n",
    "from keras.applications.resnet_v2 import ResNet152V2, preprocess_input\n",
    "from keras.applications.xception import Xception\n",
    "from keras.applications.densenet import DenseNet121, DenseNet169\n",
    "import tensorflow as tf\n",
    "from skimage.transform import AffineTransform, warp\n",
    "\n",
    "from datetime import datetime\n",
    "import pickle\n",
    "import scipy.stats as stats\n",
    "import os\n",
    "import sklearn.metrics\n",
    "import tensorflow_hub as hub\n",
    "\n",
    "from efficientnet.keras import EfficientNetB0\n",
    "from keras_squeeze_excite_network.se_resnext import SEResNextImageNet as SEResNext"
   ]
  },
  {
   "cell_type": "code",
   "execution_count": 2,
   "metadata": {},
   "outputs": [],
   "source": [
    "os.environ[\"CUDA_VISIBLE_DEVICES\"]=\"0\""
   ]
  },
  {
   "cell_type": "code",
   "execution_count": 3,
   "metadata": {},
   "outputs": [],
   "source": [
    "y = pd.read_csv(\"data/train.csv\")\n",
    "yEval = pd.read_csv(\"data/test.csv\")\n",
    "classMap = pd.read_csv(\"data/class_map.csv\")"
   ]
  },
  {
   "cell_type": "code",
   "execution_count": 4,
   "metadata": {},
   "outputs": [],
   "source": [
    "labels = [\"grapheme_root\",\"vowel_diacritic\",\"consonant_diacritic\"]"
   ]
  },
  {
   "cell_type": "code",
   "execution_count": 5,
   "metadata": {},
   "outputs": [],
   "source": [
    "y = y.set_index(\"image_id\")"
   ]
  },
  {
   "cell_type": "code",
   "execution_count": 6,
   "metadata": {},
   "outputs": [],
   "source": [
    "tables = [pq.read_table('data/train_image_data_{0}.parquet'.format(i)) for i in range(4)]\n",
    "tables = [table.to_pandas() for table in tables]\n",
    "df = pd.concat(tables)\n",
    "df = df.set_index(\"image_id\")\n",
    "del tables"
   ]
  },
  {
   "cell_type": "code",
   "execution_count": 7,
   "metadata": {},
   "outputs": [],
   "source": [
    "def affine_image(img):\n",
    "    \"\"\"\n",
    "\n",
    "    Args:\n",
    "        img: (h, w) or (1, h, w)\n",
    "\n",
    "    Returns:\n",
    "        img: (h, w)\n",
    "    \"\"\"\n",
    "    # ch, h, w = img.shape\n",
    "    # img = img / 255.\n",
    "    if img.ndim == 3:\n",
    "        img = img[0]\n",
    "\n",
    "    # --- scale ---\n",
    "    min_scale = 0.8\n",
    "    max_scale = 1.2\n",
    "    sx = np.random.uniform(min_scale, max_scale)\n",
    "    sy = np.random.uniform(min_scale, max_scale)\n",
    "\n",
    "    # --- rotation ---\n",
    "    max_rot_angle = 7\n",
    "    rot_angle = np.random.uniform(-max_rot_angle, max_rot_angle) * np.pi / 180.\n",
    "\n",
    "    # --- shear ---\n",
    "    max_shear_angle = 10\n",
    "    shear_angle = np.random.uniform(-max_shear_angle, max_shear_angle) * np.pi / 180.\n",
    "\n",
    "    # --- translation ---\n",
    "    max_translation = 4\n",
    "    tx = np.random.randint(-max_translation, max_translation)\n",
    "    ty = np.random.randint(-max_translation, max_translation)\n",
    "\n",
    "    tform = AffineTransform(scale=(sx, sy), rotation=rot_angle, shear=shear_angle,\n",
    "                            translation=(tx, ty))\n",
    "    transformed_image = warp(img, tform)\n",
    "    assert transformed_image.ndim == 2\n",
    "    return (transformed_image*255).astype(np.uint8)"
   ]
  },
  {
   "cell_type": "code",
   "execution_count": 8,
   "metadata": {},
   "outputs": [],
   "source": [
    "size=(120, 120)\n",
    "\n",
    "def calcRotate(img):\n",
    "    detector = cv2.ORB_create()\n",
    "    keypoints=detector.detect(img)\n",
    "    descriptors=detector.compute(img,keypoints)\n",
    "    angles=[]\n",
    "    weights=[]\n",
    "    for i in descriptors[0]:\n",
    "        if i.angle!=-1:\n",
    "            angles.append(i.angle)\n",
    "            weights.append(i.response)\n",
    "    if len(angles)==0:\n",
    "        return 0\n",
    "    else:\n",
    "        return np.average(angles,weights=weights)\n",
    "\n",
    "def upper(img,mergin=20):\n",
    "    up=0\n",
    "    bottom=img.shape[0]\n",
    "    while bottom-up>2:\n",
    "        mid=(up+bottom)//2\n",
    "        if np.sum(img[up:mid,:])==0:\n",
    "            up=mid\n",
    "        else:\n",
    "            bottom=mid\n",
    "    return max(up-mergin,0)\n",
    "\n",
    "def lower(img,mergin=20):\n",
    "    up=0\n",
    "    bottom=img.shape[0]\n",
    "    while bottom-up>2:\n",
    "        mid=(up+bottom)//2\n",
    "        if np.sum(img[mid:bottom,:])==0:\n",
    "            bottom=mid\n",
    "        else:\n",
    "            up=mid\n",
    "    return min(bottom+mergin,img.shape[0])\n",
    "\n",
    "def lefter(img,mergin=20):\n",
    "    left=0\n",
    "    right=img.shape[1]\n",
    "    while right-left>2:\n",
    "        mid=(left+right)//2\n",
    "        if np.sum(img[:,left:mid])==0:\n",
    "            left=mid\n",
    "        else:\n",
    "            right=mid\n",
    "    return max(left-mergin,0)\n",
    "\n",
    "def righter(img,mergin=20):\n",
    "    left=0\n",
    "    right=img.shape[1]\n",
    "    while right-left>2:\n",
    "        mid=(left+right)//2\n",
    "        if np.sum(img[:,mid:right])==0:\n",
    "            right=mid\n",
    "        else:\n",
    "            left=mid\n",
    "    return min(right+mergin,img.shape[1])\n",
    "\n",
    "def transformImg(img,size=(255,255),training=True):\n",
    "    ret2, img = cv2.threshold(img, 0, 255, cv2.THRESH_OTSU)\n",
    "    img = 255-img\n",
    "    if training:\n",
    "        img=affine_image(img)\n",
    "    img = img[upper(img):lower(img),lefter(img):righter(img)]\n",
    "    img = cv2.cvtColor(img, cv2.COLOR_GRAY2RGB)\n",
    "    img = cv2.resize(img, (size[0],size[1]))\n",
    "    kernel = np.ones((3,3),np.float32)/9\n",
    "    img = cv2.filter2D(img,-1,kernel)\n",
    "    return img\n",
    "\n",
    "def randomErase(img, prob=True):\n",
    "    # random erasing\n",
    "    # https://github.com/yu4u/cutout-random-erasing\n",
    "    p = 0.5\n",
    "    s_l = 0.02\n",
    "    s_h = 0.4\n",
    "    r_1 = 0.3\n",
    "    r_2 = 1 / 0.3\n",
    "    v_l = 0\n",
    "    v_h = 255\n",
    "    input_size=size[0]\n",
    "    if prob==False or np.random.random()<p:\n",
    "\n",
    "        while True:\n",
    "            s = np.random.uniform(s_l, s_h) * input_size * input_size\n",
    "            r = np.random.uniform(r_1, r_2)\n",
    "            w = int(np.sqrt(s / r))\n",
    "            h = int(np.sqrt(s * r))\n",
    "            left = np.random.randint(0, input_size)\n",
    "            top = np.random.randint(0, input_size)\n",
    "            if left + w <= input_size and top + h <= input_size:\n",
    "                break\n",
    "        c = np.random.uniform(v_l, v_h, (h, w, 3))\n",
    "        img[top : top + h, left : left + w, :] = c\n",
    "    return img"
   ]
  },
  {
   "cell_type": "code",
   "execution_count": 9,
   "metadata": {},
   "outputs": [],
   "source": [
    "class DataLoader(Sequence):\n",
    "    def __init__(self,X,y,training,batch_size=64,size=(255,255),alpha=3):\n",
    "        self.training = training\n",
    "        self.batch_size=batch_size\n",
    "        self.X=X\n",
    "        self.y=y\n",
    "        self.size=size\n",
    "        self.alpha=alpha\n",
    "\n",
    "    def __len__(self):\n",
    "        return int(np.ceil(self.X.shape[0] / self.batch_size))\n",
    "\n",
    "\n",
    "    def __getitem__(self, idx):\n",
    "        \n",
    "        _imgs=self.X[idx * self.batch_size:(idx + 1) * self.batch_size,:,:]\n",
    "        \n",
    "            \n",
    "        \n",
    "        imgs=[]\n",
    "        for img in _imgs:\n",
    "            imgs.append(transformImg(img,size=self.size,training=self.training))\n",
    "         \n",
    "        \n",
    "        \n",
    "        imgs=np.asarray(imgs)\n",
    "        \n",
    "        \n",
    "        ret_y=[]\n",
    "        for label in labels:\n",
    "            ret_y.append(to_categorical(self.y[idx * self.batch_size:(idx + 1) * self.batch_size][label],num_classes=len(set(y[label]))))\n",
    "    \n",
    "    \n",
    "        #mix up\n",
    "        if self.training :\n",
    "            r = np.random.permutation(imgs.shape[0])\n",
    "            imgs2=deepcopy(imgs)[r]\n",
    "            grapheme=ret_y[0]\n",
    "            vowel=ret_y[1]\n",
    "            consonant=ret_y[2]\n",
    "            grapheme2=deepcopy(grapheme)[r]\n",
    "            vowel2=deepcopy(vowel)[r]\n",
    "            consonant2=deepcopy(consonant)[r]\n",
    "            ratio=np.random.beta(self.alpha,self.alpha,imgs.shape[0])\n",
    "            ratio[ratio>1]=1\n",
    "            ratio[ratio<0]=0\n",
    "            imgs=np.tile(ratio,(3,*size,1)).T*imgs+np.tile((1-ratio),(3,*size,1)).T*imgs2\n",
    "            grapheme=np.tile(ratio,(168,1)).T*grapheme+np.tile((1-ratio),(168,1)).T*grapheme2\n",
    "            vowel=np.tile(ratio,(11,1)).T*vowel+np.tile((1-ratio),(11,1)).T*vowel2\n",
    "            consonant=np.tile(ratio,(7,1)).T*consonant+np.tile((1-ratio),(7,1)).T*consonant2\n",
    "            grapheme=grapheme.astype(np.float32)\n",
    "            vowel=vowel.astype(np.float32)\n",
    "            consonant=consonant.astype(np.float32)\n",
    "            ret_y=[grapheme,vowel,consonant]\n",
    "   \n",
    "        if self.training:\n",
    "            #imgs = [randomErase(img) for img in imgs]\n",
    "            pass\n",
    "            \n",
    "            \n",
    "        imgs = np.asarray(imgs).astype(np.float32)/255.0\n",
    "            \n",
    "\n",
    "        return imgs, ret_y\n",
    "\n"
   ]
  },
  {
   "cell_type": "code",
   "execution_count": 10,
   "metadata": {},
   "outputs": [],
   "source": [
    "def getMultiBased():\n",
    "    model =  DenseNet169(weights=\"imagenet\", include_top=False, input_shape=(*size, 3))\n",
    "    x = model.output  \n",
    "    x = GlobalAveragePooling2D()(x)\n",
    "    x = Dropout(0.5)(x)\n",
    "    #x = Dense(1024, activation=\"relu\")(x)\n",
    "    grapheme = Dense(168, activation=\"softmax\")(x)\n",
    "    vowel = Dense(11,activation=\"softmax\")(x)\n",
    "    consonant = Dense(7, activation=\"softmax\")(x)\n",
    "    model = Model(inputs=model.input, outputs=[grapheme,vowel,consonant])\n",
    "    return model"
   ]
  },
  {
   "cell_type": "code",
   "execution_count": 11,
   "metadata": {},
   "outputs": [],
   "source": [
    "X_train, X_test, y_train, y_test = train_test_split(df.values.reshape(-1,137,236), y, train_size=0.9, random_state=8000)\n",
    "del df"
   ]
  },
  {
   "cell_type": "code",
   "execution_count": 12,
   "metadata": {},
   "outputs": [],
   "source": [
    "early_stopping = EarlyStopping(monitor='val_loss', min_delta=0.0, patience=20)\n",
    "checkpoint = ModelCheckpoint(filepath=\"tmp-dense-epoch{epoch:04}.h5\")"
   ]
  },
  {
   "cell_type": "code",
   "execution_count": 13,
   "metadata": {
    "scrolled": true
   },
   "outputs": [
    {
     "name": "stdout",
     "output_type": "stream",
     "text": [
      "compiled\n",
      "Epoch 1/80\n",
      "1412/1413 [============================>.] - ETA: 0s - loss: 2.3261 - dense_1_loss: 3.5127 - dense_2_loss: 1.4132 - dense_3_loss: 0.8657 - dense_1_acc: 0.3513 - dense_2_acc: 0.6485 - dense_3_acc: 0.7520Epoch 1/80\n",
      "1413/1413 [==============================] - 931s 659ms/step - loss: 2.3257 - dense_1_loss: 3.5122 - dense_2_loss: 1.4130 - dense_3_loss: 0.8655 - dense_1_acc: 0.3515 - dense_2_acc: 0.6486 - dense_3_acc: 0.7521 - val_loss: 0.7170 - val_dense_1_loss: 1.0237 - val_dense_2_loss: 0.4648 - val_dense_3_loss: 0.3437 - val_dense_1_acc: 0.7893 - val_dense_2_acc: 0.9046 - val_dense_3_acc: 0.8679\n",
      "Epoch 2/80\n",
      "1413/1413 [==============================] - 746s 528ms/step - loss: 1.7396 - dense_1_loss: 2.5599 - dense_2_loss: 1.1431 - dense_3_loss: 0.6957 - dense_1_acc: 0.6137 - dense_2_acc: 0.7309 - dense_3_acc: 0.8140 - val_loss: 0.5104 - val_dense_1_loss: 0.7673 - val_dense_2_loss: 0.3005 - val_dense_3_loss: 0.2246 - val_dense_1_acc: 0.8507 - val_dense_2_acc: 0.9491 - val_dense_3_acc: 0.9466\n",
      "Epoch 3/80\n",
      "1413/1413 [==============================] - 740s 524ms/step - loss: 1.5708 - dense_1_loss: 2.2846 - dense_2_loss: 1.0597 - dense_3_loss: 0.6541 - dense_1_acc: 0.6386 - dense_2_acc: 0.7330 - dense_3_acc: 0.8148 - val_loss: 0.4226 - val_dense_1_loss: 0.6620 - val_dense_2_loss: 0.2676 - val_dense_3_loss: 0.2270 - val_dense_1_acc: 0.8382 - val_dense_2_acc: 0.9448 - val_dense_3_acc: 0.9458\n",
      "Epoch 4/80\n",
      "1283/1413 [==========================>...] - ETA: 1:02 - loss: 1.4363 - dense_1_loss: 2.0633 - dense_2_loss: 0.9936 - dense_3_loss: 0.6250 - dense_1_acc: 0.6488 - dense_2_acc: 0.7373 - dense_3_acc: 0.8155"
     ]
    },
    {
     "name": "stderr",
     "output_type": "stream",
     "text": [
      "IOPub data rate exceeded.\n",
      "The notebook server will temporarily stop sending output\n",
      "to the client in order to avoid crashing it.\n",
      "To change this limit, set the config variable\n",
      "`--NotebookApp.iopub_data_rate_limit`.\n",
      "\n",
      "Current values:\n",
      "NotebookApp.iopub_data_rate_limit=1000000.0 (bytes/sec)\n",
      "NotebookApp.rate_limit_window=3.0 (secs)\n",
      "\n"
     ]
    },
    {
     "name": "stdout",
     "output_type": "stream",
     "text": [
      "1413/1413 [==============================] - 744s 527ms/step - loss: 1.1253 - dense_1_loss: 1.5487 - dense_2_loss: 0.8459 - dense_3_loss: 0.5578 - dense_1_acc: 0.6714 - dense_2_acc: 0.7658 - dense_3_acc: 0.8289 - val_loss: 0.1984 - val_dense_1_loss: 0.2530 - val_dense_2_loss: 0.0874 - val_dense_3_loss: 0.0921 - val_dense_1_acc: 0.9329 - val_dense_2_acc: 0.9808 - val_dense_3_acc: 0.9750\n",
      "Epoch 9/80\n",
      "1413/1413 [==============================] - 742s 525ms/step - loss: 1.0893 - dense_1_loss: 1.4898 - dense_2_loss: 0.8260 - dense_3_loss: 0.5514 - dense_1_acc: 0.6745 - dense_2_acc: 0.7752 - dense_3_acc: 0.8306 - val_loss: 0.1465 - val_dense_1_loss: 0.2476 - val_dense_2_loss: 0.0914 - val_dense_3_loss: 0.0943 - val_dense_1_acc: 0.9329 - val_dense_2_acc: 0.9765 - val_dense_3_acc: 0.9725\n",
      "Epoch 10/80\n",
      "1413/1413 [==============================] - 737s 522ms/step - loss: 1.0464 - dense_1_loss: 1.4201 - dense_2_loss: 0.8042 - dense_3_loss: 0.5414 - dense_1_acc: 0.6822 - dense_2_acc: 0.7876 - dense_3_acc: 0.8329 - val_loss: 0.1898 - val_dense_1_loss: 0.2786 - val_dense_2_loss: 0.0897 - val_dense_3_loss: 0.0794 - val_dense_1_acc: 0.9251 - val_dense_2_acc: 0.9760 - val_dense_3_acc: 0.9745\n",
      "Epoch 11/80\n",
      "1413/1413 [==============================] - 741s 524ms/step - loss: 1.0131 - dense_1_loss: 1.3676 - dense_2_loss: 0.7849 - dense_3_loss: 0.5323 - dense_1_acc: 0.6869 - dense_2_acc: 0.7984 - dense_3_acc: 0.8387 - val_loss: 0.1475 - val_dense_1_loss: 0.2173 - val_dense_2_loss: 0.0821 - val_dense_3_loss: 0.0900 - val_dense_1_acc: 0.9374 - val_dense_2_acc: 0.9787 - val_dense_3_acc: 0.9749\n",
      "Epoch 12/80\n",
      "1413/1413 [==============================] - 739s 523ms/step - loss: 0.9899 - dense_1_loss: 1.3299 - dense_2_loss: 0.7725 - dense_3_loss: 0.5274 - dense_1_acc: 0.6931 - dense_2_acc: 0.8050 - dense_3_acc: 0.8421 - val_loss: 0.1521 - val_dense_1_loss: 0.2312 - val_dense_2_loss: 0.0750 - val_dense_3_loss: 0.0863 - val_dense_1_acc: 0.9390 - val_dense_2_acc: 0.9808 - val_dense_3_acc: 0.9764\n",
      "Epoch 13/80\n",
      "1413/1413 [==============================] - 743s 526ms/step - loss: 0.9697 - dense_1_loss: 1.2980 - dense_2_loss: 0.7593 - dense_3_loss: 0.5233 - dense_1_acc: 0.6970 - dense_2_acc: 0.8114 - dense_3_acc: 0.8449 - val_loss: 0.1315 - val_dense_1_loss: 0.2100 - val_dense_2_loss: 0.0706 - val_dense_3_loss: 0.0735 - val_dense_1_acc: 0.9421 - val_dense_2_acc: 0.9832 - val_dense_3_acc: 0.9791\n",
      "Epoch 14/80\n",
      "1413/1413 [==============================] - 738s 522ms/step - loss: 0.9476 - dense_1_loss: 1.2629 - dense_2_loss: 0.7484 - dense_3_loss: 0.5164 - dense_1_acc: 0.7020 - dense_2_acc: 0.8202 - dense_3_acc: 0.8473 - val_loss: 0.1318 - val_dense_1_loss: 0.2167 - val_dense_2_loss: 0.0771 - val_dense_3_loss: 0.0897 - val_dense_1_acc: 0.9392 - val_dense_2_acc: 0.9817 - val_dense_3_acc: 0.9736\n",
      "Epoch 15/80\n",
      "1413/1413 [==============================] - 829s 587ms/step - loss: 0.9324 - dense_1_loss: 1.2393 - dense_2_loss: 0.7394 - dense_3_loss: 0.5117 - dense_1_acc: 0.7075 - dense_2_acc: 0.8283 - dense_3_acc: 0.8530 - val_loss: 0.1646 - val_dense_1_loss: 0.2193 - val_dense_2_loss: 0.0774 - val_dense_3_loss: 0.0788 - val_dense_1_acc: 0.9405 - val_dense_2_acc: 0.9804 - val_dense_3_acc: 0.9770\n",
      "Epoch 16/80\n",
      "1413/1413 [==============================] - 824s 584ms/step - loss: 0.9156 - dense_1_loss: 1.2116 - dense_2_loss: 0.7322 - dense_3_loss: 0.5070 - dense_1_acc: 0.7142 - dense_2_acc: 0.8337 - dense_3_acc: 0.8565 - val_loss: 0.1323 - val_dense_1_loss: 0.2167 - val_dense_2_loss: 0.0695 - val_dense_3_loss: 0.0769 - val_dense_1_acc: 0.9404 - val_dense_2_acc: 0.9816 - val_dense_3_acc: 0.9787\n",
      "1413/1413 [==============================] - ETA: 0s - loss: 0.8994 - dense_1_loss: 1.1856 - dense_2_loss: 0.7235 - dense_3_loss: 0.5029 - dense_1_acc: 0.7180 - dense_2_acc: 0.8385 - dense_3_acc: 0.85 - 830s 587ms/step - loss: 0.8994 - dense_1_loss: 1.1856 - dense_2_loss: 0.7234 - dense_3_loss: 0.5029 - dense_1_acc: 0.7180 - dense_2_acc: 0.8386 - dense_3_acc: 0.8593 - val_loss: 0.1561 - val_dense_1_loss: 0.1999 - val_dense_2_loss: 0.0812 - val_dense_3_loss: 0.0723 - val_dense_1_acc: 0.9466 - val_dense_2_acc: 0.9791 - val_dense_3_acc: 0.9806\n",
      "Epoch 18/80\n",
      "1413/1413 [==============================] - 752s 532ms/step - loss: 0.8888 - dense_1_loss: 1.1678 - dense_2_loss: 0.7196 - dense_3_loss: 0.5001 - dense_1_acc: 0.7221 - dense_2_acc: 0.8432 - dense_3_acc: 0.8611 - val_loss: 0.1380 - val_dense_1_loss: 0.1958 - val_dense_2_loss: 0.0672 - val_dense_3_loss: 0.0702 - val_dense_1_acc: 0.9469 - val_dense_2_acc: 0.9836 - val_dense_3_acc: 0.9798\n",
      "Epoch 19/80\n",
      "   8/1413 [..............................] - ETA: 11:20 - loss: 0.9029 - dense_1_loss: 1.1558 - dense_2_loss: 0.7630 - dense_3_loss: 0.5371 - dense_1_acc: 0.7324 - dense_2_acc: 0.8203 - dense_3_acc: 0.8516"
     ]
    },
    {
     "name": "stderr",
     "output_type": "stream",
     "text": [
      "IOPub data rate exceeded.\n",
      "The notebook server will temporarily stop sending output\n",
      "to the client in order to avoid crashing it.\n",
      "To change this limit, set the config variable\n",
      "`--NotebookApp.iopub_data_rate_limit`.\n",
      "\n",
      "Current values:\n",
      "NotebookApp.iopub_data_rate_limit=1000000.0 (bytes/sec)\n",
      "NotebookApp.rate_limit_window=3.0 (secs)\n",
      "\n"
     ]
    },
    {
     "name": "stdout",
     "output_type": "stream",
     "text": [
      "1413/1413 [==============================] - 745s 527ms/step - loss: 0.8225 - dense_1_loss: 1.0631 - dense_2_loss: 0.6859 - dense_3_loss: 0.4779 - dense_1_acc: 0.7472 - dense_2_acc: 0.8662 - dense_3_acc: 0.8798 - val_loss: 0.1447 - val_dense_1_loss: 0.2099 - val_dense_2_loss: 0.0820 - val_dense_3_loss: 0.0688 - val_dense_1_acc: 0.9443 - val_dense_2_acc: 0.9821 - val_dense_3_acc: 0.9811\n",
      "Epoch 26/80\n",
      "1413/1413 [==============================] - 736s 521ms/step - loss: 0.8165 - dense_1_loss: 1.0527 - dense_2_loss: 0.6822 - dense_3_loss: 0.4784 - dense_1_acc: 0.7501 - dense_2_acc: 0.8686 - dense_3_acc: 0.8789 - val_loss: 0.1259 - val_dense_1_loss: 0.1964 - val_dense_2_loss: 0.0689 - val_dense_3_loss: 0.0652 - val_dense_1_acc: 0.9462 - val_dense_2_acc: 0.9838 - val_dense_3_acc: 0.9818\n",
      "Epoch 27/80\n",
      "1413/1413 [==============================] - 744s 527ms/step - loss: 0.8110 - dense_1_loss: 1.0442 - dense_2_loss: 0.6801 - dense_3_loss: 0.4755 - dense_1_acc: 0.7528 - dense_2_acc: 0.8723 - dense_3_acc: 0.8824 - val_loss: 0.1397 - val_dense_1_loss: 0.1859 - val_dense_2_loss: 0.0680 - val_dense_3_loss: 0.0599 - val_dense_1_acc: 0.9480 - val_dense_2_acc: 0.9827 - val_dense_3_acc: 0.9820\n",
      "Epoch 28/80\n",
      "1413/1413 [==============================] - 738s 522ms/step - loss: 0.8093 - dense_1_loss: 1.0397 - dense_2_loss: 0.6816 - dense_3_loss: 0.4760 - dense_1_acc: 0.7546 - dense_2_acc: 0.8740 - dense_3_acc: 0.8816 - val_loss: 0.2221 - val_dense_1_loss: 0.2323 - val_dense_2_loss: 0.3943 - val_dense_3_loss: 0.0819 - val_dense_1_acc: 0.9377 - val_dense_2_acc: 0.9373 - val_dense_3_acc: 0.9774\n",
      "Epoch 29/80\n",
      "1413/1413 [==============================] - 742s 525ms/step - loss: 0.7963 - dense_1_loss: 1.0204 - dense_2_loss: 0.6737 - dense_3_loss: 0.4706 - dense_1_acc: 0.7590 - dense_2_acc: 0.8781 - dense_3_acc: 0.8854 - val_loss: 0.1385 - val_dense_1_loss: 0.2127 - val_dense_2_loss: 0.0816 - val_dense_3_loss: 0.0811 - val_dense_1_acc: 0.9423 - val_dense_2_acc: 0.9812 - val_dense_3_acc: 0.9780\n",
      "Epoch 30/80\n",
      "1413/1413 [==============================] - 739s 523ms/step - loss: 0.7920 - dense_1_loss: 1.0130 - dense_2_loss: 0.6716 - dense_3_loss: 0.4703 - dense_1_acc: 0.7615 - dense_2_acc: 0.8775 - dense_3_acc: 0.8888 - val_loss: 0.3033 - val_dense_1_loss: 0.2576 - val_dense_2_loss: 0.4863 - val_dense_3_loss: 0.2361 - val_dense_1_acc: 0.9361 - val_dense_2_acc: 0.9428 - val_dense_3_acc: 0.9622\n",
      "Epoch 31/80\n",
      "1413/1413 [==============================] - 740s 523ms/step - loss: 0.7855 - dense_1_loss: 1.0035 - dense_2_loss: 0.6680 - dense_3_loss: 0.4668 - dense_1_acc: 0.7630 - dense_2_acc: 0.8803 - dense_3_acc: 0.8883 - val_loss: 0.2221 - val_dense_1_loss: 0.2214 - val_dense_2_loss: 0.2031 - val_dense_3_loss: 0.1545 - val_dense_1_acc: 0.9468 - val_dense_2_acc: 0.9776 - val_dense_3_acc: 0.9729\n",
      "Epoch 32/80\n",
      "1413/1413 [==============================] - 736s 521ms/step - loss: 0.7822 - dense_1_loss: 0.9997 - dense_2_loss: 0.6651 - dense_3_loss: 0.4644 - dense_1_acc: 0.7649 - dense_2_acc: 0.8831 - dense_3_acc: 0.8903 - val_loss: 0.1478 - val_dense_1_loss: 0.2267 - val_dense_2_loss: 0.0997 - val_dense_3_loss: 0.1352 - val_dense_1_acc: 0.9436 - val_dense_2_acc: 0.9814 - val_dense_3_acc: 0.9721\n",
      "Epoch 33/80\n",
      "1413/1413 [==============================] - 740s 524ms/step - loss: 0.7766 - dense_1_loss: 0.9900 - dense_2_loss: 0.6633 - dense_3_loss: 0.4633 - dense_1_acc: 0.7671 - dense_2_acc: 0.8830 - dense_3_acc: 0.8923 - val_loss: 0.1206 - val_dense_1_loss: 0.1955 - val_dense_2_loss: 0.1094 - val_dense_3_loss: 0.0637 - val_dense_1_acc: 0.9483 - val_dense_2_acc: 0.9799 - val_dense_3_acc: 0.9837\n",
      "Epoch 34/80\n",
      "1413/1413 [==============================] - 740s 523ms/step - loss: 0.7705 - dense_1_loss: 0.9802 - dense_2_loss: 0.6600 - dense_3_loss: 0.4616 - dense_1_acc: 0.7693 - dense_2_acc: 0.8856 - dense_3_acc: 0.8930 - val_loss: 0.1473 - val_dense_1_loss: 0.1970 - val_dense_2_loss: 0.0701 - val_dense_3_loss: 0.0688 - val_dense_1_acc: 0.9461 - val_dense_2_acc: 0.9837 - val_dense_3_acc: 0.9817\n",
      "Epoch 35/80\n",
      "1413/1413 [==============================] - 742s 525ms/step - loss: 0.7665 - dense_1_loss: 0.9744 - dense_2_loss: 0.6590 - dense_3_loss: 0.4581 - dense_1_acc: 0.7731 - dense_2_acc: 0.8871 - dense_3_acc: 0.8941 - val_loss: 0.1603 - val_dense_1_loss: 0.2051 - val_dense_2_loss: 0.0775 - val_dense_3_loss: 0.1338 - val_dense_1_acc: 0.9445 - val_dense_2_acc: 0.9819 - val_dense_3_acc: 0.9693\n",
      "Epoch 36/80\n",
      "1413/1413 [==============================] - 739s 523ms/step - loss: 0.7628 - dense_1_loss: 0.9676 - dense_2_loss: 0.6577 - dense_3_loss: 0.4583 - dense_1_acc: 0.7738 - dense_2_acc: 0.8881 - dense_3_acc: 0.8945 - val_loss: 0.1279 - val_dense_1_loss: 0.1820 - val_dense_2_loss: 0.1040 - val_dense_3_loss: 0.1436 - val_dense_1_acc: 0.9496 - val_dense_2_acc: 0.9809 - val_dense_3_acc: 0.9730\n",
      "Epoch 37/80\n",
      " 691/1413 [=============>................] - ETA: 5:48 - loss: 0.7542 - dense_1_loss: 0.9542 - dense_2_loss: 0.6545 - dense_3_loss: 0.4539 - dense_1_acc: 0.7760 - dense_2_acc: 0.8913 - dense_3_acc: 0.8994"
     ]
    },
    {
     "name": "stderr",
     "output_type": "stream",
     "text": [
      "IOPub data rate exceeded.\n",
      "The notebook server will temporarily stop sending output\n",
      "to the client in order to avoid crashing it.\n",
      "To change this limit, set the config variable\n",
      "`--NotebookApp.iopub_data_rate_limit`.\n",
      "\n",
      "Current values:\n",
      "NotebookApp.iopub_data_rate_limit=1000000.0 (bytes/sec)\n",
      "NotebookApp.rate_limit_window=3.0 (secs)\n",
      "\n"
     ]
    },
    {
     "name": "stdout",
     "output_type": "stream",
     "text": [
      "1413/1413 [==============================] - 737s 521ms/step - loss: 0.7493 - dense_1_loss: 0.9459 - dense_2_loss: 0.6514 - dense_3_loss: 0.4540 - dense_1_acc: 0.7807 - dense_2_acc: 0.8921 - dense_3_acc: 0.8996 - val_loss: 0.1091 - val_dense_1_loss: 0.1801 - val_dense_2_loss: 0.0580 - val_dense_3_loss: 0.0810 - val_dense_1_acc: 0.9494 - val_dense_2_acc: 0.9861 - val_dense_3_acc: 0.9810\n",
      "Epoch 40/80\n",
      "1413/1413 [==============================] - 738s 522ms/step - loss: 0.7467 - dense_1_loss: 0.9412 - dense_2_loss: 0.6505 - dense_3_loss: 0.4539 - dense_1_acc: 0.7803 - dense_2_acc: 0.8927 - dense_3_acc: 0.9002 - val_loss: 0.1482 - val_dense_1_loss: 0.1884 - val_dense_2_loss: 0.0993 - val_dense_3_loss: 0.0654 - val_dense_1_acc: 0.9518 - val_dense_2_acc: 0.9808 - val_dense_3_acc: 0.9821\n",
      "Epoch 41/80\n",
      "1413/1413 [==============================] - 738s 523ms/step - loss: 0.7445 - dense_1_loss: 0.9397 - dense_2_loss: 0.6484 - dense_3_loss: 0.4502 - dense_1_acc: 0.7831 - dense_2_acc: 0.8941 - dense_3_acc: 0.9024 - val_loss: 0.1390 - val_dense_1_loss: 0.1994 - val_dense_2_loss: 0.0967 - val_dense_3_loss: 0.1977 - val_dense_1_acc: 0.9490 - val_dense_2_acc: 0.9824 - val_dense_3_acc: 0.9743\n",
      "Epoch 42/80\n",
      "  88/1413 [>.............................] - ETA: 10:40 - loss: 0.7385 - dense_1_loss: 0.9357 - dense_2_loss: 0.6369 - dense_3_loss: 0.4457 - dense_1_acc: 0.7876 - dense_2_acc: 0.8999 - dense_3_acc: 0.9068"
     ]
    },
    {
     "name": "stderr",
     "output_type": "stream",
     "text": [
      "IOPub data rate exceeded.\n",
      "The notebook server will temporarily stop sending output\n",
      "to the client in order to avoid crashing it.\n",
      "To change this limit, set the config variable\n",
      "`--NotebookApp.iopub_data_rate_limit`.\n",
      "\n",
      "Current values:\n",
      "NotebookApp.iopub_data_rate_limit=1000000.0 (bytes/sec)\n",
      "NotebookApp.rate_limit_window=3.0 (secs)\n",
      "\n"
     ]
    },
    {
     "name": "stdout",
     "output_type": "stream",
     "text": [
      "1413/1413 [==============================] - 739s 523ms/step - loss: 0.7238 - dense_1_loss: 0.9058 - dense_2_loss: 0.6400 - dense_3_loss: 0.4437 - dense_1_acc: 0.7962 - dense_2_acc: 0.9014 - dense_3_acc: 0.9079 - val_loss: 0.1038 - val_dense_1_loss: 0.1741 - val_dense_2_loss: 0.0557 - val_dense_3_loss: 0.1740 - val_dense_1_acc: 0.9527 - val_dense_2_acc: 0.9858 - val_dense_3_acc: 0.9770\n",
      "Epoch 49/80\n",
      "1413/1413 [==============================] - 737s 521ms/step - loss: 0.7201 - dense_1_loss: 0.9007 - dense_2_loss: 0.6367 - dense_3_loss: 0.4422 - dense_1_acc: 0.7970 - dense_2_acc: 0.9026 - dense_3_acc: 0.9096 - val_loss: 0.0934 - val_dense_1_loss: 0.1706 - val_dense_2_loss: 0.0650 - val_dense_3_loss: 0.0525 - val_dense_1_acc: 0.9515 - val_dense_2_acc: 0.9833 - val_dense_3_acc: 0.9853\n",
      "Epoch 50/80\n",
      " 889/1413 [=================>............] - ETA: 4:12 - loss: 0.7147 - dense_1_loss: 0.8932 - dense_2_loss: 0.6331 - dense_3_loss: 0.4393 - dense_1_acc: 0.7986 - dense_2_acc: 0.9047 - dense_3_acc: 0.9108"
     ]
    },
    {
     "name": "stderr",
     "output_type": "stream",
     "text": [
      "IOPub data rate exceeded.\n",
      "The notebook server will temporarily stop sending output\n",
      "to the client in order to avoid crashing it.\n",
      "To change this limit, set the config variable\n",
      "`--NotebookApp.iopub_data_rate_limit`.\n",
      "\n",
      "Current values:\n",
      "NotebookApp.iopub_data_rate_limit=1000000.0 (bytes/sec)\n",
      "NotebookApp.rate_limit_window=3.0 (secs)\n",
      "\n"
     ]
    },
    {
     "name": "stdout",
     "output_type": "stream",
     "text": [
      "1413/1413 [==============================] - 741s 524ms/step - loss: 0.7070 - dense_1_loss: 0.8795 - dense_2_loss: 0.6318 - dense_3_loss: 0.4373 - dense_1_acc: 0.8067 - dense_2_acc: 0.9078 - dense_3_acc: 0.9153 - val_loss: 0.1102 - val_dense_1_loss: 0.1674 - val_dense_2_loss: 0.0571 - val_dense_3_loss: 0.0538 - val_dense_1_acc: 0.9564 - val_dense_2_acc: 0.9865 - val_dense_3_acc: 0.9856\n",
      "Epoch 58/80\n",
      "1381/1413 [============================>.] - ETA: 15s - loss: 0.6993 - dense_1_loss: 0.8676 - dense_2_loss: 0.6275 - dense_3_loss: 0.4344 - dense_1_acc: 0.8094 - dense_2_acc: 0.9105 - dense_3_acc: 0.9164"
     ]
    },
    {
     "name": "stderr",
     "output_type": "stream",
     "text": [
      "IOPub data rate exceeded.\n",
      "The notebook server will temporarily stop sending output\n",
      "to the client in order to avoid crashing it.\n",
      "To change this limit, set the config variable\n",
      "`--NotebookApp.iopub_data_rate_limit`.\n",
      "\n",
      "Current values:\n",
      "NotebookApp.iopub_data_rate_limit=1000000.0 (bytes/sec)\n",
      "NotebookApp.rate_limit_window=3.0 (secs)\n",
      "\n"
     ]
    },
    {
     "name": "stdout",
     "output_type": "stream",
     "text": [
      "1413/1413 [==============================] - 741s 525ms/step - loss: 0.6873 - dense_1_loss: 0.8491 - dense_2_loss: 0.6225 - dense_3_loss: 0.4284 - dense_1_acc: 0.8156 - dense_2_acc: 0.9143 - dense_3_acc: 0.9209 - val_loss: 0.1155 - val_dense_1_loss: 0.1815 - val_dense_2_loss: 0.0680 - val_dense_3_loss: 0.0545 - val_dense_1_acc: 0.9550 - val_dense_2_acc: 0.9857 - val_dense_3_acc: 0.9866\n",
      "Epoch 66/80\n",
      "1413/1413 [==============================] - 740s 524ms/step - loss: 0.6855 - dense_1_loss: 0.8465 - dense_2_loss: 0.6210 - dense_3_loss: 0.4279 - dense_1_acc: 0.8197 - dense_2_acc: 0.9145 - dense_3_acc: 0.9211 - val_loss: 0.1913 - val_dense_1_loss: 0.2415 - val_dense_2_loss: 0.3659 - val_dense_3_loss: 0.3382 - val_dense_1_acc: 0.9511 - val_dense_2_acc: 0.9617 - val_dense_3_acc: 0.9655\n",
      "Epoch 67/80\n",
      " 668/1413 [=============>................] - ETA: 5:58 - loss: 0.6797 - dense_1_loss: 0.8371 - dense_2_loss: 0.6192 - dense_3_loss: 0.4253 - dense_1_acc: 0.8199 - dense_2_acc: 0.9132 - dense_3_acc: 0.9227"
     ]
    },
    {
     "name": "stderr",
     "output_type": "stream",
     "text": [
      "IOPub data rate exceeded.\n",
      "The notebook server will temporarily stop sending output\n",
      "to the client in order to avoid crashing it.\n",
      "To change this limit, set the config variable\n",
      "`--NotebookApp.iopub_data_rate_limit`.\n",
      "\n",
      "Current values:\n",
      "NotebookApp.iopub_data_rate_limit=1000000.0 (bytes/sec)\n",
      "NotebookApp.rate_limit_window=3.0 (secs)\n",
      "\n"
     ]
    },
    {
     "name": "stdout",
     "output_type": "stream",
     "text": [
      "1413/1413 [==============================] - 743s 526ms/step - loss: 0.6749 - dense_1_loss: 0.8292 - dense_2_loss: 0.6164 - dense_3_loss: 0.4245 - dense_1_acc: 0.8253 - dense_2_acc: 0.9183 - dense_3_acc: 0.9241 - val_loss: 0.2558 - val_dense_1_loss: 0.3937 - val_dense_2_loss: 1.0273 - val_dense_3_loss: 0.3037 - val_dense_1_acc: 0.9399 - val_dense_2_acc: 0.9322 - val_dense_3_acc: 0.9639\n",
      "Epoch 74/80\n",
      "1413/1413 [==============================] - 737s 521ms/step - loss: 0.6734 - dense_1_loss: 0.8271 - dense_2_loss: 0.6162 - dense_3_loss: 0.4231 - dense_1_acc: 0.8260 - dense_2_acc: 0.9197 - dense_3_acc: 0.9260 - val_loss: 0.1876 - val_dense_1_loss: 0.3254 - val_dense_2_loss: 0.6620 - val_dense_3_loss: 0.1248 - val_dense_1_acc: 0.9459 - val_dense_2_acc: 0.9559 - val_dense_3_acc: 0.9806\n",
      "Epoch 75/80\n",
      "1102/1413 [======================>.......] - ETA: 2:30 - loss: 0.6704 - dense_1_loss: 0.8233 - dense_2_loss: 0.6135 - dense_3_loss: 0.4216 - dense_1_acc: 0.8282 - dense_2_acc: 0.9186 - dense_3_acc: 0.9271"
     ]
    },
    {
     "name": "stderr",
     "output_type": "stream",
     "text": [
      "IOPub data rate exceeded.\n",
      "The notebook server will temporarily stop sending output\n",
      "to the client in order to avoid crashing it.\n",
      "To change this limit, set the config variable\n",
      "`--NotebookApp.iopub_data_rate_limit`.\n",
      "\n",
      "Current values:\n",
      "NotebookApp.iopub_data_rate_limit=1000000.0 (bytes/sec)\n",
      "NotebookApp.rate_limit_window=3.0 (secs)\n",
      "\n"
     ]
    }
   ],
   "source": [
    "batch_size=128\n",
    "train_gen = DataLoader(X_train, y_train, training=True, batch_size=batch_size, size=size)\n",
    "valid_gen = DataLoader(X_test, y_test, training=False, batch_size=batch_size, size=size)\n",
    "#strategy = tf.distribute.MirroredStrategy()\n",
    "#print('Number of devices: {}'.format(strategy.num_replicas_in_sync))\n",
    "#with strategy.scope():\n",
    "model = getMultiBased()\n",
    "#model.summary()\n",
    "model.compile(optimizer=Adam(), metrics=[\"acc\"], loss=\"categorical_crossentropy\", loss_weights=[0.5,0.25,0.25])\n",
    "print(\"compiled\")\n",
    "model.fit_generator(train_gen, validation_data=valid_gen, epochs=80, callbacks=[checkpoint], workers=64, use_multiprocessing=True)\n",
    "model.save(\"multiDenseNet.h5\")"
   ]
  },
  {
   "cell_type": "code",
   "execution_count": null,
   "metadata": {},
   "outputs": [],
   "source": []
  }
 ],
 "metadata": {
  "kernelspec": {
   "display_name": "Python 3",
   "language": "python",
   "name": "python3"
  },
  "language_info": {
   "codemirror_mode": {
    "name": "ipython",
    "version": 3
   },
   "file_extension": ".py",
   "mimetype": "text/x-python",
   "name": "python",
   "nbconvert_exporter": "python",
   "pygments_lexer": "ipython3",
   "version": "3.6.5"
  }
 },
 "nbformat": 4,
 "nbformat_minor": 2
}
