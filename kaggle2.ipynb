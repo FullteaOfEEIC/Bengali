{
 "cells": [
  {
   "cell_type": "code",
   "execution_count": 1,
   "metadata": {},
   "outputs": [
    {
     "name": "stderr",
     "output_type": "stream",
     "text": [
      "Using TensorFlow backend.\n"
     ]
    }
   ],
   "source": [
    "import pandas as pd\n",
    "import numpy as np\n",
    "import cv2\n",
    "import os\n",
    "import re\n",
    "import sys\n",
    "from collections import Counter\n",
    "import seaborn as sns\n",
    "import pyarrow as pa\n",
    "import pyarrow.parquet as pq\n",
    "import matplotlib.pyplot as plt\n",
    "from tqdm.notebook import tqdm\n",
    "import multiprocessing\n",
    "from multiprocessing import Pool\n",
    "import itertools\n",
    "from copy import deepcopy\n",
    "\n",
    "import xgboost as xgb\n",
    "from sklearn.model_selection import train_test_split\n",
    "from sklearn.metrics import accuracy_score, confusion_matrix\n",
    "from sklearn.ensemble import RandomForestClassifier\n",
    "\n",
    "from keras.models import Sequential, Model\n",
    "from keras.layers import Dense, Dropout, Flatten, Conv2D, MaxPool2D, BatchNormalization, GlobalAveragePooling2D\n",
    "from keras.optimizers import Adam\n",
    "from keras.utils import to_categorical, Sequence\n",
    "from keras.callbacks import EarlyStopping, ModelCheckpoint\n",
    "from keras.applications.resnet_v2 import ResNet152V2, preprocess_input\n",
    "from keras.applications.xception import Xception\n",
    "from keras.applications.densenet import DenseNet121, DenseNet169#, preprocess_input\n",
    "from keras.applications.mobilenet_v2 import MobileNetV2\n",
    "from keras.utils import multi_gpu_model\n",
    "import tensorflow as tf\n",
    "\n",
    "from datetime import datetime\n",
    "import pickle\n",
    "import scipy.stats as stats\n",
    "import os\n",
    "import sklearn.metrics"
   ]
  },
  {
   "cell_type": "code",
   "execution_count": 2,
   "metadata": {},
   "outputs": [],
   "source": [
    "os.environ[\"CUDA_VISIBLE_DEVICES\"]=\"1\""
   ]
  },
  {
   "cell_type": "code",
   "execution_count": 3,
   "metadata": {},
   "outputs": [],
   "source": [
    "y = pd.read_csv(\"data/train.csv\")\n",
    "yEval = pd.read_csv(\"data/test.csv\")\n",
    "classMap = pd.read_csv(\"data/class_map.csv\")"
   ]
  },
  {
   "cell_type": "code",
   "execution_count": 4,
   "metadata": {},
   "outputs": [],
   "source": [
    "labels = [\"grapheme_root\",\"vowel_diacritic\",\"consonant_diacritic\"]"
   ]
  },
  {
   "cell_type": "code",
   "execution_count": 5,
   "metadata": {},
   "outputs": [],
   "source": [
    "y = y.set_index(\"image_id\")"
   ]
  },
  {
   "cell_type": "code",
   "execution_count": 6,
   "metadata": {},
   "outputs": [],
   "source": [
    "tables = [pq.read_table('data/train_image_data_{0}.parquet'.format(i)) for i in range(4)]\n",
    "tables = [table.to_pandas() for table in tables]\n",
    "df = pd.concat(tables)\n",
    "df = df.set_index(\"image_id\")\n",
    "del tables"
   ]
  },
  {
   "cell_type": "code",
   "execution_count": 7,
   "metadata": {},
   "outputs": [],
   "source": [
    "size=(137,137)\n",
    "\n",
    "def transformImg(img):\n",
    "    img=255-img\n",
    "    mu = cv2.moments(img, False)\n",
    "    x, y= mu[\"m10\"]/mu[\"m00\"] , mu[\"m01\"]/mu[\"m00\"]\n",
    "    M = np.float32([[1,0,(236/2)-x],[0,1,(137/2)-y]])\n",
    "    img = cv2.warpAffine(img,M,(img.shape[1],img.shape[0]))\n",
    "    img = cv2.cvtColor(img, cv2.COLOR_GRAY2RGB)\n",
    "    kernel = np.ones((5,5),np.float32)/25\n",
    "    img = cv2.filter2D(img,-1,kernel)\n",
    "    img = cv2.filter2D(img,-1,kernel)\n",
    "    img = cv2.resize(img, (size[0],size[1]))\n",
    "    #img = preprocess_input(img)\n",
    "    return img\n",
    "\n",
    "def randomErase(img, prob=True):\n",
    "    # random erasing\n",
    "    # https://github.com/yu4u/cutout-random-erasing\n",
    "    p = 0.5\n",
    "    s_l = 0.02\n",
    "    s_h = 0.4\n",
    "    r_1 = 0.3\n",
    "    r_2 = 1 / 0.3\n",
    "    v_l = 0\n",
    "    v_h = 255\n",
    "    input_size=size[0]\n",
    "    if prob==False or np.random.random()<p:\n",
    "\n",
    "        while True:\n",
    "            s = np.random.uniform(s_l, s_h) * input_size * input_size\n",
    "            r = np.random.uniform(r_1, r_2)\n",
    "            w = int(np.sqrt(s / r))\n",
    "            h = int(np.sqrt(s * r))\n",
    "            left = np.random.randint(0, input_size)\n",
    "            top = np.random.randint(0, input_size)\n",
    "            if left + w <= input_size and top + h <= input_size:\n",
    "                break\n",
    "        c = np.random.uniform(v_l, v_h, (h, w, 3))\n",
    "        img[top : top + h, left : left + w, :] = c\n",
    "    return img"
   ]
  },
  {
   "cell_type": "code",
   "execution_count": 8,
   "metadata": {},
   "outputs": [],
   "source": [
    "class DataLoader(Sequence):\n",
    "    def __init__(self,X,y,training,batch_size=64):\n",
    "        self.training = training\n",
    "        self.batch_size=batch_size\n",
    "        self.X=X\n",
    "        self.y=y\n",
    "\n",
    "    def __len__(self):\n",
    "        return int(np.ceil(self.X.shape[0] / self.batch_size))\n",
    "\n",
    "\n",
    "    def __getitem__(self, i):\n",
    "        _imgs=self.X[i * self.batch_size:(i + 1) * self.batch_size,:,:]\n",
    "        imgs=[]\n",
    "        for img in _imgs:\n",
    "            imgs.append(transformImg(img))\n",
    "        \n",
    "        imgs=np.asarray(imgs).astype(np.float32)\n",
    "        \n",
    "        \n",
    "        ret_y=[]\n",
    "        for label in labels:\n",
    "            ret_y.append(to_categorical(self.y[i * self.batch_size:(i + 1) * self.batch_size][label],num_classes=len(set(y[label]))))\n",
    "    \n",
    "    \n",
    "        #mix up\n",
    "        if self.training and np.random.random()<0.8:\n",
    "        #if self.training:\n",
    "            r= np.random.permutation(imgs.shape[0])\n",
    "            imgs2=deepcopy(imgs)[r]\n",
    "            grapheme=ret_y[0]\n",
    "            vowel=ret_y[1]\n",
    "            consonant=ret_y[2]\n",
    "            grapheme2=deepcopy(grapheme)[r]\n",
    "            vowel2=deepcopy(vowel)[r]\n",
    "            consonant2=deepcopy(consonant)[r]\n",
    "            alpha=np.random.rand(imgs.shape[0])\n",
    "            imgs=np.tile(alpha,(3,*size,1)).T*imgs+np.tile((1-alpha),(3,*size,1)).T*imgs2\n",
    "            grapheme=np.tile(alpha,(168,1)).T*grapheme+np.tile((1-alpha),(168,1)).T*grapheme2\n",
    "            vowel=np.tile(alpha,(11,1)).T*vowel+np.tile((1-alpha),(11,1)).T*vowel2\n",
    "            consonant=np.tile(alpha,(7,1)).T*consonant+np.tile((1-alpha),(7,1)).T*consonant2\n",
    "            grapheme=grapheme.astype(np.float32)\n",
    "            vowel=vowel.astype(np.float32)\n",
    "            consonant=consonant.astype(np.float32)\n",
    "            ret_y=[grapheme,vowel,consonant]\n",
    "            \n",
    "        if self.training:\n",
    "            imgs = [randomErase(img) for img in imgs]\n",
    "        imgs = np.asarray(imgs).astype(np.float32)/255.0\n",
    "            \n",
    "\n",
    "        return imgs, ret_y\n",
    "\n"
   ]
  },
  {
   "cell_type": "code",
   "execution_count": 9,
   "metadata": {},
   "outputs": [],
   "source": [
    "def getMultiXceptionBased():\n",
    "    model =  Xception(weights=\"imagenet\", include_top=False)\n",
    "    x = model.output\n",
    "    x = GlobalAveragePooling2D()(x)\n",
    "    #x = Dense(1024, activation=\"relu\")(x)\n",
    "    grapheme = Dense(168, activation=\"softmax\")(x)\n",
    "    vowel = Dense(11,activation=\"softmax\")(x)\n",
    "    consonant = Dense(7, activation=\"softmax\")(x)\n",
    "    model = Model(inputs=model.input, outputs=[grapheme,vowel,consonant])\n",
    "    return model"
   ]
  },
  {
   "cell_type": "code",
   "execution_count": 10,
   "metadata": {},
   "outputs": [],
   "source": [
    "X_train, X_test, y_train, y_test = train_test_split(df.values.reshape(-1,137,236),y,train_size=0.9,random_state=8000)"
   ]
  },
  {
   "cell_type": "code",
   "execution_count": 11,
   "metadata": {},
   "outputs": [],
   "source": [
    "early_stopping =  EarlyStopping(monitor='val_loss', min_delta=0.0, patience=20)\n",
    "checkpoint = ModelCheckpoint(filepath=\"Xception2-withoutdense-epoch{epoch:04}.h5\")"
   ]
  },
  {
   "cell_type": "code",
   "execution_count": null,
   "metadata": {},
   "outputs": [
    {
     "name": "stdout",
     "output_type": "stream",
     "text": [
      "compiled\n",
      "Epoch 1/60\n",
      "2825/2825 [==============================] - 1080s 382ms/step - loss: 6.3215 - dense_1_loss: 2.4048 - dense_2_loss: 0.9341 - dense_3_loss: 0.5777 - dense_1_acc: 0.5662 - dense_2_acc: 0.7868 - dense_3_acc: 0.8558 - val_loss: 1.5445 - val_dense_1_loss: 0.4767 - val_dense_2_loss: 0.2947 - val_dense_3_loss: 0.1660 - val_dense_1_acc: 0.8778 - val_dense_2_acc: 0.9114 - val_dense_3_acc: 0.9578\n",
      "Epoch 2/60\n",
      "2825/2825 [==============================] - 1043s 369ms/step - loss: 5.0593 - dense_1_loss: 1.9036 - dense_2_loss: 0.7656 - dense_3_loss: 0.4864 - dense_1_acc: 0.7030 - dense_2_acc: 0.8390 - dense_3_acc: 0.8884 - val_loss: 1.4071 - val_dense_1_loss: 0.4556 - val_dense_2_loss: 0.2278 - val_dense_3_loss: 0.1526 - val_dense_1_acc: 0.8980 - val_dense_2_acc: 0.9567 - val_dense_3_acc: 0.9665\n",
      "Epoch 3/60\n",
      "2825/2825 [==============================] - 1041s 368ms/step - loss: 4.7014 - dense_1_loss: 1.7641 - dense_2_loss: 0.7140 - dense_3_loss: 0.4592 - dense_1_acc: 0.7252 - dense_2_acc: 0.8470 - dense_3_acc: 0.8929 - val_loss: 1.0205 - val_dense_1_loss: 0.3735 - val_dense_2_loss: 0.1338 - val_dense_3_loss: 0.1301 - val_dense_1_acc: 0.9175 - val_dense_2_acc: 0.9768 - val_dense_3_acc: 0.9702\n",
      "Epoch 4/60\n",
      "2825/2825 [==============================] - ETA: 0s - loss: 4.4451 - dense_1_loss: 1.6608 - dense_2_loss: 0.6810 - dense_3_loss: 0.4424 - dense_1_acc: 0.7382 - dense_2_acc: 0.8532 - dense_3_acc: 0.89 - 1043s 369ms/step - loss: 4.4456 - dense_1_loss: 1.6610 - dense_2_loss: 0.6811 - dense_3_loss: 0.4425 - dense_1_acc: 0.7381 - dense_2_acc: 0.8532 - dense_3_acc: 0.8969 - val_loss: 0.6262 - val_dense_1_loss: 0.2835 - val_dense_2_loss: 0.0947 - val_dense_3_loss: 0.0825 - val_dense_1_acc: 0.9352 - val_dense_2_acc: 0.9821 - val_dense_3_acc: 0.9817\n",
      "Epoch 5/60\n",
      " 310/2825 [==>...........................] - ETA: 13:54 - loss: 5.0142 - dense_1_loss: 1.8547 - dense_2_loss: 0.7901 - dense_3_loss: 0.5147 - dense_1_acc: 0.7379 - dense_2_acc: 0.8419 - dense_3_acc: 0.8890"
     ]
    }
   ],
   "source": [
    "train_gen = DataLoader(X_train, y_train, training=True, batch_size=64)\n",
    "valid_gen = DataLoader(X_test, y_test, training=False, batch_size=64)\n",
    "model = getMultiXceptionBased()\n",
    "model.compile(optimizer=Adam(), metrics=[\"acc\"], loss=\"categorical_crossentropy\", loss_weights=[2.,1.,1.])\n",
    "print(\"compiled\")\n",
    "model.fit_generator(train_gen, validation_data=valid_gen, epochs=60, callbacks=[early_stopping, checkpoint], workers=multiprocessing.cpu_count(), use_multiprocessing=True)\n",
    "model.save(\"multixception2-withoutdense.h5\")"
   ]
  },
  {
   "cell_type": "code",
   "execution_count": null,
   "metadata": {},
   "outputs": [],
   "source": []
  }
 ],
 "metadata": {
  "kernelspec": {
   "display_name": "Python 3",
   "language": "python",
   "name": "python3"
  },
  "language_info": {
   "codemirror_mode": {
    "name": "ipython",
    "version": 3
   },
   "file_extension": ".py",
   "mimetype": "text/x-python",
   "name": "python",
   "nbconvert_exporter": "python",
   "pygments_lexer": "ipython3",
   "version": "3.6.5"
  }
 },
 "nbformat": 4,
 "nbformat_minor": 2
}
