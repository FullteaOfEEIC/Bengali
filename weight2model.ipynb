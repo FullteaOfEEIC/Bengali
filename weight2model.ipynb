{
 "cells": [
  {
   "cell_type": "code",
   "execution_count": null,
   "metadata": {},
   "outputs": [],
   "source": [
    "from tensorflow.keras import layers as L\n",
    "from tensorflow.keras import Model\n",
    "import  efficientnet.tfkeras as efn\n",
    "import tensorflow as tf"
   ]
  },
  {
   "cell_type": "code",
   "execution_count": null,
   "metadata": {},
   "outputs": [],
   "source": [
    "import os\n",
    "os.environ[\"CUDA_VISIBLE_DEVICES\"]=\"\""
   ]
  },
  {
   "cell_type": "code",
   "execution_count": null,
   "metadata": {},
   "outputs": [],
   "source": [
    "def normalize(image):\n",
    "  # https://github.com/tensorflow/tpu/blob/master/models/official/efficientnet/main.py#L325-L326\n",
    "  # https://github.com/tensorflow/tpu/blob/master/models/official/efficientnet/efficientnet_builder.py#L31-L32\n",
    "  image -= tf.constant([0.485 * 255, 0.456 * 255, 0.406 * 255])  # RGB\n",
    "  image /= tf.constant([0.229 * 255, 0.224 * 255, 0.225 * 255])  # RGB\n",
    "  return image\n",
    "\n",
    "def get_model(input_size, backbone='efficientnet-b5', weights='noisy-student', tta=False):\n",
    "  print(f'Using backbone {backbone} and weights {weights}')\n",
    "  x = L.Input(shape=input_size, name='imgs', dtype='float32')\n",
    "  y = normalize(x)\n",
    "  if backbone.startswith('efficientnet'):\n",
    "    model_fn = getattr(efn, f'EfficientNetB{backbone[-1]}')\n",
    "\n",
    "  y = model_fn(input_shape=input_size, weights=weights, include_top=False)(y)\n",
    "  y = L.GlobalAveragePooling2D()(y)\n",
    "  y = L.Dropout(0.2)(y)\n",
    "  # 1292 of 1295 are present\n",
    "  y = L.Dense(1292, activation='softmax')(y)\n",
    "  model = tf.keras.Model(x, y)\n",
    "\n",
    "\n",
    "  return model"
   ]
  },
  {
   "cell_type": "code",
   "execution_count": null,
   "metadata": {},
   "outputs": [],
   "source": [
    "size=(160,256)"
   ]
  },
  {
   "cell_type": "code",
   "execution_count": null,
   "metadata": {},
   "outputs": [],
   "source": [
    "model = get_model(input_size=size + (3, ),weights=None)\n",
    "model.load_weights(\"model-B5-25-TPU.h5\")"
   ]
  },
  {
   "cell_type": "code",
   "execution_count": null,
   "metadata": {},
   "outputs": [],
   "source": [
    "model.save(\"B5-25.h5\")"
   ]
  },
  {
   "cell_type": "code",
   "execution_count": null,
   "metadata": {},
   "outputs": [],
   "source": [
    "model.summary()"
   ]
  },
  {
   "cell_type": "code",
   "execution_count": null,
   "metadata": {},
   "outputs": [],
   "source": []
  }
 ],
 "metadata": {
  "kernelspec": {
   "display_name": "Python 3",
   "language": "python",
   "name": "python3"
  },
  "language_info": {
   "codemirror_mode": {
    "name": "ipython",
    "version": 3
   },
   "file_extension": ".py",
   "mimetype": "text/x-python",
   "name": "python",
   "nbconvert_exporter": "python",
   "pygments_lexer": "ipython3",
   "version": "3.6.5"
  }
 },
 "nbformat": 4,
 "nbformat_minor": 4
}
