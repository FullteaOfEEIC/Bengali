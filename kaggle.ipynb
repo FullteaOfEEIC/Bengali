{
 "cells": [
  {
   "cell_type": "code",
   "execution_count": 1,
   "metadata": {},
   "outputs": [
    {
     "name": "stderr",
     "output_type": "stream",
     "text": [
      "Using TensorFlow backend.\n"
     ]
    }
   ],
   "source": [
    "import pandas as pd\n",
    "import numpy as np\n",
    "import cv2\n",
    "import os\n",
    "import re\n",
    "import sys\n",
    "from collections import Counter\n",
    "import seaborn as sns\n",
    "import pyarrow as pa\n",
    "import pyarrow.parquet as pq\n",
    "import matplotlib.pyplot as plt\n",
    "from tqdm.notebook import tqdm\n",
    "import multiprocessing\n",
    "from multiprocessing import Pool\n",
    "import itertools\n",
    "from copy import deepcopy\n",
    "\n",
    "import xgboost as xgb\n",
    "from sklearn.model_selection import train_test_split\n",
    "from sklearn.metrics import accuracy_score, confusion_matrix\n",
    "from sklearn.ensemble import RandomForestClassifier\n",
    "\n",
    "from keras.models import Sequential, Model\n",
    "from keras.layers import Dense, Dropout, Flatten, Conv2D, MaxPool2D, BatchNormalization, GlobalAveragePooling2D\n",
    "from keras.optimizers import Adam\n",
    "from keras.utils import to_categorical, Sequence\n",
    "from keras.callbacks import EarlyStopping, ModelCheckpoint\n",
    "from keras.applications.resnet_v2 import ResNet152V2, preprocess_input\n",
    "from keras.applications.xception import Xception\n",
    "from keras.applications.densenet import DenseNet121, DenseNet169#, preprocess_input\n",
    "from keras.applications.mobilenet_v2 import MobileNetV2\n",
    "from keras.utils import multi_gpu_model\n",
    "import tensorflow as tf\n",
    "\n",
    "from datetime import datetime\n",
    "import pickle\n",
    "import scipy.stats as stats\n",
    "import os\n",
    "import sklearn.metrics"
   ]
  },
  {
   "cell_type": "code",
   "execution_count": 2,
   "metadata": {},
   "outputs": [],
   "source": [
    "y = pd.read_csv(\"data/train.csv\")\n",
    "yEval = pd.read_csv(\"data/test.csv\")\n",
    "classMap = pd.read_csv(\"data/class_map.csv\")"
   ]
  },
  {
   "cell_type": "code",
   "execution_count": 3,
   "metadata": {},
   "outputs": [],
   "source": [
    "labels = [\"grapheme_root\",\"vowel_diacritic\",\"consonant_diacritic\"]"
   ]
  },
  {
   "cell_type": "code",
   "execution_count": 4,
   "metadata": {},
   "outputs": [],
   "source": [
    "y = y.set_index(\"image_id\")"
   ]
  },
  {
   "cell_type": "code",
   "execution_count": 5,
   "metadata": {},
   "outputs": [],
   "source": [
    "tables = [pq.read_table('data/train_image_data_{0}.parquet'.format(i)) for i in range(4)]\n",
    "tables = [table.to_pandas() for table in tables]\n",
    "df = pd.concat(tables)\n",
    "df = df.set_index(\"image_id\")\n",
    "del tables"
   ]
  },
  {
   "cell_type": "code",
   "execution_count": 6,
   "metadata": {},
   "outputs": [],
   "source": [
    "size=(137,137)\n",
    "\n",
    "def transformImg(img):\n",
    "    img=255-img\n",
    "    mu = cv2.moments(img, False)\n",
    "    x, y= mu[\"m10\"]/mu[\"m00\"] , mu[\"m01\"]/mu[\"m00\"]\n",
    "    M = np.float32([[1,0,(236/2)-x],[0,1,(137/2)-y]])\n",
    "    img = cv2.warpAffine(img,M,(img.shape[1],img.shape[0]))\n",
    "    img = cv2.cvtColor(img, cv2.COLOR_GRAY2RGB)\n",
    "    kernel = np.ones((5,5),np.float32)/25\n",
    "    img = cv2.filter2D(img,-1,kernel)\n",
    "    img = cv2.filter2D(img,-1,kernel)\n",
    "    img = cv2.resize(img, (size[0],size[1]))\n",
    "    #img = preprocess_input(img)\n",
    "    return img\n",
    "\n",
    "def randomErase(img, prob=True):\n",
    "    # random erasing\n",
    "    # https://github.com/yu4u/cutout-random-erasing\n",
    "    p = 0.5\n",
    "    s_l = 0.02\n",
    "    s_h = 0.4\n",
    "    r_1 = 0.3\n",
    "    r_2 = 1 / 0.3\n",
    "    v_l = 0\n",
    "    v_h = 255\n",
    "    input_size=size[0]\n",
    "    if prob==False or np.random.random()<p:\n",
    "\n",
    "        while True:\n",
    "            s = np.random.uniform(s_l, s_h) * input_size * input_size\n",
    "            r = np.random.uniform(r_1, r_2)\n",
    "            w = int(np.sqrt(s / r))\n",
    "            h = int(np.sqrt(s * r))\n",
    "            left = np.random.randint(0, input_size)\n",
    "            top = np.random.randint(0, input_size)\n",
    "            if left + w <= input_size and top + h <= input_size:\n",
    "                break\n",
    "        c = np.random.uniform(v_l, v_h, (h, w, 3))\n",
    "        img[top : top + h, left : left + w, :] = c\n",
    "    return img"
   ]
  },
  {
   "cell_type": "code",
   "execution_count": 7,
   "metadata": {},
   "outputs": [],
   "source": [
    "class DataLoader(Sequence):\n",
    "    def __init__(self,X,y,training,batch_size=64):\n",
    "        self.training = training\n",
    "        self.batch_size=batch_size\n",
    "        self.X=X\n",
    "        self.y=y\n",
    "\n",
    "    def __len__(self):\n",
    "        return int(np.ceil(self.X.shape[0] / self.batch_size))\n",
    "\n",
    "\n",
    "    def __getitem__(self, i):\n",
    "        _imgs=self.X[i * self.batch_size:(i + 1) * self.batch_size,:,:]\n",
    "        imgs=[]\n",
    "        for img in _imgs:\n",
    "            imgs.append(transformImg(img))\n",
    "        \n",
    "        imgs=np.asarray(imgs).astype(np.float32)\n",
    "        \n",
    "        \n",
    "        ret_y=[]\n",
    "        for label in labels:\n",
    "            ret_y.append(to_categorical(self.y[i * self.batch_size:(i + 1) * self.batch_size][label],num_classes=len(set(y[label]))))\n",
    "    \n",
    "    \n",
    "        #mix up\n",
    "        if self.training and np.random.random()<0.8:\n",
    "        #if self.training:\n",
    "            r= np.random.permutation(imgs.shape[0])\n",
    "            imgs2=deepcopy(imgs)[r]\n",
    "            grapheme=ret_y[0]\n",
    "            vowel=ret_y[1]\n",
    "            consonant=ret_y[2]\n",
    "            grapheme2=deepcopy(grapheme)[r]\n",
    "            vowel2=deepcopy(vowel)[r]\n",
    "            consonant2=deepcopy(consonant)[r]\n",
    "            alpha=np.random.rand(imgs.shape[0])\n",
    "            imgs=np.tile(alpha,(3,*size,1)).T*imgs+np.tile((1-alpha),(3,*size,1)).T*imgs2\n",
    "            grapheme=np.tile(alpha,(168,1)).T*grapheme+np.tile((1-alpha),(168,1)).T*grapheme2\n",
    "            vowel=np.tile(alpha,(11,1)).T*vowel+np.tile((1-alpha),(11,1)).T*vowel2\n",
    "            consonant=np.tile(alpha,(7,1)).T*consonant+np.tile((1-alpha),(7,1)).T*consonant2\n",
    "            grapheme=grapheme.astype(np.float32)\n",
    "            vowel=vowel.astype(np.float32)\n",
    "            consonant=consonant.astype(np.float32)\n",
    "            ret_y=[grapheme,vowel,consonant]\n",
    "            \n",
    "        if self.training:\n",
    "            imgs = [randomErase(img) for img in imgs]\n",
    "        imgs = np.asarray(imgs).astype(np.float32)/255.0\n",
    "            \n",
    "\n",
    "        return imgs, ret_y\n",
    "\n"
   ]
  },
  {
   "cell_type": "code",
   "execution_count": 8,
   "metadata": {},
   "outputs": [],
   "source": [
    "def getResBased(cat=168):\n",
    "    model =  ResNet152V2(weights=\"imagenet\", include_top=False)\n",
    "    x = model.output\n",
    "    x = GlobalAveragePooling2D()(x)\n",
    "    x = Dense(256, activation=\"relu\")(x)\n",
    "    classifier = Dense(cat, activation=\"softmax\")(x)\n",
    "    model = Model(inputs=model.input, outputs=classifier)\n",
    "    return model\n",
    "\n",
    "def getDenseBased(cat=168):\n",
    "    model =  DenseNet121(weights=\"imagenet\", include_top=False)\n",
    "    x = model.output\n",
    "    x = GlobalAveragePooling2D()(x)\n",
    "    x = Dense(256, activation=\"relu\")(x)\n",
    "    classifier = Dense(cat, activation=\"softmax\")(x)\n",
    "    model = Model(inputs=model.input, outputs=classifier)\n",
    "    return model\n",
    "\n",
    "def getMultiResBased():\n",
    "    model =  ResNet152V2(weights=\"imagenet\", include_top=False)\n",
    "    x = model.output\n",
    "    x = GlobalAveragePooling2D()(x)\n",
    "    x = Dense(256, activation=\"relu\")(x)\n",
    "    grapheme = Dense(168, activation=\"softmax\")(x)\n",
    "    vowel = Dense(11,activation=\"softmax\")(x)\n",
    "    consonant = Dense(7, activation=\"softmax\")(x)\n",
    "    model = Model(inputs=model.input, outputs=[grapheme,vowel,consonant])\n",
    "    return model\n",
    "\n",
    "def getMultiDenseBased():\n",
    "    model =  DenseNet169(weights=\"imagenet\", include_top=False)\n",
    "    x = model.output\n",
    "    x = GlobalAveragePooling2D()(x)\n",
    "    x = Dense(256, activation=\"relu\")(x)\n",
    "    grapheme = Dense(168, activation=\"softmax\")(x)\n",
    "    vowel = Dense(11,activation=\"softmax\")(x)\n",
    "    consonant = Dense(7, activation=\"softmax\")(x)\n",
    "    model = Model(inputs=model.input, outputs=[grapheme,vowel,consonant])\n",
    "    return model\n",
    "\n",
    "\n",
    "def getMultiXceptionBased():\n",
    "    model =  Xception(weights=\"imagenet\", include_top=False)\n",
    "    x = model.output\n",
    "    x = GlobalAveragePooling2D()(x)\n",
    "    x = Dense(256, activation=\"relu\")(x)\n",
    "    grapheme = Dense(168, activation=\"softmax\")(x)\n",
    "    vowel = Dense(11,activation=\"softmax\")(x)\n",
    "    consonant = Dense(7, activation=\"softmax\")(x)\n",
    "    model = Model(inputs=model.input, outputs=[grapheme,vowel,consonant])\n",
    "    return model\n",
    "\n",
    "\n",
    "def getMultiMobileBased():\n",
    "    model =  MobileNetV2(weights=\"imagenet\", include_top=False)\n",
    "    x = model.output\n",
    "    x = GlobalAveragePooling2D()(x)\n",
    "    x = Dense(256, activation=\"relu\")(x)\n",
    "    grapheme = Dense(168, activation=\"softmax\")(x)\n",
    "    vowel = Dense(11,activation=\"softmax\")(x)\n",
    "    consonant = Dense(7, activation=\"softmax\")(x)\n",
    "    model = Model(inputs=model.input, outputs=[grapheme,vowel,consonant])\n",
    "    return model"
   ]
  },
  {
   "cell_type": "code",
   "execution_count": 9,
   "metadata": {},
   "outputs": [],
   "source": [
    "X_train, X_test, y_train, y_test = train_test_split(df.values.reshape(-1,137,236),y,train_size=0.9,random_state=8000)"
   ]
  },
  {
   "cell_type": "code",
   "execution_count": 10,
   "metadata": {},
   "outputs": [],
   "source": [
    "early_stopping =  EarlyStopping(monitor='val_loss', min_delta=0.0, patience=20)\n",
    "checkpoint = ModelCheckpoint(filepath=\"weightsXceptiontwice-epoch{epoch:04}.h5\")"
   ]
  },
  {
   "cell_type": "code",
   "execution_count": 11,
   "metadata": {},
   "outputs": [
    {
     "name": "stdout",
     "output_type": "stream",
     "text": [
      "compiled\n",
      "Epoch 1/40\n",
      "2825/2825 [==============================] - 1076s 381ms/step - loss: 7.1291 - dense_2_loss: 2.7293 - dense_3_loss: 1.0345 - dense_4_loss: 0.6361 - dense_2_acc: 0.5048 - dense_3_acc: 0.7675 - dense_4_acc: 0.8406 - val_loss: 1.6748 - val_dense_2_loss: 0.8316 - val_dense_3_loss: 0.3891 - val_dense_4_loss: 0.1720 - val_dense_2_acc: 0.7964 - val_dense_3_acc: 0.9025 - val_dense_4_acc: 0.9585\n",
      "Epoch 2/40\n",
      "2825/2825 [==============================] - 1045s 370ms/step - loss: 5.5620 - dense_2_loss: 2.0925 - dense_3_loss: 0.8487 - dense_4_loss: 0.5282 - dense_2_acc: 0.6898 - dense_3_acc: 0.8304 - dense_4_acc: 0.8831 - val_loss: 1.3055 - val_dense_2_loss: 0.4691 - val_dense_3_loss: 0.1784 - val_dense_4_loss: 0.1361 - val_dense_2_acc: 0.8718 - val_dense_3_acc: 0.9555 - val_dense_4_acc: 0.9626\n",
      "Epoch 3/40\n",
      " 182/2825 [>.............................] - ETA: 15:42 - loss: 6.1834 - dense_2_loss: 2.3111 - dense_3_loss: 0.9552 - dense_4_loss: 0.6060 - dense_2_acc: 0.6937 - dense_3_acc: 0.8219 - dense_4_acc: 0.8735"
     ]
    },
    {
     "name": "stderr",
     "output_type": "stream",
     "text": [
      "IOPub data rate exceeded.\n",
      "The notebook server will temporarily stop sending output\n",
      "to the client in order to avoid crashing it.\n",
      "To change this limit, set the config variable\n",
      "`--NotebookApp.iopub_data_rate_limit`.\n",
      "\n",
      "Current values:\n",
      "NotebookApp.iopub_data_rate_limit=1000000.0 (bytes/sec)\n",
      "NotebookApp.rate_limit_window=3.0 (secs)\n",
      "\n"
     ]
    },
    {
     "name": "stdout",
     "output_type": "stream",
     "text": [
      "2825/2825 [==============================] - 1044s 369ms/step - loss: 5.1805 - dense_2_loss: 1.9454 - dense_3_loss: 0.7888 - dense_4_loss: 0.5009 - dense_2_acc: 0.7154 - dense_3_acc: 0.8397 - dense_4_acc: 0.8876 - val_loss: 0.5133 - val_dense_2_loss: 0.3807 - val_dense_3_loss: 0.1320 - val_dense_4_loss: 0.1082 - val_dense_2_acc: 0.8985 - val_dense_3_acc: 0.9677 - val_dense_4_acc: 0.9721\n",
      "Epoch 4/40\n",
      "2825/2825 [==============================] - 1046s 370ms/step - loss: 4.9271 - dense_2_loss: 1.8464 - dense_3_loss: 0.7514 - dense_4_loss: 0.4830 - dense_2_acc: 0.7264 - dense_3_acc: 0.8416 - dense_4_acc: 0.8913 - val_loss: 0.6963 - val_dense_2_loss: 0.3392 - val_dense_3_loss: 0.1303 - val_dense_4_loss: 0.1232 - val_dense_2_acc: 0.9088 - val_dense_3_acc: 0.9707 - val_dense_4_acc: 0.9715\n",
      "Epoch 5/40\n",
      "2825/2825 [==============================] - 1045s 370ms/step - loss: 4.7127 - dense_2_loss: 1.7607 - dense_3_loss: 0.7234 - dense_4_loss: 0.4679 - dense_2_acc: 0.7342 - dense_3_acc: 0.8468 - dense_4_acc: 0.8931 - val_loss: 0.5507 - val_dense_2_loss: 0.2677 - val_dense_3_loss: 0.0894 - val_dense_4_loss: 0.0906 - val_dense_2_acc: 0.9297 - val_dense_3_acc: 0.9791 - val_dense_4_acc: 0.9755\n",
      "Epoch 6/40\n",
      "2825/2825 [==============================] - 1043s 369ms/step - loss: 4.5297 - dense_2_loss: 1.6874 - dense_3_loss: 0.6997 - dense_4_loss: 0.4553 - dense_2_acc: 0.7397 - dense_3_acc: 0.8511 - dense_4_acc: 0.8956 - val_loss: 0.8279 - val_dense_2_loss: 0.2658 - val_dense_3_loss: 0.0848 - val_dense_4_loss: 0.0887 - val_dense_2_acc: 0.9296 - val_dense_3_acc: 0.9809 - val_dense_4_acc: 0.9787\n",
      "Epoch 7/40\n",
      "2825/2825 [==============================] - 1043s 369ms/step - loss: 4.3821 - dense_2_loss: 1.6279 - dense_3_loss: 0.6811 - dense_4_loss: 0.4452 - dense_2_acc: 0.7452 - dense_3_acc: 0.8554 - dense_4_acc: 0.8987 - val_loss: 0.5803 - val_dense_2_loss: 0.2819 - val_dense_3_loss: 0.0803 - val_dense_4_loss: 0.0777 - val_dense_2_acc: 0.9278 - val_dense_3_acc: 0.9825 - val_dense_4_acc: 0.9810\n",
      "Epoch 8/40\n",
      "2825/2825 [==============================] - 1043s 369ms/step - loss: 4.2369 - dense_2_loss: 1.5687 - dense_3_loss: 0.6618 - dense_4_loss: 0.4377 - dense_2_acc: 0.7509 - dense_3_acc: 0.8591 - dense_4_acc: 0.9013 - val_loss: 0.9221 - val_dense_2_loss: 0.2342 - val_dense_3_loss: 0.0704 - val_dense_4_loss: 0.0805 - val_dense_2_acc: 0.9392 - val_dense_3_acc: 0.9841 - val_dense_4_acc: 0.9794\n",
      "Epoch 9/40\n",
      "2825/2825 [==============================] - 1042s 369ms/step - loss: 4.1389 - dense_2_loss: 1.5291 - dense_3_loss: 0.6502 - dense_4_loss: 0.4305 - dense_2_acc: 0.7542 - dense_3_acc: 0.8646 - dense_4_acc: 0.9045 - val_loss: 0.5433 - val_dense_2_loss: 0.2359 - val_dense_3_loss: 0.0791 - val_dense_4_loss: 0.0762 - val_dense_2_acc: 0.9403 - val_dense_3_acc: 0.9818 - val_dense_4_acc: 0.9807\n",
      "Epoch 10/40\n",
      "2825/2825 [==============================] - 1044s 370ms/step - loss: 4.0160 - dense_2_loss: 1.4785 - dense_3_loss: 0.6364 - dense_4_loss: 0.4227 - dense_2_acc: 0.7585 - dense_3_acc: 0.8688 - dense_4_acc: 0.9060 - val_loss: 0.8073 - val_dense_2_loss: 0.2383 - val_dense_3_loss: 0.0858 - val_dense_4_loss: 0.0884 - val_dense_2_acc: 0.9407 - val_dense_3_acc: 0.9816 - val_dense_4_acc: 0.9794\n",
      "Epoch 11/40\n",
      "2825/2825 [==============================] - 1043s 369ms/step - loss: 3.9207 - dense_2_loss: 1.4392 - dense_3_loss: 0.6259 - dense_4_loss: 0.4164 - dense_2_acc: 0.7618 - dense_3_acc: 0.8716 - dense_4_acc: 0.9083 - val_loss: 0.5372 - val_dense_2_loss: 0.2079 - val_dense_3_loss: 0.0673 - val_dense_4_loss: 0.0650 - val_dense_2_acc: 0.9452 - val_dense_3_acc: 0.9848 - val_dense_4_acc: 0.9831\n",
      "Epoch 12/40\n",
      "2825/2825 [==============================] - 1044s 370ms/step - loss: 3.8483 - dense_2_loss: 1.4097 - dense_3_loss: 0.6175 - dense_4_loss: 0.4113 - dense_2_acc: 0.7634 - dense_3_acc: 0.8749 - dense_4_acc: 0.9098 - val_loss: 0.3949 - val_dense_2_loss: 0.2034 - val_dense_3_loss: 0.0634 - val_dense_4_loss: 0.0599 - val_dense_2_acc: 0.9459 - val_dense_3_acc: 0.9846 - val_dense_4_acc: 0.9845\n",
      "Epoch 13/40\n",
      "2825/2825 [==============================] - 1043s 369ms/step - loss: 3.7684 - dense_2_loss: 1.3768 - dense_3_loss: 0.6091 - dense_4_loss: 0.4057 - dense_2_acc: 0.7670 - dense_3_acc: 0.8772 - dense_4_acc: 0.9127 - val_loss: 0.2606 - val_dense_2_loss: 0.1924 - val_dense_3_loss: 0.0650 - val_dense_4_loss: 0.0644 - val_dense_2_acc: 0.9519 - val_dense_3_acc: 0.9855 - val_dense_4_acc: 0.9840\n",
      "Epoch 14/40\n",
      "2825/2825 [==============================] - 1045s 370ms/step - loss: 3.7025 - dense_2_loss: 1.3497 - dense_3_loss: 0.6012 - dense_4_loss: 0.4019 - dense_2_acc: 0.7697 - dense_3_acc: 0.8798 - dense_4_acc: 0.9134 - val_loss: 0.4300 - val_dense_2_loss: 0.2032 - val_dense_3_loss: 0.0815 - val_dense_4_loss: 0.0613 - val_dense_2_acc: 0.9484 - val_dense_3_acc: 0.9851 - val_dense_4_acc: 0.9844\n",
      "Epoch 15/40\n",
      "2825/2825 [==============================] - 1044s 369ms/step - loss: 3.6334 - dense_2_loss: 1.3206 - dense_3_loss: 0.5957 - dense_4_loss: 0.3964 - dense_2_acc: 0.7741 - dense_3_acc: 0.8829 - dense_4_acc: 0.9168 - val_loss: 0.3992 - val_dense_2_loss: 0.1820 - val_dense_3_loss: 0.0639 - val_dense_4_loss: 0.0580 - val_dense_2_acc: 0.9500 - val_dense_3_acc: 0.9851 - val_dense_4_acc: 0.9852\n",
      "Epoch 16/40\n",
      "2825/2825 [==============================] - 1043s 369ms/step - loss: 3.5742 - dense_2_loss: 1.2960 - dense_3_loss: 0.5879 - dense_4_loss: 0.3943 - dense_2_acc: 0.7763 - dense_3_acc: 0.8855 - dense_4_acc: 0.9167 - val_loss: 0.4508 - val_dense_2_loss: 0.1946 - val_dense_3_loss: 0.0641 - val_dense_4_loss: 0.0546 - val_dense_2_acc: 0.9494 - val_dense_3_acc: 0.9848 - val_dense_4_acc: 0.9860\n",
      "Epoch 17/40\n",
      "2825/2825 [==============================] - 1042s 369ms/step - loss: 3.5278 - dense_2_loss: 1.2773 - dense_3_loss: 0.5812 - dense_4_loss: 0.3919 - dense_2_acc: 0.7775 - dense_3_acc: 0.8859 - dense_4_acc: 0.9177 - val_loss: 0.2190 - val_dense_2_loss: 0.1855 - val_dense_3_loss: 0.0598 - val_dense_4_loss: 0.0569 - val_dense_2_acc: 0.9512 - val_dense_3_acc: 0.9867 - val_dense_4_acc: 0.9857\n",
      "Epoch 18/40\n",
      "2825/2825 [==============================] - 1043s 369ms/step - loss: 3.4707 - dense_2_loss: 1.2538 - dense_3_loss: 0.5757 - dense_4_loss: 0.3873 - dense_2_acc: 0.7813 - dense_3_acc: 0.8890 - dense_4_acc: 0.9194 - val_loss: 0.2517 - val_dense_2_loss: 0.1735 - val_dense_3_loss: 0.0586 - val_dense_4_loss: 0.0501 - val_dense_2_acc: 0.9536 - val_dense_3_acc: 0.9869 - val_dense_4_acc: 0.9867\n",
      "Epoch 19/40\n",
      "2825/2825 [==============================] - 1042s 369ms/step - loss: 3.4102 - dense_2_loss: 1.2291 - dense_3_loss: 0.5705 - dense_4_loss: 0.3816 - dense_2_acc: 0.7838 - dense_3_acc: 0.8895 - dense_4_acc: 0.9217 - val_loss: 0.3275 - val_dense_2_loss: 0.1687 - val_dense_3_loss: 0.0593 - val_dense_4_loss: 0.0540 - val_dense_2_acc: 0.9540 - val_dense_3_acc: 0.9872 - val_dense_4_acc: 0.9865\n",
      "Epoch 20/40\n",
      "2825/2825 [==============================] - 1044s 369ms/step - loss: 3.3789 - dense_2_loss: 1.2146 - dense_3_loss: 0.5677 - dense_4_loss: 0.3819 - dense_2_acc: 0.7847 - dense_3_acc: 0.8907 - dense_4_acc: 0.9210 - val_loss: 0.3665 - val_dense_2_loss: 0.1683 - val_dense_3_loss: 0.0533 - val_dense_4_loss: 0.0508 - val_dense_2_acc: 0.9559 - val_dense_3_acc: 0.9874 - val_dense_4_acc: 0.9871\n",
      "Epoch 21/40\n",
      "2825/2825 [==============================] - 1043s 369ms/step - loss: 3.3401 - dense_2_loss: 1.2000 - dense_3_loss: 0.5619 - dense_4_loss: 0.3782 - dense_2_acc: 0.7869 - dense_3_acc: 0.8931 - dense_4_acc: 0.9239 - val_loss: 0.2009 - val_dense_2_loss: 0.1698 - val_dense_3_loss: 0.0579 - val_dense_4_loss: 0.0514 - val_dense_2_acc: 0.9562 - val_dense_3_acc: 0.9869 - val_dense_4_acc: 0.9870\n",
      "Epoch 22/40\n",
      "2825/2825 [==============================] - 1041s 368ms/step - loss: 3.2985 - dense_2_loss: 1.1825 - dense_3_loss: 0.5574 - dense_4_loss: 0.3761 - dense_2_acc: 0.7885 - dense_3_acc: 0.8954 - dense_4_acc: 0.9242 - val_loss: 0.1417 - val_dense_2_loss: 0.1712 - val_dense_3_loss: 0.0536 - val_dense_4_loss: 0.0468 - val_dense_2_acc: 0.9547 - val_dense_3_acc: 0.9879 - val_dense_4_acc: 0.9883\n",
      "Epoch 23/40\n"
     ]
    },
    {
     "name": "stdout",
     "output_type": "stream",
     "text": [
      "2825/2825 [==============================] - 1042s 369ms/step - loss: 3.2615 - dense_2_loss: 1.1678 - dense_3_loss: 0.5535 - dense_4_loss: 0.3724 - dense_2_acc: 0.7902 - dense_3_acc: 0.8955 - dense_4_acc: 0.9260 - val_loss: 0.2640 - val_dense_2_loss: 0.1593 - val_dense_3_loss: 0.0547 - val_dense_4_loss: 0.0482 - val_dense_2_acc: 0.9594 - val_dense_3_acc: 0.9874 - val_dense_4_acc: 0.9880\n",
      "Epoch 24/40\n",
      "2825/2825 [==============================] - 1045s 370ms/step - loss: 3.2286 - dense_2_loss: 1.1541 - dense_3_loss: 0.5500 - dense_4_loss: 0.3703 - dense_2_acc: 0.7903 - dense_3_acc: 0.8979 - dense_4_acc: 0.9263 - val_loss: 0.2999 - val_dense_2_loss: 0.1774 - val_dense_3_loss: 0.0573 - val_dense_4_loss: 0.0488 - val_dense_2_acc: 0.9536 - val_dense_3_acc: 0.9864 - val_dense_4_acc: 0.9874\n",
      "Epoch 25/40\n",
      "2825/2825 [==============================] - 1042s 369ms/step - loss: 3.1956 - dense_2_loss: 1.1382 - dense_3_loss: 0.5480 - dense_4_loss: 0.3711 - dense_2_acc: 0.7928 - dense_3_acc: 0.8981 - dense_4_acc: 0.9255 - val_loss: 0.5271 - val_dense_2_loss: 0.1670 - val_dense_3_loss: 0.0567 - val_dense_4_loss: 0.0492 - val_dense_2_acc: 0.9572 - val_dense_3_acc: 0.9869 - val_dense_4_acc: 0.9881\n",
      "Epoch 26/40\n",
      "2825/2825 [==============================] - 1041s 369ms/step - loss: 3.1611 - dense_2_loss: 1.1254 - dense_3_loss: 0.5427 - dense_4_loss: 0.3677 - dense_2_acc: 0.7951 - dense_3_acc: 0.8987 - dense_4_acc: 0.9258 - val_loss: 0.3468 - val_dense_2_loss: 0.1727 - val_dense_3_loss: 0.0569 - val_dense_4_loss: 0.0499 - val_dense_2_acc: 0.9535 - val_dense_3_acc: 0.9876 - val_dense_4_acc: 0.9875\n",
      "Epoch 27/40\n",
      "2825/2825 [==============================] - 1045s 370ms/step - loss: 3.1374 - dense_2_loss: 1.1166 - dense_3_loss: 0.5419 - dense_4_loss: 0.3624 - dense_2_acc: 0.7970 - dense_3_acc: 0.9000 - dense_4_acc: 0.9288 - val_loss: 0.3203 - val_dense_2_loss: 0.1841 - val_dense_3_loss: 0.0593 - val_dense_4_loss: 0.0532 - val_dense_2_acc: 0.9538 - val_dense_3_acc: 0.9874 - val_dense_4_acc: 0.9872\n",
      "Epoch 28/40\n",
      "2825/2825 [==============================] - 1043s 369ms/step - loss: 3.1102 - dense_2_loss: 1.1037 - dense_3_loss: 0.5402 - dense_4_loss: 0.3626 - dense_2_acc: 0.7991 - dense_3_acc: 0.8999 - dense_4_acc: 0.9286 - val_loss: 0.1115 - val_dense_2_loss: 0.1665 - val_dense_3_loss: 0.0579 - val_dense_4_loss: 0.0488 - val_dense_2_acc: 0.9556 - val_dense_3_acc: 0.9869 - val_dense_4_acc: 0.9877\n",
      "Epoch 29/40\n",
      "2825/2825 [==============================] - 1044s 370ms/step - loss: 3.0889 - dense_2_loss: 1.0953 - dense_3_loss: 0.5360 - dense_4_loss: 0.3621 - dense_2_acc: 0.7985 - dense_3_acc: 0.9013 - dense_4_acc: 0.9284 - val_loss: 0.2025 - val_dense_2_loss: 0.1586 - val_dense_3_loss: 0.0536 - val_dense_4_loss: 0.0520 - val_dense_2_acc: 0.9584 - val_dense_3_acc: 0.9883 - val_dense_4_acc: 0.9871\n",
      "Epoch 30/40\n",
      "2825/2825 [==============================] - 1042s 369ms/step - loss: 3.0647 - dense_2_loss: 1.0866 - dense_3_loss: 0.5315 - dense_4_loss: 0.3599 - dense_2_acc: 0.8004 - dense_3_acc: 0.9041 - dense_4_acc: 0.9306 - val_loss: 0.3866 - val_dense_2_loss: 0.1680 - val_dense_3_loss: 0.0465 - val_dense_4_loss: 0.0462 - val_dense_2_acc: 0.9583 - val_dense_3_acc: 0.9888 - val_dense_4_acc: 0.9887\n",
      "Epoch 31/40\n",
      "2825/2825 [==============================] - 1043s 369ms/step - loss: 3.0461 - dense_2_loss: 1.0781 - dense_3_loss: 0.5305 - dense_4_loss: 0.3594 - dense_2_acc: 0.8019 - dense_3_acc: 0.9038 - dense_4_acc: 0.9294 - val_loss: 0.4020 - val_dense_2_loss: 0.1549 - val_dense_3_loss: 0.0485 - val_dense_4_loss: 0.0445 - val_dense_2_acc: 0.9607 - val_dense_3_acc: 0.9884 - val_dense_4_acc: 0.9886\n",
      "Epoch 32/40\n",
      "2825/2825 [==============================] - 1042s 369ms/step - loss: 3.0150 - dense_2_loss: 1.0642 - dense_3_loss: 0.5292 - dense_4_loss: 0.3575 - dense_2_acc: 0.8039 - dense_3_acc: 0.9036 - dense_4_acc: 0.9298 - val_loss: 0.3435 - val_dense_2_loss: 0.1656 - val_dense_3_loss: 0.0513 - val_dense_4_loss: 0.0467 - val_dense_2_acc: 0.9594 - val_dense_3_acc: 0.9885 - val_dense_4_acc: 0.9890\n",
      "Epoch 33/40\n",
      "2825/2825 [==============================] - 1041s 369ms/step - loss: 2.9975 - dense_2_loss: 1.0578 - dense_3_loss: 0.5260 - dense_4_loss: 0.3559 - dense_2_acc: 0.8036 - dense_3_acc: 0.9045 - dense_4_acc: 0.9315 - val_loss: 0.2955 - val_dense_2_loss: 0.1598 - val_dense_3_loss: 0.0542 - val_dense_4_loss: 0.0456 - val_dense_2_acc: 0.9600 - val_dense_3_acc: 0.9885 - val_dense_4_acc: 0.9893\n",
      "Epoch 34/40\n",
      "2825/2825 [==============================] - 1042s 369ms/step - loss: 2.9777 - dense_2_loss: 1.0490 - dense_3_loss: 0.5246 - dense_4_loss: 0.3551 - dense_2_acc: 0.8050 - dense_3_acc: 0.9050 - dense_4_acc: 0.9315 - val_loss: 0.0519 - val_dense_2_loss: 0.1562 - val_dense_3_loss: 0.0511 - val_dense_4_loss: 0.0496 - val_dense_2_acc: 0.9589 - val_dense_3_acc: 0.9883 - val_dense_4_acc: 0.9878\n",
      "Epoch 35/40\n",
      "2825/2825 [==============================] - 1043s 369ms/step - loss: 2.9657 - dense_2_loss: 1.0439 - dense_3_loss: 0.5228 - dense_4_loss: 0.3549 - dense_2_acc: 0.8060 - dense_3_acc: 0.9054 - dense_4_acc: 0.9320 - val_loss: 0.1859 - val_dense_2_loss: 0.1601 - val_dense_3_loss: 0.0469 - val_dense_4_loss: 0.0446 - val_dense_2_acc: 0.9588 - val_dense_3_acc: 0.9894 - val_dense_4_acc: 0.9885\n",
      "Epoch 36/40\n",
      "2825/2825 [==============================] - 1049s 371ms/step - loss: 2.9418 - dense_2_loss: 1.0340 - dense_3_loss: 0.5214 - dense_4_loss: 0.3524 - dense_2_acc: 0.8083 - dense_3_acc: 0.9066 - dense_4_acc: 0.9328 - val_loss: 0.5644 - val_dense_2_loss: 0.1669 - val_dense_3_loss: 0.0537 - val_dense_4_loss: 0.0479 - val_dense_2_acc: 0.9583 - val_dense_3_acc: 0.9882 - val_dense_4_acc: 0.9887\n",
      "Epoch 37/40\n",
      "2825/2825 [==============================] - 1045s 370ms/step - loss: 2.9277 - dense_2_loss: 1.0289 - dense_3_loss: 0.5183 - dense_4_loss: 0.3517 - dense_2_acc: 0.8086 - dense_3_acc: 0.9079 - dense_4_acc: 0.9327 - val_loss: 0.3127 - val_dense_2_loss: 0.1796 - val_dense_3_loss: 0.0572 - val_dense_4_loss: 0.0486 - val_dense_2_acc: 0.9533 - val_dense_3_acc: 0.9872 - val_dense_4_acc: 0.9884\n",
      "Epoch 38/40\n",
      "2825/2825 [==============================] - 1045s 370ms/step - loss: 2.9114 - dense_2_loss: 1.0227 - dense_3_loss: 0.5162 - dense_4_loss: 0.3498 - dense_2_acc: 0.8100 - dense_3_acc: 0.9084 - dense_4_acc: 0.9332 - val_loss: 0.3114 - val_dense_2_loss: 0.1693 - val_dense_3_loss: 0.0556 - val_dense_4_loss: 0.0474 - val_dense_2_acc: 0.9594 - val_dense_3_acc: 0.9886 - val_dense_4_acc: 0.9884\n",
      "Epoch 39/40\n",
      "2825/2825 [==============================] - 1045s 370ms/step - loss: 2.8938 - dense_2_loss: 1.0150 - dense_3_loss: 0.5149 - dense_4_loss: 0.3489 - dense_2_acc: 0.8114 - dense_3_acc: 0.9088 - dense_4_acc: 0.9342 - val_loss: 0.3148 - val_dense_2_loss: 0.1646 - val_dense_3_loss: 0.0569 - val_dense_4_loss: 0.0433 - val_dense_2_acc: 0.9598 - val_dense_3_acc: 0.9883 - val_dense_4_acc: 0.9891\n",
      "Epoch 40/40\n",
      "2825/2825 [==============================] - 1043s 369ms/step - loss: 2.8735 - dense_2_loss: 1.0075 - dense_3_loss: 0.5117 - dense_4_loss: 0.3467 - dense_2_acc: 0.8118 - dense_3_acc: 0.9100 - dense_4_acc: 0.9348 - val_loss: 0.3158 - val_dense_2_loss: 0.1560 - val_dense_3_loss: 0.0469 - val_dense_4_loss: 0.0449 - val_dense_2_acc: 0.9623 - val_dense_3_acc: 0.9894 - val_dense_4_acc: 0.9891\n"
     ]
    }
   ],
   "source": [
    "train_gen = DataLoader(X_train, y_train, training=True, batch_size=64)\n",
    "valid_gen = DataLoader(X_test, y_test, training=False, batch_size=64)\n",
    "model = getMultiXceptionBased()\n",
    "model.compile(optimizer=Adam(), metrics=[\"acc\"], loss=\"categorical_crossentropy\", loss_weights=[2.,1.,1.])\n",
    "print(\"compiled\")\n",
    "model.fit_generator(train_gen, validation_data=valid_gen, epochs=40, callbacks=[early_stopping, checkpoint], workers=multiprocessing.cpu_count(), use_multiprocessing=True)\n",
    "model.save(\"multixception.h5\")"
   ]
  },
  {
   "cell_type": "code",
   "execution_count": null,
   "metadata": {},
   "outputs": [
    {
     "name": "stdout",
     "output_type": "stream",
     "text": [
      "Epoch 1/40\n",
      "2825/2825 [==============================] - 1055s 374ms/step - loss: 2.8670 - dense_2_loss: 1.0038 - dense_3_loss: 0.5122 - dense_4_loss: 0.3472 - dense_2_acc: 0.8128 - dense_3_acc: 0.9104 - dense_4_acc: 0.9350 - val_loss: 0.3762 - val_dense_2_loss: 0.1607 - val_dense_3_loss: 0.0469 - val_dense_4_loss: 0.0443 - val_dense_2_acc: 0.9619 - val_dense_3_acc: 0.9891 - val_dense_4_acc: 0.9890\n",
      "Epoch 1/40Epoch 2/40\n",
      "2825/2825 [==============================] - 1051s 372ms/step - loss: 2.8408 - dense_2_loss: 0.9933 - dense_3_loss: 0.5095 - dense_4_loss: 0.3447 - dense_2_acc: 0.8146 - dense_3_acc: 0.9113 - dense_4_acc: 0.9366 - val_loss: 0.1502 - val_dense_2_loss: 0.1682 - val_dense_3_loss: 0.0472 - val_dense_4_loss: 0.0478 - val_dense_2_acc: 0.9583 - val_dense_3_acc: 0.9886 - val_dense_4_acc: 0.9880\n",
      "Epoch 3/40\n",
      "2825/2825 [==============================] - 1046s 370ms/step - loss: 2.8341 - dense_2_loss: 0.9913 - dense_3_loss: 0.5076 - dense_4_loss: 0.3439 - dense_2_acc: 0.8153 - dense_3_acc: 0.9129 - dense_4_acc: 0.9358 - val_loss: 0.1119 - val_dense_2_loss: 0.1580 - val_dense_3_loss: 0.0470 - val_dense_4_loss: 0.0437 - val_dense_2_acc: 0.9607 - val_dense_3_acc: 0.9884 - val_dense_4_acc: 0.9888\n",
      "Epoch 4/40\n",
      "2825/2825 [==============================] - 995s 352ms/step - loss: 2.8166 - dense_2_loss: 0.9832 - dense_3_loss: 0.5061 - dense_4_loss: 0.3440 - dense_2_acc: 0.8175 - dense_3_acc: 0.9132 - dense_4_acc: 0.9369 - val_loss: 0.3384 - val_dense_2_loss: 0.1750 - val_dense_3_loss: 0.0516 - val_dense_4_loss: 0.0530 - val_dense_2_acc: 0.9596 - val_dense_3_acc: 0.9889 - val_dense_4_acc: 0.9869\n",
      "Epoch 5/40\n",
      "2825/2825 [==============================] - 952s 337ms/step - loss: 2.8123 - dense_2_loss: 0.9810 - dense_3_loss: 0.5071 - dense_4_loss: 0.3432 - dense_2_acc: 0.8175 - dense_3_acc: 0.9120 - dense_4_acc: 0.9352 - val_loss: 0.1395 - val_dense_2_loss: 0.1624 - val_dense_3_loss: 0.0505 - val_dense_4_loss: 0.0470 - val_dense_2_acc: 0.9622 - val_dense_3_acc: 0.9883 - val_dense_4_acc: 0.9884\n",
      "Epoch 6/40\n",
      "1844/2825 [==================>...........] - ETA: 5:18 - loss: 2.8105 - dense_2_loss: 0.9751 - dense_3_loss: 0.5127 - dense_4_loss: 0.3475 - dense_2_acc: 0.8213 - dense_3_acc: 0.9139 - dense_4_acc: 0.9381"
     ]
    },
    {
     "name": "stderr",
     "output_type": "stream",
     "text": [
      "IOPub data rate exceeded.\n",
      "The notebook server will temporarily stop sending output\n",
      "to the client in order to avoid crashing it.\n",
      "To change this limit, set the config variable\n",
      "`--NotebookApp.iopub_data_rate_limit`.\n",
      "\n",
      "Current values:\n",
      "NotebookApp.iopub_data_rate_limit=1000000.0 (bytes/sec)\n",
      "NotebookApp.rate_limit_window=3.0 (secs)\n",
      "\n"
     ]
    },
    {
     "name": "stdout",
     "output_type": "stream",
     "text": [
      "2825/2825 [==============================] - 949s 336ms/step - loss: 2.7576 - dense_2_loss: 0.9589 - dense_3_loss: 0.5017 - dense_4_loss: 0.3382 - dense_2_acc: 0.8207 - dense_3_acc: 0.9142 - dense_4_acc: 0.9378 - val_loss: 0.1551 - val_dense_2_loss: 0.1511 - val_dense_3_loss: 0.0467 - val_dense_4_loss: 0.0459 - val_dense_2_acc: 0.9621 - val_dense_3_acc: 0.9897 - val_dense_4_acc: 0.9886\n",
      "Epoch 10/40\n",
      "1871/2825 [==================>...........] - ETA: 5:10 - loss: 2.7826 - dense_2_loss: 0.9643 - dense_3_loss: 0.5106 - dense_4_loss: 0.3433 - dense_2_acc: 0.8231 - dense_3_acc: 0.9169 - dense_4_acc: 0.9410"
     ]
    },
    {
     "name": "stderr",
     "output_type": "stream",
     "text": [
      "IOPub data rate exceeded.\n",
      "The notebook server will temporarily stop sending output\n",
      "to the client in order to avoid crashing it.\n",
      "To change this limit, set the config variable\n",
      "`--NotebookApp.iopub_data_rate_limit`.\n",
      "\n",
      "Current values:\n",
      "NotebookApp.iopub_data_rate_limit=1000000.0 (bytes/sec)\n",
      "NotebookApp.rate_limit_window=3.0 (secs)\n",
      "\n"
     ]
    },
    {
     "name": "stdout",
     "output_type": "stream",
     "text": [
      "2825/2825 [==============================] - 950s 336ms/step - loss: 2.7313 - dense_2_loss: 0.9471 - dense_3_loss: 0.4990 - dense_4_loss: 0.3381 - dense_2_acc: 0.8242 - dense_3_acc: 0.9152 - dense_4_acc: 0.9396 - val_loss: 0.2073 - val_dense_2_loss: 0.1731 - val_dense_3_loss: 0.0481 - val_dense_4_loss: 0.0481 - val_dense_2_acc: 0.9600 - val_dense_3_acc: 0.9899 - val_dense_4_acc: 0.9891\n",
      "Epoch 13/40\n",
      "2698/2825 [===========================>..] - ETA: 41s - loss: 2.7552 - dense_2_loss: 0.9551 - dense_3_loss: 0.5033 - dense_4_loss: 0.3418 - dense_2_acc: 0.8235 - dense_3_acc: 0.9157 - dense_4_acc: 0.9390"
     ]
    },
    {
     "name": "stderr",
     "output_type": "stream",
     "text": [
      "IOPub data rate exceeded.\n",
      "The notebook server will temporarily stop sending output\n",
      "to the client in order to avoid crashing it.\n",
      "To change this limit, set the config variable\n",
      "`--NotebookApp.iopub_data_rate_limit`.\n",
      "\n",
      "Current values:\n",
      "NotebookApp.iopub_data_rate_limit=1000000.0 (bytes/sec)\n",
      "NotebookApp.rate_limit_window=3.0 (secs)\n",
      "\n"
     ]
    },
    {
     "name": "stdout",
     "output_type": "stream",
     "text": [
      "2825/2825 [==============================] - 948s 336ms/step - loss: 2.6915 - dense_2_loss: 0.9310 - dense_3_loss: 0.4934 - dense_4_loss: 0.3361 - dense_2_acc: 0.8275 - dense_3_acc: 0.9171 - dense_4_acc: 0.9400 - val_loss: 0.3189 - val_dense_2_loss: 0.1577 - val_dense_3_loss: 0.0448 - val_dense_4_loss: 0.0451 - val_dense_2_acc: 0.9633 - val_dense_3_acc: 0.9900 - val_dense_4_acc: 0.9893\n",
      "Epoch 17/40\n",
      "2628/2825 [==========================>...] - ETA: 1:04 - loss: 2.7063 - dense_2_loss: 0.9351 - dense_3_loss: 0.5001 - dense_4_loss: 0.3361 - dense_2_acc: 0.8276 - dense_3_acc: 0.9168 - dense_4_acc: 0.9402"
     ]
    },
    {
     "name": "stderr",
     "output_type": "stream",
     "text": [
      "IOPub data rate exceeded.\n",
      "The notebook server will temporarily stop sending output\n",
      "to the client in order to avoid crashing it.\n",
      "To change this limit, set the config variable\n",
      "`--NotebookApp.iopub_data_rate_limit`.\n",
      "\n",
      "Current values:\n",
      "NotebookApp.iopub_data_rate_limit=1000000.0 (bytes/sec)\n",
      "NotebookApp.rate_limit_window=3.0 (secs)\n",
      "\n"
     ]
    },
    {
     "name": "stdout",
     "output_type": "stream",
     "text": [
      "2825/2825 [==============================] - 950s 336ms/step - loss: 2.6635 - dense_2_loss: 0.9202 - dense_3_loss: 0.4906 - dense_4_loss: 0.3325 - dense_2_acc: 0.8295 - dense_3_acc: 0.9179 - dense_4_acc: 0.9414 - val_loss: 0.1217 - val_dense_2_loss: 0.1795 - val_dense_3_loss: 0.0570 - val_dense_4_loss: 0.0481 - val_dense_2_acc: 0.9592 - val_dense_3_acc: 0.9889 - val_dense_4_acc: 0.9884\n",
      "Epoch 20/40\n",
      "2825/2825 [==============================] - 951s 337ms/step - loss: 2.6638 - dense_2_loss: 0.9205 - dense_3_loss: 0.4908 - dense_4_loss: 0.3319 - dense_2_acc: 0.8300 - dense_3_acc: 0.9188 - dense_4_acc: 0.9422 - val_loss: 0.2332 - val_dense_2_loss: 0.1671 - val_dense_3_loss: 0.0494 - val_dense_4_loss: 0.0464 - val_dense_2_acc: 0.9643 - val_dense_3_acc: 0.9904 - val_dense_4_acc: 0.9895\n",
      "Epoch 21/40\n",
      "2825/2825 [==============================] - 949s 336ms/step - loss: 2.6527 - dense_2_loss: 0.9150 - dense_3_loss: 0.4902 - dense_4_loss: 0.3325 - dense_2_acc: 0.8302 - dense_3_acc: 0.9187 - dense_4_acc: 0.9414 - val_loss: 0.3130 - val_dense_2_loss: 0.1799 - val_dense_3_loss: 0.0505 - val_dense_4_loss: 0.0487 - val_dense_2_acc: 0.9611 - val_dense_3_acc: 0.9894 - val_dense_4_acc: 0.9892\n",
      "Epoch 22/40\n",
      "2825/2825 [==============================] - 950s 336ms/step - loss: 2.6439 - dense_2_loss: 0.9115 - dense_3_loss: 0.4897 - dense_4_loss: 0.3313 - dense_2_acc: 0.8316 - dense_3_acc: 0.9198 - dense_4_acc: 0.9414 - val_loss: 0.1061 - val_dense_2_loss: 0.1586 - val_dense_3_loss: 0.0519 - val_dense_4_loss: 0.0452 - val_dense_2_acc: 0.9647 - val_dense_3_acc: 0.9891 - val_dense_4_acc: 0.9894\n",
      "Epoch 23/40\n",
      "2825/2825 [==============================] - 948s 335ms/step - loss: 2.6293 - dense_2_loss: 0.9051 - dense_3_loss: 0.4880 - dense_4_loss: 0.3310 - dense_2_acc: 0.8325 - dense_3_acc: 0.9204 - dense_4_acc: 0.9416 - val_loss: 0.2086 - val_dense_2_loss: 0.1737 - val_dense_3_loss: 0.0505 - val_dense_4_loss: 0.0461 - val_dense_2_acc: 0.9645 - val_dense_3_acc: 0.9894 - val_dense_4_acc: 0.9898\n",
      "Epoch 24/40\n",
      "2825/2825 [==============================] - 950s 336ms/step - loss: 2.6221 - dense_2_loss: 0.9032 - dense_3_loss: 0.4863 - dense_4_loss: 0.3294 - dense_2_acc: 0.8328 - dense_3_acc: 0.9208 - dense_4_acc: 0.9430 - val_loss: 0.0310 - val_dense_2_loss: 0.1687 - val_dense_3_loss: 0.0504 - val_dense_4_loss: 0.0453 - val_dense_2_acc: 0.9630 - val_dense_3_acc: 0.9898 - val_dense_4_acc: 0.9883\n",
      "Epoch 25/40\n",
      "2825/2825 [==============================] - 958s 339ms/step - loss: 2.6264 - dense_2_loss: 0.9050 - dense_3_loss: 0.4866 - dense_4_loss: 0.3298 - dense_2_acc: 0.8331 - dense_3_acc: 0.9209 - dense_4_acc: 0.9419 - val_loss: 0.0390 - val_dense_2_loss: 0.1636 - val_dense_3_loss: 0.0500 - val_dense_4_loss: 0.0456 - val_dense_2_acc: 0.9632 - val_dense_3_acc: 0.9895 - val_dense_4_acc: 0.9894\n",
      "Epoch 26/40\n",
      "2825/2825 [==============================] - 949s 336ms/step - loss: 2.6112 - dense_2_loss: 0.8973 - dense_3_loss: 0.4866 - dense_4_loss: 0.3299 - dense_2_acc: 0.8335 - dense_3_acc: 0.9203 - dense_4_acc: 0.9423 - val_loss: 0.0365 - val_dense_2_loss: 0.1720 - val_dense_3_loss: 0.0508 - val_dense_4_loss: 0.0471 - val_dense_2_acc: 0.9618 - val_dense_3_acc: 0.9898 - val_dense_4_acc: 0.9888\n",
      "Epoch 27/40\n",
      "2825/2825 [==============================] - 950s 336ms/step - loss: 2.6042 - dense_2_loss: 0.8945 - dense_3_loss: 0.4861 - dense_4_loss: 0.3290 - dense_2_acc: 0.8357 - dense_3_acc: 0.9207 - dense_4_acc: 0.9428 - val_loss: 0.0364 - val_dense_2_loss: 0.1723 - val_dense_3_loss: 0.0571 - val_dense_4_loss: 0.0493 - val_dense_2_acc: 0.9631 - val_dense_3_acc: 0.9888 - val_dense_4_acc: 0.9890\n",
      "Epoch 28/40\n",
      "2825/2825 [==============================] - 949s 336ms/step - loss: 2.5950 - dense_2_loss: 0.8925 - dense_3_loss: 0.4832 - dense_4_loss: 0.3269 - dense_2_acc: 0.8356 - dense_3_acc: 0.9223 - dense_4_acc: 0.9434 - val_loss: 0.0457 - val_dense_2_loss: 0.1771 - val_dense_3_loss: 0.0556 - val_dense_4_loss: 0.0498 - val_dense_2_acc: 0.9619 - val_dense_3_acc: 0.9882 - val_dense_4_acc: 0.9883\n",
      "Epoch 29/40\n",
      "2825/2825 [==============================] - 951s 337ms/step - loss: 2.5922 - dense_2_loss: 0.8913 - dense_3_loss: 0.4835 - dense_4_loss: 0.3261 - dense_2_acc: 0.8352 - dense_3_acc: 0.9227 - dense_4_acc: 0.9427 - val_loss: 0.0557 - val_dense_2_loss: 0.1796 - val_dense_3_loss: 0.0489 - val_dense_4_loss: 0.0442 - val_dense_2_acc: 0.9633 - val_dense_3_acc: 0.9898 - val_dense_4_acc: 0.9903\n",
      "Epoch 30/40\n",
      "2824/2825 [============================>.] - ETA: 0s - loss: 2.5874 - dense_2_loss: 0.8881 - dense_3_loss: 0.4832 - dense_4_loss: 0.3279 - dense_2_acc: 0.8360 - dense_3_acc: 0.9217 - dense_4_acc: 0.9427"
     ]
    }
   ],
   "source": [
    "model.fit_generator(train_gen, validation_data=valid_gen, epochs=40, callbacks=[early_stopping, checkpoint], workers=multiprocessing.cpu_count(), use_multiprocessing=True)\n",
    "model.save(\"multixception.h5\")"
   ]
  },
  {
   "cell_type": "code",
   "execution_count": null,
   "metadata": {},
   "outputs": [],
   "source": []
  }
 ],
 "metadata": {
  "kernelspec": {
   "display_name": "Python 3",
   "language": "python",
   "name": "python3"
  },
  "language_info": {
   "codemirror_mode": {
    "name": "ipython",
    "version": 3
   },
   "file_extension": ".py",
   "mimetype": "text/x-python",
   "name": "python",
   "nbconvert_exporter": "python",
   "pygments_lexer": "ipython3",
   "version": "3.6.5"
  }
 },
 "nbformat": 4,
 "nbformat_minor": 2
}
