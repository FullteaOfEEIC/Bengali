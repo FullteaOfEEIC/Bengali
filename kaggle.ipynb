{
 "cells": [
  {
   "cell_type": "code",
   "execution_count": 1,
   "metadata": {},
   "outputs": [
    {
     "name": "stderr",
     "output_type": "stream",
     "text": [
      "Using TensorFlow backend.\n"
     ]
    }
   ],
   "source": [
    "import pandas as pd\n",
    "import numpy as np\n",
    "import cv2\n",
    "import os\n",
    "import re\n",
    "import sys\n",
    "from collections import Counter\n",
    "import seaborn as sns\n",
    "import pyarrow as pa\n",
    "import pyarrow.parquet as pq\n",
    "import matplotlib.pyplot as plt\n",
    "from tqdm.notebook import tqdm\n",
    "from multiprocessing import Pool\n",
    "\n",
    "import xgboost as xgb\n",
    "from sklearn.model_selection import train_test_split\n",
    "from sklearn.metrics import accuracy_score, confusion_matrix\n",
    "from sklearn.ensemble import RandomForestClassifier\n",
    "\n",
    "from keras.models import Sequential, Model\n",
    "from keras.layers import Dense, Dropout, Flatten, Conv2D, MaxPool2D, BatchNormalization, GlobalAveragePooling2D\n",
    "from keras.optimizers import Adam\n",
    "from keras.utils import to_categorical\n",
    "from keras.callbacks import EarlyStopping\n",
    "from keras.applications.resnet_v2 import ResNet50V2\n",
    "\n",
    "\n",
    "from datetime import datetime\n",
    "import pickle\n",
    "import scipy.stats as stats\n",
    "import os\n",
    "import sklearn.metrics"
   ]
  },
  {
   "cell_type": "code",
   "execution_count": 2,
   "metadata": {},
   "outputs": [],
   "source": [
    "y = pd.read_csv(\"data/train.csv\")\n",
    "yEval = pd.read_csv(\"data/test.csv\")\n",
    "classMap = pd.read_csv(\"data/class_map.csv\")"
   ]
  },
  {
   "cell_type": "code",
   "execution_count": 3,
   "metadata": {},
   "outputs": [],
   "source": [
    "labels = [\"grapheme_root\",\"vowel_diacritic\",\"consonant_diacritic\"]"
   ]
  },
  {
   "cell_type": "code",
   "execution_count": 4,
   "metadata": {},
   "outputs": [],
   "source": [
    "y = y.set_index(\"image_id\")"
   ]
  },
  {
   "cell_type": "code",
   "execution_count": 5,
   "metadata": {},
   "outputs": [],
   "source": [
    "tables = [pq.read_table('data/train_image_data_{0}.parquet'.format(i)) for i in range(4)]\n",
    "tables = [table.to_pandas() for table in tables]\n",
    "df = pd.concat(tables)\n",
    "df = df.set_index(\"image_id\")\n",
    "tables = [pq.read_table('data/test_image_data_{0}.parquet'.format(i)) for i in range(4)]\n",
    "tables = [table.to_pandas() for table in tables]\n",
    "dfEval = pd.concat(tables)\n",
    "dfEval = dfEval.set_index(\"image_id\")\n",
    "del tables"
   ]
  },
  {
   "cell_type": "code",
   "execution_count": 6,
   "metadata": {},
   "outputs": [
    {
     "data": {
      "application/vnd.jupyter.widget-view+json": {
       "model_id": "e4498d7494f44eaeaa2499d475c4add4",
       "version_major": 2,
       "version_minor": 0
      },
      "text/plain": [
       "HBox(children=(FloatProgress(value=0.0, max=200840.0), HTML(value='')))"
      ]
     },
     "metadata": {},
     "output_type": "display_data"
    },
    {
     "name": "stdout",
     "output_type": "stream",
     "text": [
      "\n"
     ]
    }
   ],
   "source": [
    "size=(60,60)\n",
    "\n",
    "def transformImg(img):\n",
    "    img=255-img\n",
    "    mu = cv2.moments(img, False)\n",
    "    x, y= mu[\"m10\"]/mu[\"m00\"] , mu[\"m01\"]/mu[\"m00\"]\n",
    "    M = np.float32([[1,0,(236/2)-x],[0,1,(137/2)-y]])\n",
    "    img = cv2.warpAffine(img,M,(img.shape[1],img.shape[0]))\n",
    "    img = cv2.resize(img, (size[0],size[1]))\n",
    "    return img\n",
    "\n",
    "imgs=df.values.reshape(-1,137,236)\n",
    "with Pool() as p:\n",
    "    imap=p.imap(transformImg,imgs)\n",
    "    imgs=list(tqdm(imap,total=imgs.shape[0]))\n",
    "\n",
    "X = np.asarray(imgs).astype(np.float32)/255.0\n",
    "X = X.reshape(-1,size[0],size[1],1)"
   ]
  },
  {
   "cell_type": "code",
   "execution_count": 7,
   "metadata": {},
   "outputs": [
    {
     "data": {
      "text/plain": [
       "<matplotlib.image.AxesImage at 0x7faca1f34c50>"
      ]
     },
     "execution_count": 7,
     "metadata": {},
     "output_type": "execute_result"
    },
    {
     "data": {
      "image/png": "[encoded data removed]",
      "text/plain": [
       "<Figure size 432x288 with 1 Axes>"
      ]
     },
     "metadata": {
      "needs_background": "light"
     },
     "output_type": "display_data"
    }
   ],
   "source": [
    "plt.imshow(X[15].reshape(size))"
   ]
  },
  {
   "cell_type": "code",
   "execution_count": 8,
   "metadata": {},
   "outputs": [],
   "source": [
    "def getModel(cat=168):\n",
    "    model = Sequential()\n",
    "    model.add(Conv2D(32, kernel_size=(3, 3), activation='relu', input_shape=(*size,1)))\n",
    "    model.add(Conv2D(64, (3, 3), activation='relu'))\n",
    "    model.add(MaxPool2D(pool_size=(2, 2)))\n",
    "    model.add(Dropout(0.25))\n",
    "    model.add(Flatten())\n",
    "    model.add(Dense(256, activation='relu'))\n",
    "    model.add(Dropout(0.5))\n",
    "    model.add(Dense(cat, activation='softmax'))\n",
    "    return model\n",
    "\n",
    "def getModel2(cat=168):\n",
    "    model = Sequential()\n",
    "    model.add(Conv2D(filters=32, kernel_size=(3, 3), padding='SAME', activation='relu', input_shape=(*size, 1)))\n",
    "    model.add(Conv2D(filters=32, kernel_size=(3, 3), padding='SAME', activation='relu'))\n",
    "    model.add(BatchNormalization(momentum=0.15))\n",
    "    model.add(MaxPool2D(pool_size=(2, 2)))\n",
    "    model.add(Conv2D(filters=32, kernel_size=(5, 5), padding='SAME', activation='relu'))\n",
    "    model.add(Dropout(rate=0.3))\n",
    "\n",
    "    model.add(Conv2D(filters=64, kernel_size=(3, 3), padding='SAME', activation='relu'))\n",
    "    model.add(Conv2D(filters=64, kernel_size=(3, 3), padding='SAME', activation='relu'))\n",
    "    model.add(BatchNormalization(momentum=0.15))\n",
    "    model.add(MaxPool2D(pool_size=(2, 2)))\n",
    "    model.add(Conv2D(filters=64, kernel_size=(5, 5), padding='SAME', activation='relu'))\n",
    "    model.add(Dropout(rate=0.3))\n",
    "\n",
    "    model.add(Flatten())\n",
    "    model.add(Dense(256, activation = \"relu\"))\n",
    "    model.add(Dropout(0.10))\n",
    "    model.add(Dense(192, activation = \"relu\"))\n",
    "    model.add(Dropout(0.10))\n",
    "    model.add(Dense(cat, activation = \"softmax\"))\n",
    "    return model\n",
    "\n",
    "def getModel3(cat=168):\n",
    "    model = Sequential()\n",
    "    model.add(Conv2D(filters=32, kernel_size=(3, 3), padding='SAME', activation='relu', input_shape=(*size, 1)))\n",
    "    model.add(Conv2D(filters=32, kernel_size=(3, 3), padding='SAME', activation='relu'))\n",
    "    model.add(BatchNormalization(momentum=0.15))\n",
    "    model.add(MaxPool2D(pool_size=(2, 2)))\n",
    "    model.add(Conv2D(filters=32, kernel_size=(5, 5), padding='SAME', activation='relu'))\n",
    "    model.add(Dropout(rate=0.3))\n",
    "\n",
    "    model.add(Conv2D(filters=64, kernel_size=(3, 3), padding='SAME', activation='relu'))\n",
    "    model.add(Conv2D(filters=64, kernel_size=(3, 3), padding='SAME', activation='relu'))\n",
    "    model.add(BatchNormalization(momentum=0.15))\n",
    "    model.add(MaxPool2D(pool_size=(2, 2)))\n",
    "    model.add(Conv2D(filters=64, kernel_size=(5, 5), padding='SAME', activation='relu'))\n",
    "    model.add(Dropout(rate=0.3))\n",
    "\n",
    "    model.add(Conv2D(filters=128, kernel_size=(3, 3), padding='SAME', activation='relu'))\n",
    "    model.add(Conv2D(filters=128, kernel_size=(3, 3), padding='SAME', activation='relu'))\n",
    "    model.add(BatchNormalization(momentum=0.15))\n",
    "    model.add(MaxPool2D(pool_size=(2, 2)))\n",
    "    model.add(Conv2D(filters=128, kernel_size=(5, 5), padding='SAME', activation='relu'))\n",
    "    model.add(Dropout(rate=0.3))\n",
    "\n",
    "    model.add(Flatten())\n",
    "    model.add(Dense(512, activation = \"relu\"))\n",
    "    model.add(Dropout(0.10))\n",
    "    model.add(Dense(256, activation = \"relu\"))\n",
    "    model.add(Dropout(0.10))\n",
    "    model.add(Dense(192, activation = \"relu\"))\n",
    "    model.add(Dropout(0.10))\n",
    "    model.add(Dense(cat, activation = \"softmax\"))\n",
    "    return model\n",
    "\n",
    "\n",
    "def getModel4(cat=168):\n",
    "    model = Sequential()\n",
    "    model.add(Conv2D(filters=32, kernel_size=(3, 3), padding='SAME', activation='relu', input_shape=(*size, 1)))\n",
    "    model.add(Conv2D(filters=32, kernel_size=(3, 3), padding='SAME', activation='relu'))\n",
    "    model.add(BatchNormalization(momentum=0.15))\n",
    "    model.add(MaxPool2D(pool_size=(2, 2)))\n",
    "    model.add(Conv2D(filters=32, kernel_size=(5, 5), padding='SAME', activation='relu'))\n",
    "    model.add(Dropout(rate=0.3))\n",
    "\n",
    "    model.add(Conv2D(filters=64, kernel_size=(3, 3), padding='SAME', activation='relu'))\n",
    "    model.add(Conv2D(filters=64, kernel_size=(3, 3), padding='SAME', activation='relu'))\n",
    "    model.add(BatchNormalization(momentum=0.15))\n",
    "    model.add(MaxPool2D(pool_size=(2, 2)))\n",
    "    model.add(Conv2D(filters=64, kernel_size=(5, 5), padding='SAME', activation='relu'))\n",
    "    model.add(Dropout(rate=0.3))\n",
    "\n",
    "    model.add(Conv2D(filters=128, kernel_size=(3, 3), padding='SAME', activation='relu'))\n",
    "    model.add(Conv2D(filters=128, kernel_size=(3, 3), padding='SAME', activation='relu'))\n",
    "    model.add(BatchNormalization(momentum=0.15))\n",
    "    model.add(MaxPool2D(pool_size=(2, 2)))\n",
    "    model.add(Conv2D(filters=128, kernel_size=(5, 5), padding='SAME', activation='relu'))\n",
    "    model.add(Dropout(rate=0.3))\n",
    "    \n",
    "    model.add(Conv2D(filters=256, kernel_size=(3, 3), padding='SAME', activation='relu'))\n",
    "    model.add(Conv2D(filters=256, kernel_size=(3, 3), padding='SAME', activation='relu'))\n",
    "    model.add(BatchNormalization(momentum=0.15))\n",
    "    model.add(MaxPool2D(pool_size=(2, 2)))\n",
    "    model.add(Conv2D(filters=256, kernel_size=(5, 5), padding='SAME', activation='relu'))\n",
    "    model.add(Dropout(rate=0.3))\n",
    "\n",
    "    model.add(Flatten())\n",
    "    model.add(Dense(512, activation = \"relu\"))\n",
    "    model.add(Dropout(0.10))\n",
    "    model.add(Dense(256, activation = \"relu\"))\n",
    "    model.add(Dropout(0.10))\n",
    "    model.add(Dense(192, activation = \"relu\"))\n",
    "    model.add(Dropout(0.10))\n",
    "    model.add(Dense(cat, activation = \"softmax\"))\n",
    "    return model\n",
    "\n",
    "\n",
    "def getModel5(cat=168):\n",
    "    model = Sequential()\n",
    "    model.add(Conv2D(filters=32, kernel_size=(3, 3), padding='SAME', activation='relu', input_shape=(*size, 1)))\n",
    "    model.add(Conv2D(filters=32, kernel_size=(3, 3), padding='SAME', activation='relu'))\n",
    "    model.add(BatchNormalization(momentum=0.15))\n",
    "    model.add(MaxPool2D(pool_size=(2, 2)))\n",
    "    model.add(Conv2D(filters=32, kernel_size=(5, 5), padding='SAME', activation='relu'))\n",
    "    model.add(Dropout(rate=0.3))\n",
    "\n",
    "    model.add(Conv2D(filters=64, kernel_size=(3, 3), padding='SAME', activation='relu'))\n",
    "    model.add(Conv2D(filters=64, kernel_size=(3, 3), padding='SAME', activation='relu'))\n",
    "    model.add(BatchNormalization(momentum=0.15))\n",
    "    model.add(MaxPool2D(pool_size=(2, 2)))\n",
    "    model.add(Conv2D(filters=64, kernel_size=(5, 5), padding='SAME', activation='relu'))\n",
    "    model.add(Dropout(rate=0.3))\n",
    "\n",
    "    model.add(Conv2D(filters=128, kernel_size=(3, 3), padding='SAME', activation='relu'))\n",
    "    model.add(Conv2D(filters=128, kernel_size=(3, 3), padding='SAME', activation='relu'))\n",
    "    model.add(BatchNormalization(momentum=0.15))\n",
    "    model.add(MaxPool2D(pool_size=(2, 2)))\n",
    "    model.add(Conv2D(filters=128, kernel_size=(5, 5), padding='SAME', activation='relu'))\n",
    "    model.add(Dropout(rate=0.3))\n",
    "    \n",
    "    model.add(Conv2D(filters=256, kernel_size=(3, 3), padding='SAME', activation='relu'))\n",
    "    model.add(Conv2D(filters=256, kernel_size=(3, 3), padding='SAME', activation='relu'))\n",
    "    model.add(BatchNormalization(momentum=0.15))\n",
    "    model.add(MaxPool2D(pool_size=(2, 2)))\n",
    "    model.add(Conv2D(filters=256, kernel_size=(5, 5), padding='SAME', activation='relu'))\n",
    "    model.add(Dropout(rate=0.3))\n",
    "    \n",
    "    model.add(Conv2D(filters=512, kernel_size=(3, 3), padding='SAME', activation='relu'))\n",
    "    model.add(Conv2D(filters=512, kernel_size=(3, 3), padding='SAME', activation='relu'))\n",
    "    model.add(BatchNormalization(momentum=0.15))\n",
    "    model.add(MaxPool2D(pool_size=(2, 2)))\n",
    "    model.add(Conv2D(filters=512, kernel_size=(5, 5), padding='SAME', activation='relu'))\n",
    "    model.add(Dropout(rate=0.3))\n",
    "\n",
    "    model.add(Flatten())\n",
    "    model.add(Dense(1024, activation = \"relu\"))\n",
    "    model.add(Dropout(0.10))\n",
    "    model.add(Dense(512, activation = \"relu\"))\n",
    "    model.add(Dropout(0.10))\n",
    "    model.add(Dense(cat, activation = \"softmax\"))\n",
    "    return model\n",
    "\n"
   ]
  },
  {
   "cell_type": "code",
   "execution_count": 9,
   "metadata": {},
   "outputs": [],
   "source": [
    "X_train, X_test, y_train, y_test = train_test_split(X,y,train_size=0.9)"
   ]
  },
  {
   "cell_type": "code",
   "execution_count": 10,
   "metadata": {},
   "outputs": [],
   "source": [
    "early_stopping =  EarlyStopping(monitor='val_loss', min_delta=0.0, patience=3)"
   ]
  },
  {
   "cell_type": "code",
   "execution_count": null,
   "metadata": {},
   "outputs": [
    {
     "data": {
      "application/vnd.jupyter.widget-view+json": {
       "model_id": "da7278fdffcb4ba380bbbe30285be4e4",
       "version_major": 2,
       "version_minor": 0
      },
      "text/plain": [
       "HBox(children=(FloatProgress(value=0.0), HTML(value='')))"
      ]
     },
     "metadata": {},
     "output_type": "display_data"
    },
    {
     "data": {
      "application/vnd.jupyter.widget-view+json": {
       "model_id": "b03f515a515047459376e9d9a91194cf",
       "version_major": 2,
       "version_minor": 0
      },
      "text/plain": [
       "HBox(children=(FloatProgress(value=0.0, max=3.0), HTML(value='')))"
      ]
     },
     "metadata": {},
     "output_type": "display_data"
    },
    {
     "name": "stdout",
     "output_type": "stream",
     "text": [
      "Train on 180756 samples, validate on 20084 samples\n",
      "Epoch 1/20\n",
      "180756/180756 [==============================] - 58s 322us/step - loss: 3.3267 - acc: 0.2105 - val_loss: 2.0474 - val_acc: 0.4758\n",
      "Epoch 2/20\n",
      "180756/180756 [==============================] - 58s 319us/step - loss: 2.3253 - acc: 0.3833 - val_loss: 1.5988 - val_acc: 0.5774\n",
      "Epoch 3/20\n",
      "180756/180756 [==============================] - 58s 320us/step - loss: 1.9622 - acc: 0.4629 - val_loss: 1.3910 - val_acc: 0.6316\n",
      "Epoch 4/20\n",
      "180756/180756 [==============================] - 58s 322us/step - loss: 1.7479 - acc: 0.5140 - val_loss: 1.2316 - val_acc: 0.6749\n",
      "Epoch 5/20\n",
      "180756/180756 [==============================] - 58s 319us/step - loss: 1.5824 - acc: 0.5536 - val_loss: 1.1889 - val_acc: 0.6765\n",
      "Epoch 6/20\n",
      "180756/180756 [==============================] - 58s 320us/step - loss: 1.4575 - acc: 0.5834 - val_loss: 1.1099 - val_acc: 0.6976\n",
      "Epoch 7/20\n",
      "180756/180756 [==============================] - 58s 319us/step - loss: 1.3663 - acc: 0.6058 - val_loss: 1.0946 - val_acc: 0.7050\n",
      "Epoch 8/20\n",
      "180756/180756 [==============================] - 58s 322us/step - loss: 1.2931 - acc: 0.6231 - val_loss: 1.0803 - val_acc: 0.7057\n",
      "Epoch 9/20\n",
      "180756/180756 [==============================] - 58s 321us/step - loss: 1.2276 - acc: 0.6393 - val_loss: 1.0375 - val_acc: 0.7177\n",
      "Epoch 10/20\n",
      "180756/180756 [==============================] - 58s 319us/step - loss: 1.1703 - acc: 0.6545 - val_loss: 1.0167 - val_acc: 0.7241\n",
      "Epoch 11/20\n",
      "180756/180756 [==============================] - 58s 321us/step - loss: 1.1224 - acc: 0.6666 - val_loss: 1.0190 - val_acc: 0.7241\n",
      "Epoch 12/20\n",
      "180756/180756 [==============================] - 58s 318us/step - loss: 1.0826 - acc: 0.6760 - val_loss: 1.0092 - val_acc: 0.7291\n",
      "Epoch 13/20\n",
      "180756/180756 [==============================] - 58s 321us/step - loss: 1.0455 - acc: 0.6869 - val_loss: 1.0124 - val_acc: 0.7284\n",
      "Epoch 14/20\n",
      "180756/180756 [==============================] - 58s 320us/step - loss: 1.0155 - acc: 0.6944 - val_loss: 1.0086 - val_acc: 0.7303\n",
      "Epoch 15/20\n",
      "180756/180756 [==============================] - 58s 319us/step - loss: 0.9874 - acc: 0.7028 - val_loss: 1.0003 - val_acc: 0.7304\n",
      "Epoch 16/20\n",
      "180756/180756 [==============================] - 58s 320us/step - loss: 0.9613 - acc: 0.7079 - val_loss: 1.0002 - val_acc: 0.7352\n",
      "Epoch 17/20\n",
      "180756/180756 [==============================] - 58s 319us/step - loss: 0.9429 - acc: 0.7135 - val_loss: 1.0066 - val_acc: 0.7314\n",
      "Epoch 18/20\n",
      "180756/180756 [==============================] - 58s 321us/step - loss: 0.9224 - acc: 0.7197 - val_loss: 1.0003 - val_acc: 0.7369\n",
      "Epoch 19/20\n",
      "180756/180756 [==============================] - 58s 321us/step - loss: 0.9060 - acc: 0.7253 - val_loss: 1.0360 - val_acc: 0.7345\n",
      "Train on 180756 samples, validate on 20084 samples\n",
      "Epoch 1/20\n",
      "180756/180756 [==============================] - 70s 387us/step - loss: 2.5550 - acc: 0.3695 - val_loss: 1.0687 - val_acc: 0.7014\n",
      "Epoch 2/20\n",
      "180756/180756 [==============================] - 69s 380us/step - loss: 1.1048 - acc: 0.6931 - val_loss: 0.6535 - val_acc: 0.8135\n",
      "Epoch 3/20\n",
      "180756/180756 [==============================] - 70s 385us/step - loss: 0.8230 - acc: 0.7708 - val_loss: 0.5410 - val_acc: 0.8460\n",
      "Epoch 4/20\n",
      "180756/180756 [==============================] - 70s 387us/step - loss: 0.6670 - acc: 0.8118 - val_loss: 0.5133 - val_acc: 0.8569\n",
      "Epoch 5/20\n",
      "180756/180756 [==============================] - 70s 387us/step - loss: 0.5834 - acc: 0.8336 - val_loss: 0.4461 - val_acc: 0.8765\n",
      "Epoch 6/20\n",
      "180756/180756 [==============================] - 69s 384us/step - loss: 0.4626 - acc: 0.8681 - val_loss: 0.4229 - val_acc: 0.8807\n",
      "Epoch 9/20\n",
      "180756/180756 [==============================] - 68s 376us/step - loss: 0.4384 - acc: 0.8739 - val_loss: 0.4286 - val_acc: 0.8924\n",
      "Train on 180756 samples, validate on 20084 samples\n",
      "Epoch 1/20\n",
      "160832/180756 [=========================>....] - ETA: 9s - loss: 2.9942 - acc: 0.2812"
     ]
    },
    {
     "name": "stderr",
     "output_type": "stream",
     "text": [
      "IOPub message rate exceeded.\n",
      "The notebook server will temporarily stop sending output\n",
      "to the client in order to avoid crashing it.\n",
      "To change this limit, set the config variable\n",
      "`--NotebookApp.iopub_msg_rate_limit`.\n",
      "\n",
      "Current values:\n",
      "NotebookApp.iopub_msg_rate_limit=1000.0 (msgs/sec)\n",
      "NotebookApp.rate_limit_window=3.0 (secs)\n",
      "\n"
     ]
    },
    {
     "name": "stdout",
     "output_type": "stream",
     "text": [
      "180756/180756 [==============================] - 87s 479us/step - loss: 1.1615 - acc: 0.6868 - val_loss: 0.7194 - val_acc: 0.8041\n",
      "Epoch 3/20\n",
      "180756/180756 [==============================] - 87s 483us/step - loss: 0.8443 - acc: 0.7757 - val_loss: 0.5731 - val_acc: 0.8446\n",
      "Epoch 4/20\n",
      "180756/180756 [==============================] - 87s 481us/step - loss: 0.6946 - acc: 0.8156 - val_loss: 0.5367 - val_acc: 0.8569\n",
      "Epoch 5/20\n",
      " 77408/180756 [===========>..................] - ETA: 47s - loss: 0.6174 - acc: 0.8349"
     ]
    }
   ],
   "source": [
    "for i in tqdm(range(100)):\n",
    "    for label in tqdm(labels):\n",
    "        cat=len(set(y[label]))\n",
    "        for model in [getModel(cat), getModel2(cat), getModel3(cat), getModel4(cat),getModel5(cat),]:\n",
    "            model.compile(optimizer=Adam(), metrics=[\"acc\"],loss=\"categorical_crossentropy\")\n",
    "            model.fit(X_train,to_categorical(y_train[label]),epochs=20,validation_data=(X_test,to_categorical(y_test[label])), callbacks=[early_stopping])\n",
    "            os.makedirs(label,exist_ok=True)\n",
    "            with open('./{0}/{1}.dump'.format(label,int(float(datetime.now().timestamp()))), 'wb') as f:\n",
    "                pickle.dump(model,f)"
   ]
  },
  {
   "cell_type": "code",
   "execution_count": null,
   "metadata": {},
   "outputs": [],
   "source": [
    "ans = pd.DataFrame(index=y_test.index)\n",
    "for label in labels:\n",
    "    y_preds = []\n",
    "    for file in tqdm(os.listdir(\"./{0}\".format(label))):\n",
    "        with open(\"./{0}/{1}\".format(label,file),\"rb\") as f:\n",
    "            model=pickle.load(f)\n",
    "            try:\n",
    "                y_pred = model.predict(X_testl)\n",
    "                y_pred = np.argmax(y_pred, axis=1)\n",
    "                y_preds.append(y_pred)\n",
    "            except:\n",
    "                print(model)\n",
    "    y_preds = np.asarray(y_preds)\n",
    "    y_pred, _ = stats.mode(y_preds,axis=0)\n",
    "    y_pred = y_pred.reshape(-1,)\n",
    "    ans[label] = y_pred"
   ]
  },
  {
   "cell_type": "code",
   "execution_count": null,
   "metadata": {},
   "outputs": [],
   "source": [
    "scores = []\n",
    "for label in labels:\n",
    "    y_true_subset = y_test[label]\n",
    "    y_pred_subset = ans[label]\n",
    "    scores.append(sklearn.metrics.recall_score(\n",
    "        y_true_subset, y_pred_subset, average='macro'))\n",
    "final_score = np.average(scores, weights=[2,1,1])"
   ]
  },
  {
   "cell_type": "code",
   "execution_count": null,
   "metadata": {},
   "outputs": [],
   "source": [
    "final_score"
   ]
  },
  {
   "cell_type": "code",
   "execution_count": null,
   "metadata": {},
   "outputs": [],
   "source": []
  }
 ],
 "metadata": {
  "kernelspec": {
   "display_name": "Python 3",
   "language": "python",
   "name": "python3"
  },
  "language_info": {
   "codemirror_mode": {
    "name": "ipython",
    "version": 3
   },
   "file_extension": ".py",
   "mimetype": "text/x-python",
   "name": "python",
   "nbconvert_exporter": "python",
   "pygments_lexer": "ipython3",
   "version": "3.6.5"
  }
 },
 "nbformat": 4,
 "nbformat_minor": 2
}
